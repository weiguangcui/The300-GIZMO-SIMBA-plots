{
 "cells": [
  {
   "cell_type": "code",
   "execution_count": 2,
   "metadata": {},
   "outputs": [],
   "source": [
    "import matplotlib\n",
    "%matplotlib inline\n",
    "from pylab import *\n",
    "import caesar\n",
    "import h5py, os, sys\n",
    "import yt, pickle, glob\n",
    "from scipy.optimize import curve_fit\n",
    "from scipy.stats import binned_statistic as bst\n",
    "from scipy.stats import binned_statistic_2d as bst2\n",
    "from scipy.signal import savgol_filter as sgf\n",
    "\n",
    "matplotlib.rcParams['xtick.labelsize'] = 18\n",
    "matplotlib.rcParams['ytick.labelsize'] = 18\n",
    "\n",
    "safecolor={\n",
    "    'silver':\"#c0c0c0\",\n",
    "    'gray':\"#808080\",\n",
    "    'black':\"#000000\",\n",
    "    'red':\"#ff0000\",\n",
    "    'maroon':\"#800000\",\n",
    "    'yellow':\"#ffff00\",\n",
    "    'olive':\"#707030\",\n",
    "    'lime':\"#00ee00\",\n",
    "    'green':\"#009000\",\n",
    "    'aqua':\"#00eeee\",\n",
    "    'teal':\"#00a0a0\",\n",
    "    'blue':\"#0000ff\",\n",
    "    'nave':\"#000080\",\n",
    "    'fuchsia':\"#ff00ff\",\n",
    "    'purple':\"#900090\"\n",
    "}"
   ]
  },
  {
   "cell_type": "code",
   "execution_count": 3,
   "metadata": {},
   "outputs": [],
   "source": [
    "# load Yang's data\n",
    "M147=np.loadtxt(\"/home2/weiguang/Project-300-Clusters/optical/Yang-b2-d14.7\",skiprows=1)\n",
    "M150=np.loadtxt(\"/home2/weiguang/Project-300-Clusters/optical/Yang-b2-d15.0\",skiprows=1)\n",
    "M147[:,0] = 10.**(M147[:,0])/0.7/0.7*0.6777\n",
    "M150[:,0] = 10.**(M150[:,0])/0.7/0.7*0.6777"
   ]
  },
  {
   "cell_type": "code",
   "execution_count": 4,
   "metadata": {},
   "outputs": [],
   "source": [
    "#load gadgetX and gadgetmuisc\n",
    "#ID(1) hostHalo(2) Region ID(3) Mvir(4) M_star(5)\n",
    "Mshr=np.load(\"../optical/Music_Satellite.npy\")\n",
    "Xshr=np.load(\"../optical/G3X_Satellite.npy\")"
   ]
  },
  {
   "cell_type": "code",
   "execution_count": 6,
   "metadata": {},
   "outputs": [],
   "source": [
    "#Get M* satellite for GIZMO from AHF\n",
    "GIZMO=np.loadtxt(\"GIZMO-Mass_snap_128-center-cluster.txt\")  \n",
    "if os.path.isfile('./data/GZS_Satellite.npy'):\n",
    "    GZshr=np.load('./data/GZS_Satellite.npy')\n",
    "else:\n",
    "    fpath = \"/home2/weiguang/The300/data/catalogues/AHF/\"\n",
    "\n",
    "    #regionID[0] hID[1] Mvir[2] Xc[3] Yc[4] Zc[5] Rvir[6] fMhires[7] cNFW[8] M500[9] R500[10] fgas[11] f*[12] Mbcg30, 50, 0.1R200 [13-15]\n",
    "    # rr = np.sqrt(np.sum((GIZMO[:,3:6]-np.array([500000,500000,500000]))**2,axis=1))\n",
    "    # GIZMO=GIZMO[(GIZMO[:,2]>4.0e14)&(rr<1800)]\n",
    "    print(GIZMO.shape)\n",
    "\n",
    "    GZshr=[]\n",
    "    ZHid=np.int64(GIZMO[:,1]+0.1)\n",
    "    ZRid=np.int32(GIZMO[:,0]+0.1)\n",
    "    sname=\"/snap_128\"\n",
    "    n=0\n",
    "    for i in np.arange(324):\n",
    "        exts='0000'+str(ZRid[i])\n",
    "        cn = 'NewMDCLUSTER_'+exts[-4:]\n",
    "        f = glob.glob(fpath +\"GIZMO/\"+ cn + \"/GIZMO-NewMDCLUSTER_\" +cn[-4:]+\"*.z0.000.AHF_halos\")[0]\n",
    "        tmpd = np.loadtxt(f, usecols=(0,1,2,3,64)) #ID(1) hostHalo(2) numSubStruct(3) Mvir(4) M_star(65)\n",
    "\n",
    "        tmpd=tmpd[tmpd[:,1] == ZHid[i]]\n",
    "        if tmpd.shape[0]>0:\n",
    "            tmpd[:,2] = i+1\n",
    "            GZshr.extend(tmpd.tolist())\n",
    "        else:\n",
    "            print('error in region: ',i+1,ZHid[i])\n",
    "\n",
    "    GZshr=np.asarray(GZshr)\n",
    "    np.save(\"./data/GZS_Satellite\",GZshr)\n",
    "\n",
    "#HID[0] hostHalo(1) RID[2] Mvir(3) M_star(4)"
   ]
  },
  {
   "cell_type": "code",
   "execution_count": 5,
   "metadata": {},
   "outputs": [],
   "source": [
    "# load Semi galaxies\n",
    "Galc=np.load(\"../optical/Galc_Satellite.npy\") #ID(1) hostHalo(2) Region ID(3) Mvir(4) M_star(5) mag  'g','i','r','u','z'\n",
    "Sag =np.load(\"../optical/Sag_Satellite.npy\")\n",
    "Sage=np.load(\"../optical/Sage_Satellite.npy\")"
   ]
  },
  {
   "cell_type": "code",
   "execution_count": 19,
   "metadata": {},
   "outputs": [
    {
     "data": {
      "text/plain": [
       "((329227, 10), (67494, 10), (65023, 5))"
      ]
     },
     "execution_count": 19,
     "metadata": {},
     "output_type": "execute_result"
    }
   ],
   "source": [
    "Galc.shape,Sag.shape,Sage.shape"
   ]
  },
  {
   "cell_type": "code",
   "execution_count": 7,
   "metadata": {},
   "outputs": [],
   "source": [
    "# For Stellar mass function\n",
    "smb=np.arange(9,13.5,0.1)\n",
    "sbx=(smb[1:]+smb[:-1])/2.0\n",
    "idHMC=np.where(Mshr[:,1]<=1.1)[0]; idHXC=np.where(Xshr[:,1]<=1.1)[0]\n",
    "\n",
    "msmf=np.zeros((len(idHMC),sbx.size),dtype=float); xsmf=np.zeros((len(idHXC),sbx.size),dtype=float)\n",
    "\n",
    "for i,idp in enumerate(idHMC):\n",
    "    ids = (Mshr[:,1]== Mshr[idp,0]) & (Mshr[:,4]>=1.0e9) & (Mshr[:,2]==Mshr[idp,2])\n",
    "    msmf[i,:],x=np.histogram(np.log10(Mshr[ids,4]),bins=smb)\n",
    "\n",
    "for i,idp in enumerate(idHXC):\n",
    "    ids = (Xshr[:,1]== Xshr[idp,0]) & (Xshr[:,4]>=1.0e9) & (Xshr[:,2]==Xshr[idp,2])\n",
    "    xsmf[i,:],x=np.histogram(np.log10(Xshr[ids,4]),bins=smb)\n",
    "    \n",
    "zsmf=np.zeros((GIZMO.shape[0],sbx.size),dtype=float)\n",
    "for i,idp in enumerate(np.int64(GIZMO[:,1]+0.1)):\n",
    "    ids = (np.int64(GZshr[:,1])== idp) & (GZshr[:,4]>=1.0e9) & (GZshr[:,2]==GIZMO[i,0])\n",
    "    zsmf[i,:],x=np.histogram(np.log10(GZshr[ids,4]),bins=smb)"
   ]
  },
  {
   "cell_type": "code",
   "execution_count": 7,
   "metadata": {},
   "outputs": [],
   "source": [
    "# For Stellar mass function -- Semi\n",
    "idHGC=np.where(Galc[:,1]<=1.1)[0]; idHAC=np.where(Sag[:,1]<=1.1)[0]; idHEC=np.where(Sage[:,1]<=1.1)[0]; \n",
    "gsmf=np.zeros((len(idHGC),sbx.size),dtype=float); asmf=np.zeros((len(idHAC),sbx.size),dtype=float)\n",
    "esmf=np.zeros((len(idHEC),sbx.size),dtype=float);\n",
    "\n",
    "for i,idp in enumerate(idHGC):\n",
    "    ids = Galc[:,1]== Galc[idp,0]\n",
    "    gsmf[i,:],x=np.histogram(np.log10(Galc[ids,4]),bins=smb)\n",
    "\n",
    "for i,idp in enumerate(idHAC):\n",
    "    ids = Sag[:,1]== Sag[idp,0]\n",
    "    asmf[i,:],x=np.histogram(np.log10(Sag[ids,4]),bins=smb)\n",
    "\n",
    "for i,idp in enumerate(idHEC):\n",
    "    ids = Sage[:,1]== Sage[idp,0]\n",
    "    esmf[i,:],x=np.histogram(np.log10(Sage[ids,4]),bins=smb)"
   ]
  },
  {
   "cell_type": "code",
   "execution_count": 8,
   "metadata": {},
   "outputs": [],
   "source": [
    "Msmf_m=np.median(msmf*10,axis=0); Msmf_e=np.std(msmf*10,axis=0)\n",
    "Xsmf_m=np.median(xsmf*10,axis=0); Xsmf_e=np.std(xsmf*10,axis=0)\n",
    "Zsmf_m=np.median(zsmf*10,axis=0); Zsmf_e=np.std(zsmf*10,axis=0)"
   ]
  },
  {
   "cell_type": "code",
   "execution_count": 9,
   "metadata": {},
   "outputs": [],
   "source": [
    "Gsmf_m=np.median(gsmf*10,axis=0); Gsmf_e=np.std(gsmf*10,axis=0)\n",
    "Asmf_m=np.median(asmf*10,axis=0); Asmf_e=np.std(asmf*10,axis=0)\n",
    "Esmf_m=np.median(esmf*10,axis=0); Esmf_e=np.std(esmf*10,axis=0)"
   ]
  },
  {
   "cell_type": "code",
   "execution_count": 10,
   "metadata": {},
   "outputs": [
    {
     "data": {
      "image/png": "[encoded data removed]",
      "text/plain": [
       "<Figure size 800x600 with 1 Axes>"
      ]
     },
     "metadata": {},
     "output_type": "display_data"
    }
   ],
   "source": [
    "# Plot Satellite stellar mass function\n",
    "fig=figure(figsize=(8,6))\n",
    "plot(np.log10(M147[4:,0]),M147[4:,1],c='0.5', marker='o',mec='0.5',ms=10,\n",
    "         mfc='none',lw=2,label=\"Yang+18: 14.4 < $h^{-1}_{0.72} M_{\\odot}$ < 14.7\",zorder=-5)\n",
    "fill_between(np.log10(M147[4:,0]),M147[4:,1]+M147[4:,3],M147[4:,1]-M147[4:,3],color='0.5',alpha=0.5)\n",
    "# errorbar(np.log10(M147[4:,0]),M147[4:,1],yerr=M147[4:,3],c='0.5', marker='o',mec='0.5',ms=10,\n",
    "#          mfc='none',lw=2,label=\"Yang+18: 14.4 < $h^{-1}_{0.72} M_{\\odot}$ < 14.7\",zorder=-5)\n",
    "# M147[4:,0]=np.log10(M147[4:,0]); M147[4:,2]=M147[4:,3]\n",
    "\n",
    "plot(np.log10(M150[5:,0]),M150[5:,1],c='k', marker='o',mec='k',ms=10,mfc='none',\n",
    "         lw=2,label=\"Yang+18: 14.7 < $h^{-1}_{0.72} M_{\\odot}$ < 15.0\",zorder=-5)\n",
    "fill_between(np.log10(M150[5:,0]),M150[5:,1]+M150[5:,3],M150[5:,1]-M150[5:,3], color='k',alpha=0.5)\n",
    "# errorbar(np.log10(M150[5:,0]),M150[5:,1],yerr=M150[5:,3],c='k', marker='o',mec='k',ms=10,mfc='none',\n",
    "#          lw=2,label=\"Yang+18: 14.7 < $h^{-1}_{0.72} M_{\\odot}$ < 15.0\",zorder=-5)\n",
    "# M150[5:,0]=np.log10(M150[5:,0]); M150[5:,2]=M150[5:,3]\n",
    "\n",
    "\n",
    "# ids=Msmf_m>0\n",
    "# # errorbar(sbx[ids]+0.02,Msmf_m[ids],yerr=Msmf_e[ids], c='r', marker='o',label=\"GadgetMUSIC\",elinewidth=1)\n",
    "# plot(sbx[ids],Msmf_m[ids], 'ro-', label=\"GADGET-MUSIC\",zorder=9)\n",
    "# # np.savetxt('The300-MUSIC.txt',np.asarray([sbx[ids],Msmf_m[ids]]).T,header='\\log M_* [M_sun/h]    dN/dlogM*')\n",
    "\n",
    "ids=Xsmf_m>0\n",
    "errorbar(sbx[ids],Xsmf_m[ids],yerr=Xsmf_e[ids], c='r', marker='*',label=\"GADGET-X\",elinewidth=1,lw=3,markersize=14,markerfacecolor='none',alpha=0.8)\n",
    "# plot(sbx[ids],Xsmf_m[ids], 'b*-', label=\"GADGET-X\",zorder=11)\n",
    "# ids=CXsmf_m>0\n",
    "# plot(sbx[ids],CXsmf_m[ids],'b^:', label=\"GADGET-X-Ceasar\",zorder=11)\n",
    "# np.savetxt('The300-X.txt',np.asarray([sbx[ids],Xsmf_m[ids]]).T,header='\\log M_* [M_sun/h]    dN/dlogM*')\n",
    "\n",
    "ids=Zsmf_m>0\n",
    "errorbar(sbx[ids],Zsmf_m[ids],yerr=Zsmf_e[ids], c='g', marker='s',label=\"GIZMO-SIMBA\",elinewidth=1,lw=3,markersize=8,alpha=0.8,markerfacecolor='none',)\n",
    "# plot(sbx[ids],Zsmf_m[ids], 'gs-', label=\"GIZMO-SIMBA\",zorder=9)\n",
    "# np.savetxt('The300-X.txt',np.asarray([sbx[ids],Xsmf_m[ids]]).T,header='\\log M_* [M_sun/h]    dN/dlogM*')\n",
    "\n",
    "# ids=CZsmf_m>0\n",
    "# plot(sbx[ids],CZsmf_m[ids], 'gp:', label=\"GIZMO-SIMBA-Ceasar\",zorder=9)\n",
    "\n",
    "\n",
    "#semi galaxies\n",
    "# ids=Gsmf_m>0\n",
    "# # errorbar(sbx[ids],Gsmf_m[ids],yerr=Gsmf_e[ids], c='k', marker='^',linestyle='--',label=\"Galacticus\",elinewidth=1)\n",
    "# plot(sbx[ids],Gsmf_m[ids],'k--',label=\"GALACTICUS\",zorder=9)\n",
    "# # np.savetxt('The300-GALACTICUS.txt',np.asarray([sbx[ids],Gsmf_m[ids]]).T,header='\\log M_* [M_sun/h]    dN/dlogM*')\n",
    "\n",
    "# ids=Asmf_m>0\n",
    "# # errorbar(sbx[ids]+0.04,Asmf_m[ids],yerr=Asmf_e[ids], c='c', marker='<',linestyle=':',label=\"SAG\",elinewidth=1)\n",
    "# plot(sbx[ids],Asmf_m[ids],'c:',label=\"SAG\",zorder=9)\n",
    "# # np.savetxt('The300-SAG.txt',np.asarray([sbx[ids],Asmf_m[ids]]).T,header='\\log M_* [M_sun/h]    dN/dlogM*')\n",
    "\n",
    "# ids=Esmf_m>0\n",
    "# # errorbar(sbx[ids]-0.04,Esmf_m[ids],yerr=Esmf_e[ids], c='g', marker='x',linestyle='-.',label=\"SAGE\",elinewidth=1)\n",
    "# plot(sbx[ids],Esmf_m[ids],'m-.',label=\"SAGE\",zorder=9)\n",
    "\n",
    "\n",
    "legend(ncol=1,fontsize=14)\n",
    "yscale('log')\n",
    "ylim(1,1000)\n",
    "xlim(9.0,11.6)\n",
    "xticks(fontsize=16)\n",
    "yticks(fontsize=16)\n",
    "ylabel(\"$dN / d\\log(M_* [h^{-1} M_{\\odot}])$\",fontsize=22)\n",
    "xlabel(\"$\\log_{10}\\ M_* \\ [h^{-1} M_{\\odot}]$\",fontsize=22)\n",
    "tight_layout()\n",
    "savefig(\"plots/Ssmf-GS.pdf\",dpi=300)"
   ]
  },
  {
   "cell_type": "markdown",
   "metadata": {},
   "source": [
    "# New tests for Caesar galaxies"
   ]
  },
  {
   "cell_type": "code",
   "execution_count": 3,
   "metadata": {
    "collapsed": true,
    "jupyter": {
     "outputs_hidden": true
    },
    "tags": []
   },
   "outputs": [
    {
     "name": "stderr",
     "output_type": "stream",
     "text": [
      "yt : [INFO     ] 2021-04-13 23:08:17,853 Opening /home2/weiguang/data6/CL300_Caesar/NewMDCLUSTER_0001/Caesar_snap_128.hdf5\n",
      "yt : [INFO     ] 2021-04-13 23:08:18,046 Found 2653 halos\n",
      "yt : [INFO     ] 2021-04-13 23:08:18,055 Found 1786 galaxies\n"
     ]
    },
    {
     "name": "stdout",
     "output_type": "stream",
     "text": [
      "447 446\n"
     ]
    },
    {
     "name": "stderr",
     "output_type": "stream",
     "text": [
      "yt : [INFO     ] 2021-04-13 23:08:18,143 Opening /home2/weiguang/data6/CL300_Caesar/NewMDCLUSTER_0002/Caesar_snap_128.hdf5\n",
      "yt : [INFO     ] 2021-04-13 23:08:18,286 Found 2311 halos\n",
      "yt : [INFO     ] 2021-04-13 23:08:18,295 Found 1557 galaxies\n"
     ]
    },
    {
     "name": "stdout",
     "output_type": "stream",
     "text": [
      "404 403\n"
     ]
    },
    {
     "name": "stderr",
     "output_type": "stream",
     "text": [
      "yt : [INFO     ] 2021-04-13 23:08:18,511 Opening /home2/weiguang/data6/CL300_Caesar/NewMDCLUSTER_0003/Caesar_snap_128.hdf5\n",
      "yt : [INFO     ] 2021-04-13 23:08:18,658 Found 2881 halos\n",
      "yt : [INFO     ] 2021-04-13 23:08:18,668 Found 2346 galaxies\n"
     ]
    },
    {
     "name": "stdout",
     "output_type": "stream",
     "text": [
      "327 326\n"
     ]
    },
    {
     "name": "stderr",
     "output_type": "stream",
     "text": [
      "yt : [INFO     ] 2021-04-13 23:08:18,783 Opening /home2/weiguang/data6/CL300_Caesar/NewMDCLUSTER_0004/Caesar_snap_128.hdf5\n",
      "yt : [INFO     ] 2021-04-13 23:08:18,927 Found 2796 halos\n",
      "yt : [INFO     ] 2021-04-13 23:08:18,936 Found 1992 galaxies\n"
     ]
    },
    {
     "name": "stdout",
     "output_type": "stream",
     "text": [
      "305 304\n"
     ]
    },
    {
     "name": "stderr",
     "output_type": "stream",
     "text": [
      "yt : [INFO     ] 2021-04-13 23:08:19,033 Opening /home2/weiguang/data6/CL300_Caesar/NewMDCLUSTER_0005/Caesar_snap_128.hdf5\n",
      "yt : [INFO     ] 2021-04-13 23:08:19,176 Found 2305 halos\n",
      "yt : [INFO     ] 2021-04-13 23:08:19,186 Found 1475 galaxies\n"
     ]
    },
    {
     "name": "stdout",
     "output_type": "stream",
     "text": [
      "334 333\n"
     ]
    },
    {
     "name": "stderr",
     "output_type": "stream",
     "text": [
      "yt : [INFO     ] 2021-04-13 23:08:19,404 Opening /home2/weiguang/data6/CL300_Caesar/NewMDCLUSTER_0006/Caesar_snap_128.hdf5\n",
      "yt : [INFO     ] 2021-04-13 23:08:19,552 Found 2307 halos\n",
      "yt : [INFO     ] 2021-04-13 23:08:19,562 Found 1502 galaxies\n"
     ]
    },
    {
     "name": "stdout",
     "output_type": "stream",
     "text": [
      "364 363\n"
     ]
    },
    {
     "name": "stderr",
     "output_type": "stream",
     "text": [
      "yt : [INFO     ] 2021-04-13 23:08:19,646 Opening /home2/weiguang/data6/CL300_Caesar/NewMDCLUSTER_0007/Caesar_snap_128.hdf5\n",
      "yt : [INFO     ] 2021-04-13 23:08:19,788 Found 2415 halos\n",
      "yt : [INFO     ] 2021-04-13 23:08:19,796 Found 1684 galaxies\n"
     ]
    },
    {
     "name": "stdout",
     "output_type": "stream",
     "text": [
      "290 289\n"
     ]
    },
    {
     "name": "stderr",
     "output_type": "stream",
     "text": [
      "yt : [INFO     ] 2021-04-13 23:08:19,879 Opening /home2/weiguang/data6/CL300_Caesar/NewMDCLUSTER_0008/Caesar_snap_128.hdf5\n",
      "yt : [INFO     ] 2021-04-13 23:08:20,026 Found 2487 halos\n",
      "yt : [INFO     ] 2021-04-13 23:08:20,035 Found 1694 galaxies\n"
     ]
    },
    {
     "name": "stdout",
     "output_type": "stream",
     "text": [
      "250 249\n"
     ]
    },
    {
     "name": "stderr",
     "output_type": "stream",
     "text": [
      "yt : [INFO     ] 2021-04-13 23:08:20,278 Opening /home2/weiguang/data6/CL300_Caesar/NewMDCLUSTER_0009/Caesar_snap_128.hdf5\n",
      "yt : [INFO     ] 2021-04-13 23:08:20,430 Found 2545 halos\n",
      "yt : [INFO     ] 2021-04-13 23:08:20,439 Found 1685 galaxies\n"
     ]
    },
    {
     "name": "stdout",
     "output_type": "stream",
     "text": [
      "311 310\n"
     ]
    },
    {
     "name": "stderr",
     "output_type": "stream",
     "text": [
      "yt : [INFO     ] 2021-04-13 23:08:20,532 Opening /home2/weiguang/data6/CL300_Caesar/NewMDCLUSTER_0010/Caesar_snap_128.hdf5\n",
      "yt : [INFO     ] 2021-04-13 23:08:20,702 Found 2638 halos\n",
      "yt : [INFO     ] 2021-04-13 23:08:20,712 Found 1863 galaxies\n"
     ]
    },
    {
     "name": "stdout",
     "output_type": "stream",
     "text": [
      "266 265\n"
     ]
    },
    {
     "name": "stderr",
     "output_type": "stream",
     "text": [
      "yt : [INFO     ] 2021-04-13 23:08:20,803 Opening /home2/weiguang/data6/CL300_Caesar/NewMDCLUSTER_0011/Caesar_snap_128.hdf5\n",
      "yt : [INFO     ] 2021-04-13 23:08:20,947 Found 2107 halos\n",
      "yt : [INFO     ] 2021-04-13 23:08:20,957 Found 1353 galaxies\n"
     ]
    },
    {
     "name": "stdout",
     "output_type": "stream",
     "text": [
      "230 229\n"
     ]
    },
    {
     "name": "stderr",
     "output_type": "stream",
     "text": [
      "yt : [INFO     ] 2021-04-13 23:08:21,026 Opening /home2/weiguang/data6/CL300_Caesar/NewMDCLUSTER_0012/Caesar_snap_128.hdf5\n",
      "yt : [INFO     ] 2021-04-13 23:08:21,163 Found 2272 halos\n",
      "yt : [INFO     ] 2021-04-13 23:08:21,171 Found 1478 galaxies\n"
     ]
    },
    {
     "name": "stdout",
     "output_type": "stream",
     "text": [
      "241 240\n"
     ]
    },
    {
     "name": "stderr",
     "output_type": "stream",
     "text": [
      "yt : [INFO     ] 2021-04-13 23:08:21,434 Opening /home2/weiguang/data6/CL300_Caesar/NewMDCLUSTER_0013/Caesar_snap_128.hdf5\n",
      "yt : [INFO     ] 2021-04-13 23:08:21,579 Found 2513 halos\n",
      "yt : [INFO     ] 2021-04-13 23:08:21,590 Found 1760 galaxies\n"
     ]
    },
    {
     "name": "stdout",
     "output_type": "stream",
     "text": [
      "241 240\n"
     ]
    },
    {
     "name": "stderr",
     "output_type": "stream",
     "text": [
      "yt : [INFO     ] 2021-04-13 23:08:21,686 Opening /home2/weiguang/data6/CL300_Caesar/NewMDCLUSTER_0014/Caesar_snap_128.hdf5\n",
      "yt : [INFO     ] 2021-04-13 23:08:21,828 Found 2124 halos\n",
      "yt : [INFO     ] 2021-04-13 23:08:21,837 Found 1350 galaxies\n"
     ]
    },
    {
     "name": "stdout",
     "output_type": "stream",
     "text": [
      "253 252\n"
     ]
    },
    {
     "name": "stderr",
     "output_type": "stream",
     "text": [
      "yt : [INFO     ] 2021-04-13 23:08:21,909 Opening /home2/weiguang/data6/CL300_Caesar/NewMDCLUSTER_0015/Caesar_snap_128.hdf5\n",
      "yt : [INFO     ] 2021-04-13 23:08:22,045 Found 1915 halos\n",
      "yt : [INFO     ] 2021-04-13 23:08:22,054 Found 1139 galaxies\n"
     ]
    },
    {
     "name": "stdout",
     "output_type": "stream",
     "text": [
      "272 271\n"
     ]
    },
    {
     "name": "stderr",
     "output_type": "stream",
     "text": [
      "yt : [INFO     ] 2021-04-13 23:08:22,117 Opening /home2/weiguang/data6/CL300_Caesar/NewMDCLUSTER_0016/Caesar_snap_128.hdf5\n",
      "yt : [INFO     ] 2021-04-13 23:08:22,257 Found 3109 halos\n",
      "yt : [INFO     ] 2021-04-13 23:08:22,266 Found 2452 galaxies\n"
     ]
    },
    {
     "name": "stdout",
     "output_type": "stream",
     "text": [
      "278 277\n"
     ]
    },
    {
     "name": "stderr",
     "output_type": "stream",
     "text": [
      "yt : [INFO     ] 2021-04-13 23:08:22,383 Opening /home2/weiguang/data6/CL300_Caesar/NewMDCLUSTER_0017/Caesar_snap_128.hdf5\n",
      "yt : [INFO     ] 2021-04-13 23:08:22,835 Found 2015 halos\n",
      "yt : [INFO     ] 2021-04-13 23:08:22,844 Found 1316 galaxies\n"
     ]
    },
    {
     "name": "stdout",
     "output_type": "stream",
     "text": [
      "227 226\n"
     ]
    },
    {
     "name": "stderr",
     "output_type": "stream",
     "text": [
      "yt : [INFO     ] 2021-04-13 23:08:22,947 Opening /home2/weiguang/data6/CL300_Caesar/NewMDCLUSTER_0018/Caesar_snap_128.hdf5\n",
      "yt : [INFO     ] 2021-04-13 23:08:23,095 Found 2955 halos\n",
      "yt : [INFO     ] 2021-04-13 23:08:23,105 Found 2258 galaxies\n"
     ]
    },
    {
     "name": "stdout",
     "output_type": "stream",
     "text": [
      "237 236\n"
     ]
    },
    {
     "name": "stderr",
     "output_type": "stream",
     "text": [
      "yt : [INFO     ] 2021-04-13 23:08:23,219 Opening /home2/weiguang/data6/CL300_Caesar/NewMDCLUSTER_0019/Caesar_snap_128.hdf5\n",
      "yt : [INFO     ] 2021-04-13 23:08:23,357 Found 2055 halos\n",
      "yt : [INFO     ] 2021-04-13 23:08:23,366 Found 1393 galaxies\n"
     ]
    },
    {
     "name": "stdout",
     "output_type": "stream",
     "text": [
      "243 242\n"
     ]
    },
    {
     "name": "stderr",
     "output_type": "stream",
     "text": [
      "yt : [INFO     ] 2021-04-13 23:08:23,437 Opening /home2/weiguang/data6/CL300_Caesar/NewMDCLUSTER_0020/Caesar_snap_128.hdf5\n",
      "yt : [INFO     ] 2021-04-13 23:08:23,577 Found 2699 halos\n",
      "yt : [INFO     ] 2021-04-13 23:08:23,585 Found 2173 galaxies\n"
     ]
    },
    {
     "name": "stdout",
     "output_type": "stream",
     "text": [
      "225 224\n"
     ]
    },
    {
     "name": "stderr",
     "output_type": "stream",
     "text": [
      "yt : [INFO     ] 2021-04-13 23:08:23,689 Opening /home2/weiguang/data6/CL300_Caesar/NewMDCLUSTER_0021/Caesar_snap_128.hdf5\n",
      "yt : [INFO     ] 2021-04-13 23:08:23,827 Found 2475 halos\n",
      "yt : [INFO     ] 2021-04-13 23:08:23,835 Found 1550 galaxies\n"
     ]
    },
    {
     "name": "stdout",
     "output_type": "stream",
     "text": [
      "216 215\n"
     ]
    },
    {
     "name": "stderr",
     "output_type": "stream",
     "text": [
      "yt : [INFO     ] 2021-04-13 23:08:23,913 Opening /home2/weiguang/data6/CL300_Caesar/NewMDCLUSTER_0022/Caesar_snap_128.hdf5\n",
      "yt : [INFO     ] 2021-04-13 23:08:24,049 Found 2274 halos\n",
      "yt : [INFO     ] 2021-04-13 23:08:24,058 Found 1426 galaxies\n"
     ]
    },
    {
     "name": "stdout",
     "output_type": "stream",
     "text": [
      "156 155\n"
     ]
    },
    {
     "name": "stderr",
     "output_type": "stream",
     "text": [
      "yt : [INFO     ] 2021-04-13 23:08:24,578 Opening /home2/weiguang/data6/CL300_Caesar/NewMDCLUSTER_0023/Caesar_snap_128.hdf5\n",
      "yt : [INFO     ] 2021-04-13 23:08:24,716 Found 2587 halos\n",
      "yt : [INFO     ] 2021-04-13 23:08:24,725 Found 1754 galaxies\n"
     ]
    },
    {
     "name": "stdout",
     "output_type": "stream",
     "text": [
      "247 246\n"
     ]
    },
    {
     "name": "stderr",
     "output_type": "stream",
     "text": [
      "yt : [INFO     ] 2021-04-13 23:08:24,820 Opening /home2/weiguang/data6/CL300_Caesar/NewMDCLUSTER_0024/Caesar_snap_128.hdf5\n",
      "yt : [INFO     ] 2021-04-13 23:08:24,962 Found 2475 halos\n",
      "yt : [INFO     ] 2021-04-13 23:08:24,998 Found 1654 galaxies\n"
     ]
    },
    {
     "name": "stdout",
     "output_type": "stream",
     "text": [
      "247 246\n"
     ]
    },
    {
     "name": "stderr",
     "output_type": "stream",
     "text": [
      "yt : [INFO     ] 2021-04-13 23:08:25,081 Opening /home2/weiguang/data6/CL300_Caesar/NewMDCLUSTER_0025/Caesar_snap_128.hdf5\n",
      "yt : [INFO     ] 2021-04-13 23:08:25,217 Found 2272 halos\n",
      "yt : [INFO     ] 2021-04-13 23:08:25,226 Found 1401 galaxies\n"
     ]
    },
    {
     "name": "stdout",
     "output_type": "stream",
     "text": [
      "185 184\n"
     ]
    },
    {
     "name": "stderr",
     "output_type": "stream",
     "text": [
      "yt : [INFO     ] 2021-04-13 23:08:25,298 Opening /home2/weiguang/data6/CL300_Caesar/NewMDCLUSTER_0026/Caesar_snap_128.hdf5\n",
      "yt : [INFO     ] 2021-04-13 23:08:25,436 Found 2487 halos\n",
      "yt : [INFO     ] 2021-04-13 23:08:25,445 Found 1821 galaxies\n"
     ]
    },
    {
     "name": "stdout",
     "output_type": "stream",
     "text": [
      "228 227\n"
     ]
    },
    {
     "name": "stderr",
     "output_type": "stream",
     "text": [
      "yt : [INFO     ] 2021-04-13 23:08:25,535 Opening /home2/weiguang/data6/CL300_Caesar/NewMDCLUSTER_0027/Caesar_snap_128.hdf5\n",
      "yt : [INFO     ] 2021-04-13 23:08:25,671 Found 2349 halos\n",
      "yt : [INFO     ] 2021-04-13 23:08:25,679 Found 1501 galaxies\n"
     ]
    },
    {
     "name": "stdout",
     "output_type": "stream",
     "text": [
      "265 264\n"
     ]
    },
    {
     "name": "stderr",
     "output_type": "stream",
     "text": [
      "yt : [INFO     ] 2021-04-13 23:08:25,757 Opening /home2/weiguang/data6/CL300_Caesar/NewMDCLUSTER_0028/Caesar_snap_128.hdf5\n",
      "yt : [INFO     ] 2021-04-13 23:08:25,892 Found 2003 halos\n",
      "yt : [INFO     ] 2021-04-13 23:08:25,900 Found 1258 galaxies\n"
     ]
    },
    {
     "name": "stdout",
     "output_type": "stream",
     "text": [
      "208 207\n"
     ]
    },
    {
     "name": "stderr",
     "output_type": "stream",
     "text": [
      "yt : [INFO     ] 2021-04-13 23:08:25,967 Opening /home2/weiguang/data6/CL300_Caesar/NewMDCLUSTER_0029/Caesar_snap_128.hdf5\n",
      "yt : [INFO     ] 2021-04-13 23:08:26,107 Found 2261 halos\n",
      "yt : [INFO     ] 2021-04-13 23:08:26,115 Found 1408 galaxies\n"
     ]
    },
    {
     "name": "stdout",
     "output_type": "stream",
     "text": [
      "225 224\n"
     ]
    },
    {
     "name": "stderr",
     "output_type": "stream",
     "text": [
      "yt : [INFO     ] 2021-04-13 23:08:26,188 Opening /home2/weiguang/data6/CL300_Caesar/NewMDCLUSTER_0030/Caesar_snap_128.hdf5\n",
      "yt : [INFO     ] 2021-04-13 23:08:26,329 Found 2438 halos\n",
      "yt : [INFO     ] 2021-04-13 23:08:26,338 Found 1557 galaxies\n"
     ]
    },
    {
     "name": "stdout",
     "output_type": "stream",
     "text": [
      "238 237\n"
     ]
    },
    {
     "name": "stderr",
     "output_type": "stream",
     "text": [
      "yt : [INFO     ] 2021-04-13 23:08:26,806 Opening /home2/weiguang/data6/CL300_Caesar/NewMDCLUSTER_0031/Caesar_snap_128.hdf5\n",
      "yt : [INFO     ] 2021-04-13 23:08:26,945 Found 2211 halos\n",
      "yt : [INFO     ] 2021-04-13 23:08:26,954 Found 1378 galaxies\n"
     ]
    },
    {
     "name": "stdout",
     "output_type": "stream",
     "text": [
      "201 200\n"
     ]
    },
    {
     "name": "stderr",
     "output_type": "stream",
     "text": [
      "yt : [INFO     ] 2021-04-13 23:08:27,028 Opening /home2/weiguang/data6/CL300_Caesar/NewMDCLUSTER_0032/Caesar_snap_128.hdf5\n",
      "yt : [INFO     ] 2021-04-13 23:08:27,166 Found 1867 halos\n",
      "yt : [INFO     ] 2021-04-13 23:08:27,174 Found 1068 galaxies\n"
     ]
    },
    {
     "name": "stdout",
     "output_type": "stream",
     "text": [
      "237 236\n"
     ]
    },
    {
     "name": "stderr",
     "output_type": "stream",
     "text": [
      "yt : [INFO     ] 2021-04-13 23:08:27,234 Opening /home2/weiguang/data6/CL300_Caesar/NewMDCLUSTER_0033/Caesar_snap_128.hdf5\n",
      "yt : [INFO     ] 2021-04-13 23:08:27,369 Found 2078 halos\n",
      "yt : [INFO     ] 2021-04-13 23:08:27,378 Found 1222 galaxies\n"
     ]
    },
    {
     "name": "stdout",
     "output_type": "stream",
     "text": [
      "220 219\n"
     ]
    },
    {
     "name": "stderr",
     "output_type": "stream",
     "text": [
      "yt : [INFO     ] 2021-04-13 23:08:27,442 Opening /home2/weiguang/data6/CL300_Caesar/NewMDCLUSTER_0034/Caesar_snap_128.hdf5\n",
      "yt : [INFO     ] 2021-04-13 23:08:27,584 Found 1921 halos\n",
      "yt : [INFO     ] 2021-04-13 23:08:27,593 Found 1080 galaxies\n"
     ]
    },
    {
     "name": "stdout",
     "output_type": "stream",
     "text": [
      "227 226\n"
     ]
    },
    {
     "name": "stderr",
     "output_type": "stream",
     "text": [
      "yt : [INFO     ] 2021-04-13 23:08:27,655 Opening /home2/weiguang/data6/CL300_Caesar/NewMDCLUSTER_0035/Caesar_snap_128.hdf5\n",
      "yt : [INFO     ] 2021-04-13 23:08:27,791 Found 2051 halos\n",
      "yt : [INFO     ] 2021-04-13 23:08:27,799 Found 1313 galaxies\n"
     ]
    },
    {
     "name": "stdout",
     "output_type": "stream",
     "text": [
      "209 208\n"
     ]
    },
    {
     "name": "stderr",
     "output_type": "stream",
     "text": [
      "yt : [INFO     ] 2021-04-13 23:08:27,869 Opening /home2/weiguang/data6/CL300_Caesar/NewMDCLUSTER_0036/Caesar_snap_128.hdf5\n",
      "yt : [INFO     ] 2021-04-13 23:08:28,007 Found 1965 halos\n",
      "yt : [INFO     ] 2021-04-13 23:08:28,016 Found 1211 galaxies\n"
     ]
    },
    {
     "name": "stdout",
     "output_type": "stream",
     "text": [
      "225 224\n"
     ]
    },
    {
     "name": "stderr",
     "output_type": "stream",
     "text": [
      "yt : [INFO     ] 2021-04-13 23:08:28,080 Opening /home2/weiguang/data6/CL300_Caesar/NewMDCLUSTER_0037/Caesar_snap_128.hdf5\n",
      "yt : [INFO     ] 2021-04-13 23:08:28,218 Found 2328 halos\n",
      "yt : [INFO     ] 2021-04-13 23:08:28,226 Found 1505 galaxies\n"
     ]
    },
    {
     "name": "stdout",
     "output_type": "stream",
     "text": [
      "196 195\n"
     ]
    },
    {
     "name": "stderr",
     "output_type": "stream",
     "text": [
      "yt : [INFO     ] 2021-04-13 23:08:28,315 Opening /home2/weiguang/data6/CL300_Caesar/NewMDCLUSTER_0038/Caesar_snap_128.hdf5\n",
      "yt : [INFO     ] 2021-04-13 23:08:28,456 Found 1780 halos\n",
      "yt : [INFO     ] 2021-04-13 23:08:28,469 Found 1078 galaxies\n"
     ]
    },
    {
     "name": "stdout",
     "output_type": "stream",
     "text": [
      "104 103\n"
     ]
    },
    {
     "name": "stderr",
     "output_type": "stream",
     "text": [
      "yt : [INFO     ] 2021-04-13 23:08:28,525 Opening /home2/weiguang/data6/CL300_Caesar/NewMDCLUSTER_0039/Caesar_snap_128.hdf5\n",
      "yt : [INFO     ] 2021-04-13 23:08:28,668 Found 2438 halos\n",
      "yt : [INFO     ] 2021-04-13 23:08:28,676 Found 1863 galaxies\n"
     ]
    },
    {
     "name": "stdout",
     "output_type": "stream",
     "text": [
      "217 216\n"
     ]
    },
    {
     "name": "stderr",
     "output_type": "stream",
     "text": [
      "yt : [INFO     ] 2021-04-13 23:08:28,779 Opening /home2/weiguang/data6/CL300_Caesar/NewMDCLUSTER_0040/Caesar_snap_128.hdf5\n",
      "yt : [INFO     ] 2021-04-13 23:08:28,931 Found 2587 halos\n",
      "yt : [INFO     ] 2021-04-13 23:08:28,946 Found 1674 galaxies\n"
     ]
    },
    {
     "name": "stdout",
     "output_type": "stream",
     "text": [
      "176 175\n"
     ]
    },
    {
     "name": "stderr",
     "output_type": "stream",
     "text": [
      "yt : [INFO     ] 2021-04-13 23:08:29,036 Opening /home2/weiguang/data6/CL300_Caesar/NewMDCLUSTER_0041/Caesar_snap_128.hdf5\n",
      "yt : [INFO     ] 2021-04-13 23:08:29,183 Found 2130 halos\n",
      "yt : [INFO     ] 2021-04-13 23:08:29,194 Found 1211 galaxies\n"
     ]
    },
    {
     "name": "stdout",
     "output_type": "stream",
     "text": [
      "223 222\n"
     ]
    },
    {
     "name": "stderr",
     "output_type": "stream",
     "text": [
      "yt : [INFO     ] 2021-04-13 23:08:29,265 Opening /home2/weiguang/data6/CL300_Caesar/NewMDCLUSTER_0042/Caesar_snap_128.hdf5\n",
      "yt : [INFO     ] 2021-04-13 23:08:29,403 Found 2122 halos\n",
      "yt : [INFO     ] 2021-04-13 23:08:29,412 Found 1321 galaxies\n"
     ]
    },
    {
     "name": "stdout",
     "output_type": "stream",
     "text": [
      "220 219\n"
     ]
    },
    {
     "name": "stderr",
     "output_type": "stream",
     "text": [
      "yt : [INFO     ] 2021-04-13 23:08:30,070 Opening /home2/weiguang/data6/CL300_Caesar/NewMDCLUSTER_0043/Caesar_snap_128.hdf5\n",
      "yt : [INFO     ] 2021-04-13 23:08:30,206 Found 2195 halos\n",
      "yt : [INFO     ] 2021-04-13 23:08:30,214 Found 1459 galaxies\n"
     ]
    },
    {
     "name": "stdout",
     "output_type": "stream",
     "text": [
      "231 230\n"
     ]
    },
    {
     "name": "stderr",
     "output_type": "stream",
     "text": [
      "yt : [INFO     ] 2021-04-13 23:08:30,294 Opening /home2/weiguang/data6/CL300_Caesar/NewMDCLUSTER_0044/Caesar_snap_128.hdf5\n",
      "yt : [INFO     ] 2021-04-13 23:08:30,442 Found 2045 halos\n",
      "yt : [INFO     ] 2021-04-13 23:08:30,451 Found 1292 galaxies\n"
     ]
    },
    {
     "name": "stdout",
     "output_type": "stream",
     "text": [
      "229 228\n"
     ]
    },
    {
     "name": "stderr",
     "output_type": "stream",
     "text": [
      "yt : [INFO     ] 2021-04-13 23:08:30,526 Opening /home2/weiguang/data6/CL300_Caesar/NewMDCLUSTER_0045/Caesar_snap_128.hdf5\n",
      "yt : [INFO     ] 2021-04-13 23:08:30,665 Found 2090 halos\n",
      "yt : [INFO     ] 2021-04-13 23:08:30,674 Found 1396 galaxies\n"
     ]
    },
    {
     "name": "stdout",
     "output_type": "stream",
     "text": [
      "199 198\n"
     ]
    },
    {
     "name": "stderr",
     "output_type": "stream",
     "text": [
      "yt : [INFO     ] 2021-04-13 23:08:30,748 Opening /home2/weiguang/data6/CL300_Caesar/NewMDCLUSTER_0046/Caesar_snap_128.hdf5\n",
      "yt : [INFO     ] 2021-04-13 23:08:30,899 Found 2520 halos\n",
      "yt : [INFO     ] 2021-04-13 23:08:30,907 Found 1507 galaxies\n"
     ]
    },
    {
     "name": "stdout",
     "output_type": "stream",
     "text": [
      "202 201\n"
     ]
    },
    {
     "name": "stderr",
     "output_type": "stream",
     "text": [
      "yt : [INFO     ] 2021-04-13 23:08:30,988 Opening /home2/weiguang/data6/CL300_Caesar/NewMDCLUSTER_0047/Caesar_snap_128.hdf5\n",
      "yt : [INFO     ] 2021-04-13 23:08:31,133 Found 2280 halos\n",
      "yt : [INFO     ] 2021-04-13 23:08:31,142 Found 1596 galaxies\n"
     ]
    },
    {
     "name": "stdout",
     "output_type": "stream",
     "text": [
      "73 72\n"
     ]
    },
    {
     "name": "stderr",
     "output_type": "stream",
     "text": [
      "yt : [INFO     ] 2021-04-13 23:08:31,230 Opening /home2/weiguang/data6/CL300_Caesar/NewMDCLUSTER_0048/Caesar_snap_128.hdf5\n",
      "yt : [INFO     ] 2021-04-13 23:08:31,370 Found 1779 halos\n",
      "yt : [INFO     ] 2021-04-13 23:08:31,383 Found 952 galaxies\n"
     ]
    },
    {
     "name": "stdout",
     "output_type": "stream",
     "text": [
      "188 187\n"
     ]
    },
    {
     "name": "stderr",
     "output_type": "stream",
     "text": [
      "yt : [INFO     ] 2021-04-13 23:08:31,447 Opening /home2/weiguang/data6/CL300_Caesar/NewMDCLUSTER_0049/Caesar_snap_128.hdf5\n",
      "yt : [INFO     ] 2021-04-13 23:08:31,593 Found 1942 halos\n",
      "yt : [INFO     ] 2021-04-13 23:08:31,601 Found 1143 galaxies\n"
     ]
    },
    {
     "name": "stdout",
     "output_type": "stream",
     "text": [
      "179 178\n"
     ]
    },
    {
     "name": "stderr",
     "output_type": "stream",
     "text": [
      "yt : [INFO     ] 2021-04-13 23:08:31,668 Opening /home2/weiguang/data6/CL300_Caesar/NewMDCLUSTER_0050/Caesar_snap_128.hdf5\n",
      "yt : [INFO     ] 2021-04-13 23:08:31,810 Found 1820 halos\n",
      "yt : [INFO     ] 2021-04-13 23:08:31,820 Found 1164 galaxies\n"
     ]
    },
    {
     "name": "stdout",
     "output_type": "stream",
     "text": [
      "185 184\n"
     ]
    },
    {
     "name": "stderr",
     "output_type": "stream",
     "text": [
      "yt : [INFO     ] 2021-04-13 23:08:31,890 Opening /home2/weiguang/data6/CL300_Caesar/NewMDCLUSTER_0051/Caesar_snap_128.hdf5\n",
      "yt : [INFO     ] 2021-04-13 23:08:32,035 Found 2156 halos\n",
      "yt : [INFO     ] 2021-04-13 23:08:32,044 Found 1352 galaxies\n"
     ]
    },
    {
     "name": "stdout",
     "output_type": "stream",
     "text": [
      "179 178\n"
     ]
    },
    {
     "name": "stderr",
     "output_type": "stream",
     "text": [
      "yt : [INFO     ] 2021-04-13 23:08:32,115 Opening /home2/weiguang/data6/CL300_Caesar/NewMDCLUSTER_0052/Caesar_snap_128.hdf5\n",
      "yt : [INFO     ] 2021-04-13 23:08:32,257 Found 2220 halos\n",
      "yt : [INFO     ] 2021-04-13 23:08:32,267 Found 1395 galaxies\n"
     ]
    },
    {
     "name": "stdout",
     "output_type": "stream",
     "text": [
      "217 216\n"
     ]
    },
    {
     "name": "stderr",
     "output_type": "stream",
     "text": [
      "yt : [INFO     ] 2021-04-13 23:08:32,344 Opening /home2/weiguang/data6/CL300_Caesar/NewMDCLUSTER_0053/Caesar_snap_128.hdf5\n",
      "yt : [INFO     ] 2021-04-13 23:08:32,489 Found 1673 halos\n",
      "yt : [INFO     ] 2021-04-13 23:08:32,499 Found 1002 galaxies\n"
     ]
    },
    {
     "name": "stdout",
     "output_type": "stream",
     "text": [
      "157 156\n"
     ]
    },
    {
     "name": "stderr",
     "output_type": "stream",
     "text": [
      "yt : [INFO     ] 2021-04-13 23:08:32,560 Opening /home2/weiguang/data6/CL300_Caesar/NewMDCLUSTER_0054/Caesar_snap_128.hdf5\n",
      "yt : [INFO     ] 2021-04-13 23:08:32,702 Found 1896 halos\n",
      "yt : [INFO     ] 2021-04-13 23:08:32,710 Found 1230 galaxies\n"
     ]
    },
    {
     "name": "stdout",
     "output_type": "stream",
     "text": [
      "219 218\n"
     ]
    },
    {
     "name": "stderr",
     "output_type": "stream",
     "text": [
      "yt : [INFO     ] 2021-04-13 23:08:32,782 Opening /home2/weiguang/data6/CL300_Caesar/NewMDCLUSTER_0055/Caesar_snap_128.hdf5\n",
      "yt : [INFO     ] 2021-04-13 23:08:32,926 Found 2253 halos\n",
      "yt : [INFO     ] 2021-04-13 23:08:32,936 Found 1375 galaxies\n"
     ]
    },
    {
     "name": "stdout",
     "output_type": "stream",
     "text": [
      "211 210\n"
     ]
    },
    {
     "name": "stderr",
     "output_type": "stream",
     "text": [
      "yt : [INFO     ] 2021-04-13 23:08:33,011 Opening /home2/weiguang/data6/CL300_Caesar/NewMDCLUSTER_0056/Caesar_snap_128.hdf5\n",
      "yt : [INFO     ] 2021-04-13 23:08:33,160 Found 2018 halos\n",
      "yt : [INFO     ] 2021-04-13 23:08:33,170 Found 1397 galaxies\n"
     ]
    },
    {
     "name": "stdout",
     "output_type": "stream",
     "text": [
      "226 225\n"
     ]
    },
    {
     "name": "stderr",
     "output_type": "stream",
     "text": [
      "yt : [INFO     ] 2021-04-13 23:08:33,925 Opening /home2/weiguang/data6/CL300_Caesar/NewMDCLUSTER_0057/Caesar_snap_128.hdf5\n",
      "yt : [INFO     ] 2021-04-13 23:08:34,063 Found 1930 halos\n",
      "yt : [INFO     ] 2021-04-13 23:08:34,074 Found 1076 galaxies\n"
     ]
    },
    {
     "name": "stdout",
     "output_type": "stream",
     "text": [
      "207 206\n"
     ]
    },
    {
     "name": "stderr",
     "output_type": "stream",
     "text": [
      "yt : [INFO     ] 2021-04-13 23:08:34,137 Opening /home2/weiguang/data6/CL300_Caesar/NewMDCLUSTER_0058/Caesar_snap_128.hdf5\n",
      "yt : [INFO     ] 2021-04-13 23:08:34,280 Found 2101 halos\n",
      "yt : [INFO     ] 2021-04-13 23:08:34,289 Found 1316 galaxies\n"
     ]
    },
    {
     "name": "stdout",
     "output_type": "stream",
     "text": [
      "179 178\n"
     ]
    },
    {
     "name": "stderr",
     "output_type": "stream",
     "text": [
      "yt : [INFO     ] 2021-04-13 23:08:34,366 Opening /home2/weiguang/data6/CL300_Caesar/NewMDCLUSTER_0059/Caesar_snap_128.hdf5\n",
      "yt : [INFO     ] 2021-04-13 23:08:34,502 Found 1761 halos\n",
      "yt : [INFO     ] 2021-04-13 23:08:34,511 Found 1013 galaxies\n"
     ]
    },
    {
     "name": "stdout",
     "output_type": "stream",
     "text": [
      "184 183\n"
     ]
    },
    {
     "name": "stderr",
     "output_type": "stream",
     "text": [
      "yt : [INFO     ] 2021-04-13 23:08:34,569 Opening /home2/weiguang/data6/CL300_Caesar/NewMDCLUSTER_0060/Caesar_snap_128.hdf5\n",
      "yt : [INFO     ] 2021-04-13 23:08:34,708 Found 2182 halos\n",
      "yt : [INFO     ] 2021-04-13 23:08:34,716 Found 1367 galaxies\n"
     ]
    },
    {
     "name": "stdout",
     "output_type": "stream",
     "text": [
      "209 208\n"
     ]
    },
    {
     "name": "stderr",
     "output_type": "stream",
     "text": [
      "yt : [INFO     ] 2021-04-13 23:08:34,791 Opening /home2/weiguang/data6/CL300_Caesar/NewMDCLUSTER_0061/Caesar_snap_128.hdf5\n",
      "yt : [INFO     ] 2021-04-13 23:08:34,935 Found 1894 halos\n",
      "yt : [INFO     ] 2021-04-13 23:08:34,944 Found 1170 galaxies\n"
     ]
    },
    {
     "name": "stdout",
     "output_type": "stream",
     "text": [
      "213 212\n"
     ]
    },
    {
     "name": "stderr",
     "output_type": "stream",
     "text": [
      "yt : [INFO     ] 2021-04-13 23:08:35,018 Opening /home2/weiguang/data6/CL300_Caesar/NewMDCLUSTER_0062/Caesar_snap_128.hdf5\n",
      "yt : [INFO     ] 2021-04-13 23:08:35,160 Found 1913 halos\n",
      "yt : [INFO     ] 2021-04-13 23:08:35,170 Found 956 galaxies\n"
     ]
    },
    {
     "name": "stdout",
     "output_type": "stream",
     "text": [
      "198 197\n"
     ]
    },
    {
     "name": "stderr",
     "output_type": "stream",
     "text": [
      "yt : [INFO     ] 2021-04-13 23:08:35,224 Opening /home2/weiguang/data6/CL300_Caesar/NewMDCLUSTER_0063/Caesar_snap_128.hdf5\n",
      "yt : [INFO     ] 2021-04-13 23:08:35,366 Found 1941 halos\n",
      "yt : [INFO     ] 2021-04-13 23:08:35,374 Found 1281 galaxies\n"
     ]
    },
    {
     "name": "stdout",
     "output_type": "stream",
     "text": [
      "186 185\n"
     ]
    },
    {
     "name": "stderr",
     "output_type": "stream",
     "text": [
      "yt : [INFO     ] 2021-04-13 23:08:35,448 Opening /home2/weiguang/data6/CL300_Caesar/NewMDCLUSTER_0064/Caesar_snap_128.hdf5\n",
      "yt : [INFO     ] 2021-04-13 23:08:35,596 Found 2250 halos\n",
      "yt : [INFO     ] 2021-04-13 23:08:35,607 Found 1515 galaxies\n"
     ]
    },
    {
     "name": "stdout",
     "output_type": "stream",
     "text": [
      "194 193\n"
     ]
    },
    {
     "name": "stderr",
     "output_type": "stream",
     "text": [
      "yt : [INFO     ] 2021-04-13 23:08:35,692 Opening /home2/weiguang/data6/CL300_Caesar/NewMDCLUSTER_0065/Caesar_snap_128.hdf5\n",
      "yt : [INFO     ] 2021-04-13 23:08:35,839 Found 2019 halos\n",
      "yt : [INFO     ] 2021-04-13 23:08:35,848 Found 1199 galaxies\n"
     ]
    },
    {
     "name": "stdout",
     "output_type": "stream",
     "text": [
      "169 168\n"
     ]
    },
    {
     "name": "stderr",
     "output_type": "stream",
     "text": [
      "yt : [INFO     ] 2021-04-13 23:08:35,917 Opening /home2/weiguang/data6/CL300_Caesar/NewMDCLUSTER_0066/Caesar_snap_128.hdf5\n",
      "yt : [INFO     ] 2021-04-13 23:08:36,079 Found 2403 halos\n",
      "yt : [INFO     ] 2021-04-13 23:08:36,089 Found 1435 galaxies\n"
     ]
    },
    {
     "name": "stdout",
     "output_type": "stream",
     "text": [
      "166 165\n"
     ]
    },
    {
     "name": "stderr",
     "output_type": "stream",
     "text": [
      "yt : [INFO     ] 2021-04-13 23:08:36,178 Opening /home2/weiguang/data6/CL300_Caesar/NewMDCLUSTER_0067/Caesar_snap_128.hdf5\n",
      "yt : [INFO     ] 2021-04-13 23:08:36,325 Found 1909 halos\n",
      "yt : [INFO     ] 2021-04-13 23:08:36,334 Found 1225 galaxies\n"
     ]
    },
    {
     "name": "stdout",
     "output_type": "stream",
     "text": [
      "209 208\n"
     ]
    },
    {
     "name": "stderr",
     "output_type": "stream",
     "text": [
      "yt : [INFO     ] 2021-04-13 23:08:36,401 Opening /home2/weiguang/data6/CL300_Caesar/NewMDCLUSTER_0068/Caesar_snap_128.hdf5\n",
      "yt : [INFO     ] 2021-04-13 23:08:36,542 Found 2635 halos\n",
      "yt : [INFO     ] 2021-04-13 23:08:36,550 Found 2028 galaxies\n"
     ]
    },
    {
     "name": "stdout",
     "output_type": "stream",
     "text": [
      "153 152\n"
     ]
    },
    {
     "name": "stderr",
     "output_type": "stream",
     "text": [
      "yt : [INFO     ] 2021-04-13 23:08:36,651 Opening /home2/weiguang/data6/CL300_Caesar/NewMDCLUSTER_0069/Caesar_snap_128.hdf5\n",
      "yt : [INFO     ] 2021-04-13 23:08:36,795 Found 1832 halos\n",
      "yt : [INFO     ] 2021-04-13 23:08:36,803 Found 1148 galaxies\n"
     ]
    },
    {
     "name": "stdout",
     "output_type": "stream",
     "text": [
      "175 174\n"
     ]
    },
    {
     "name": "stderr",
     "output_type": "stream",
     "text": [
      "yt : [INFO     ] 2021-04-13 23:08:36,873 Opening /home2/weiguang/data6/CL300_Caesar/NewMDCLUSTER_0070/Caesar_snap_128.hdf5\n",
      "yt : [INFO     ] 2021-04-13 23:08:37,028 Found 2151 halos\n",
      "yt : [INFO     ] 2021-04-13 23:08:37,037 Found 1299 galaxies\n"
     ]
    },
    {
     "name": "stdout",
     "output_type": "stream",
     "text": [
      "193 192\n"
     ]
    },
    {
     "name": "stderr",
     "output_type": "stream",
     "text": [
      "yt : [INFO     ] 2021-04-13 23:08:37,112 Opening /home2/weiguang/data6/CL300_Caesar/NewMDCLUSTER_0071/Caesar_snap_128.hdf5\n",
      "yt : [INFO     ] 2021-04-13 23:08:37,252 Found 1893 halos\n",
      "yt : [INFO     ] 2021-04-13 23:08:37,260 Found 1116 galaxies\n"
     ]
    },
    {
     "name": "stdout",
     "output_type": "stream",
     "text": [
      "200 199\n"
     ]
    },
    {
     "name": "stderr",
     "output_type": "stream",
     "text": [
      "yt : [INFO     ] 2021-04-13 23:08:37,321 Opening /home2/weiguang/data6/CL300_Caesar/NewMDCLUSTER_0072/Caesar_snap_128.hdf5\n",
      "yt : [INFO     ] 2021-04-13 23:08:37,465 Found 2316 halos\n",
      "yt : [INFO     ] 2021-04-13 23:08:37,473 Found 1544 galaxies\n"
     ]
    },
    {
     "name": "stdout",
     "output_type": "stream",
     "text": [
      "201 200\n"
     ]
    },
    {
     "name": "stderr",
     "output_type": "stream",
     "text": [
      "yt : [INFO     ] 2021-04-13 23:08:37,563 Opening /home2/weiguang/data6/CL300_Caesar/NewMDCLUSTER_0073/Caesar_snap_128.hdf5\n",
      "yt : [INFO     ] 2021-04-13 23:08:37,710 Found 2090 halos\n",
      "yt : [INFO     ] 2021-04-13 23:08:37,719 Found 1322 galaxies\n"
     ]
    },
    {
     "name": "stdout",
     "output_type": "stream",
     "text": [
      "229 228\n"
     ]
    },
    {
     "name": "stderr",
     "output_type": "stream",
     "text": [
      "yt : [INFO     ] 2021-04-13 23:08:37,790 Opening /home2/weiguang/data6/CL300_Caesar/NewMDCLUSTER_0074/Caesar_snap_128.hdf5\n",
      "yt : [INFO     ] 2021-04-13 23:08:37,930 Found 2627 halos\n",
      "yt : [INFO     ] 2021-04-13 23:08:37,938 Found 1846 galaxies\n"
     ]
    },
    {
     "name": "stdout",
     "output_type": "stream",
     "text": [
      "194 193\n"
     ]
    },
    {
     "name": "stderr",
     "output_type": "stream",
     "text": [
      "yt : [INFO     ] 2021-04-13 23:08:38,919 Opening /home2/weiguang/data6/CL300_Caesar/NewMDCLUSTER_0075/Caesar_snap_128.hdf5\n",
      "yt : [INFO     ] 2021-04-13 23:08:39,070 Found 1981 halos\n",
      "yt : [INFO     ] 2021-04-13 23:08:39,079 Found 1131 galaxies\n"
     ]
    },
    {
     "name": "stdout",
     "output_type": "stream",
     "text": [
      "157 156\n"
     ]
    },
    {
     "name": "stderr",
     "output_type": "stream",
     "text": [
      "yt : [INFO     ] 2021-04-13 23:08:39,141 Opening /home2/weiguang/data6/CL300_Caesar/NewMDCLUSTER_0076/Caesar_snap_128.hdf5\n",
      "yt : [INFO     ] 2021-04-13 23:08:39,283 Found 2199 halos\n",
      "yt : [INFO     ] 2021-04-13 23:08:39,291 Found 1274 galaxies\n"
     ]
    },
    {
     "name": "stdout",
     "output_type": "stream",
     "text": [
      "162 161\n"
     ]
    },
    {
     "name": "stderr",
     "output_type": "stream",
     "text": [
      "yt : [INFO     ] 2021-04-13 23:08:39,377 Opening /home2/weiguang/data6/CL300_Caesar/NewMDCLUSTER_0077/Caesar_snap_128.hdf5\n",
      "yt : [INFO     ] 2021-04-13 23:08:39,516 Found 1848 halos\n",
      "yt : [INFO     ] 2021-04-13 23:08:39,525 Found 1181 galaxies\n"
     ]
    },
    {
     "name": "stdout",
     "output_type": "stream",
     "text": [
      "157 156\n"
     ]
    },
    {
     "name": "stderr",
     "output_type": "stream",
     "text": [
      "yt : [INFO     ] 2021-04-13 23:08:39,623 Opening /home2/weiguang/data6/CL300_Caesar/NewMDCLUSTER_0078/Caesar_snap_128.hdf5\n",
      "yt : [INFO     ] 2021-04-13 23:08:39,784 Found 2284 halos\n",
      "yt : [INFO     ] 2021-04-13 23:08:39,793 Found 1579 galaxies\n"
     ]
    },
    {
     "name": "stdout",
     "output_type": "stream",
     "text": [
      "151 150\n"
     ]
    },
    {
     "name": "stderr",
     "output_type": "stream",
     "text": [
      "yt : [INFO     ] 2021-04-13 23:08:39,874 Opening /home2/weiguang/data6/CL300_Caesar/NewMDCLUSTER_0079/Caesar_snap_128.hdf5\n",
      "yt : [INFO     ] 2021-04-13 23:08:40,013 Found 2682 halos\n",
      "yt : [INFO     ] 2021-04-13 23:08:40,022 Found 1770 galaxies\n"
     ]
    },
    {
     "name": "stdout",
     "output_type": "stream",
     "text": [
      "167 166\n"
     ]
    },
    {
     "name": "stderr",
     "output_type": "stream",
     "text": [
      "yt : [INFO     ] 2021-04-13 23:08:40,135 Opening /home2/weiguang/data6/CL300_Caesar/NewMDCLUSTER_0080/Caesar_snap_128.hdf5\n",
      "yt : [INFO     ] 2021-04-13 23:08:40,278 Found 3376 halos\n",
      "yt : [INFO     ] 2021-04-13 23:08:40,287 Found 2520 galaxies\n"
     ]
    },
    {
     "name": "stdout",
     "output_type": "stream",
     "text": [
      "141 140\n"
     ]
    },
    {
     "name": "stderr",
     "output_type": "stream",
     "text": [
      "yt : [INFO     ] 2021-04-13 23:08:40,469 Opening /home2/weiguang/data6/CL300_Caesar/NewMDCLUSTER_0081/Caesar_snap_128.hdf5\n",
      "yt : [INFO     ] 2021-04-13 23:08:40,611 Found 1889 halos\n",
      "yt : [INFO     ] 2021-04-13 23:08:40,619 Found 1071 galaxies\n"
     ]
    },
    {
     "name": "stdout",
     "output_type": "stream",
     "text": [
      "195 194\n"
     ]
    },
    {
     "name": "stderr",
     "output_type": "stream",
     "text": [
      "yt : [INFO     ] 2021-04-13 23:08:40,706 Opening /home2/weiguang/data6/CL300_Caesar/NewMDCLUSTER_0082/Caesar_snap_128.hdf5\n",
      "yt : [INFO     ] 2021-04-13 23:08:40,845 Found 2361 halos\n",
      "yt : [INFO     ] 2021-04-13 23:08:40,853 Found 1627 galaxies\n"
     ]
    },
    {
     "name": "stdout",
     "output_type": "stream",
     "text": [
      "186 185\n"
     ]
    },
    {
     "name": "stderr",
     "output_type": "stream",
     "text": [
      "yt : [INFO     ] 2021-04-13 23:08:40,944 Opening /home2/weiguang/data6/CL300_Caesar/NewMDCLUSTER_0083/Caesar_snap_128.hdf5\n",
      "yt : [INFO     ] 2021-04-13 23:08:41,089 Found 2114 halos\n",
      "yt : [INFO     ] 2021-04-13 23:08:41,097 Found 1199 galaxies\n"
     ]
    },
    {
     "name": "stdout",
     "output_type": "stream",
     "text": [
      "179 178\n"
     ]
    },
    {
     "name": "stderr",
     "output_type": "stream",
     "text": [
      "yt : [INFO     ] 2021-04-13 23:08:41,185 Opening /home2/weiguang/data6/CL300_Caesar/NewMDCLUSTER_0084/Caesar_snap_128.hdf5\n",
      "yt : [INFO     ] 2021-04-13 23:08:41,334 Found 1875 halos\n",
      "yt : [INFO     ] 2021-04-13 23:08:41,344 Found 1026 galaxies\n"
     ]
    },
    {
     "name": "stdout",
     "output_type": "stream",
     "text": [
      "183 182\n"
     ]
    },
    {
     "name": "stderr",
     "output_type": "stream",
     "text": [
      "yt : [INFO     ] 2021-04-13 23:08:41,430 Opening /home2/weiguang/data6/CL300_Caesar/NewMDCLUSTER_0085/Caesar_snap_128.hdf5\n",
      "yt : [INFO     ] 2021-04-13 23:08:41,574 Found 2266 halos\n",
      "yt : [INFO     ] 2021-04-13 23:08:41,584 Found 1420 galaxies\n"
     ]
    },
    {
     "name": "stdout",
     "output_type": "stream",
     "text": [
      "155 154\n"
     ]
    },
    {
     "name": "stderr",
     "output_type": "stream",
     "text": [
      "yt : [INFO     ] 2021-04-13 23:08:41,667 Opening /home2/weiguang/data6/CL300_Caesar/NewMDCLUSTER_0086/Caesar_snap_128.hdf5\n",
      "yt : [INFO     ] 2021-04-13 23:08:41,820 Found 1833 halos\n",
      "yt : [INFO     ] 2021-04-13 23:08:41,828 Found 1045 galaxies\n"
     ]
    },
    {
     "name": "stdout",
     "output_type": "stream",
     "text": [
      "136 135\n"
     ]
    },
    {
     "name": "stderr",
     "output_type": "stream",
     "text": [
      "yt : [INFO     ] 2021-04-13 23:08:41,886 Opening /home2/weiguang/data6/CL300_Caesar/NewMDCLUSTER_0087/Caesar_snap_128.hdf5\n",
      "yt : [INFO     ] 2021-04-13 23:08:42,026 Found 1615 halos\n",
      "yt : [INFO     ] 2021-04-13 23:08:42,035 Found 955 galaxies\n"
     ]
    },
    {
     "name": "stdout",
     "output_type": "stream",
     "text": [
      "182 181\n"
     ]
    },
    {
     "name": "stderr",
     "output_type": "stream",
     "text": [
      "yt : [INFO     ] 2021-04-13 23:08:42,095 Opening /home2/weiguang/data6/CL300_Caesar/NewMDCLUSTER_0088/Caesar_snap_128.hdf5\n",
      "yt : [INFO     ] 2021-04-13 23:08:42,239 Found 2314 halos\n",
      "yt : [INFO     ] 2021-04-13 23:08:42,248 Found 1389 galaxies\n"
     ]
    },
    {
     "name": "stdout",
     "output_type": "stream",
     "text": [
      "195 194\n"
     ]
    },
    {
     "name": "stderr",
     "output_type": "stream",
     "text": [
      "yt : [INFO     ] 2021-04-13 23:08:42,356 Opening /home2/weiguang/data6/CL300_Caesar/NewMDCLUSTER_0089/Caesar_snap_128.hdf5\n",
      "yt : [INFO     ] 2021-04-13 23:08:42,502 Found 1929 halos\n",
      "yt : [INFO     ] 2021-04-13 23:08:42,510 Found 1093 galaxies\n"
     ]
    },
    {
     "name": "stdout",
     "output_type": "stream",
     "text": [
      "166 165\n"
     ]
    },
    {
     "name": "stderr",
     "output_type": "stream",
     "text": [
      "yt : [INFO     ] 2021-04-13 23:08:42,593 Opening /home2/weiguang/data6/CL300_Caesar/NewMDCLUSTER_0090/Caesar_snap_128.hdf5\n",
      "yt : [INFO     ] 2021-04-13 23:08:42,733 Found 3201 halos\n",
      "yt : [INFO     ] 2021-04-13 23:08:42,742 Found 2437 galaxies\n"
     ]
    },
    {
     "name": "stdout",
     "output_type": "stream",
     "text": [
      "137 136\n"
     ]
    },
    {
     "name": "stderr",
     "output_type": "stream",
     "text": [
      "yt : [INFO     ] 2021-04-13 23:08:42,886 Opening /home2/weiguang/data6/CL300_Caesar/NewMDCLUSTER_0091/Caesar_snap_128.hdf5\n",
      "yt : [INFO     ] 2021-04-13 23:08:43,035 Found 2109 halos\n",
      "yt : [INFO     ] 2021-04-13 23:08:43,045 Found 1281 galaxies\n"
     ]
    },
    {
     "name": "stdout",
     "output_type": "stream",
     "text": [
      "163 162\n"
     ]
    },
    {
     "name": "stderr",
     "output_type": "stream",
     "text": [
      "yt : [INFO     ] 2021-04-13 23:08:43,140 Opening /home2/weiguang/data6/CL300_Caesar/NewMDCLUSTER_0092/Caesar_snap_128.hdf5\n",
      "yt : [INFO     ] 2021-04-13 23:08:43,278 Found 1942 halos\n",
      "yt : [INFO     ] 2021-04-13 23:08:43,286 Found 1232 galaxies\n"
     ]
    },
    {
     "name": "stdout",
     "output_type": "stream",
     "text": [
      "121 120\n"
     ]
    },
    {
     "name": "stderr",
     "output_type": "stream",
     "text": [
      "yt : [INFO     ] 2021-04-13 23:08:43,352 Opening /home2/weiguang/data6/CL300_Caesar/NewMDCLUSTER_0093/Caesar_snap_128.hdf5\n",
      "yt : [INFO     ] 2021-04-13 23:08:43,498 Found 2084 halos\n",
      "yt : [INFO     ] 2021-04-13 23:08:43,507 Found 1219 galaxies\n"
     ]
    },
    {
     "name": "stdout",
     "output_type": "stream",
     "text": [
      "145 144\n"
     ]
    },
    {
     "name": "stderr",
     "output_type": "stream",
     "text": [
      "yt : [INFO     ] 2021-04-13 23:08:43,607 Opening /home2/weiguang/data6/CL300_Caesar/NewMDCLUSTER_0094/Caesar_snap_128.hdf5\n",
      "yt : [INFO     ] 2021-04-13 23:08:43,755 Found 1864 halos\n",
      "yt : [INFO     ] 2021-04-13 23:08:43,763 Found 1045 galaxies\n"
     ]
    },
    {
     "name": "stdout",
     "output_type": "stream",
     "text": [
      "170 169\n"
     ]
    },
    {
     "name": "stderr",
     "output_type": "stream",
     "text": [
      "yt : [INFO     ] 2021-04-13 23:08:43,825 Opening /home2/weiguang/data6/CL300_Caesar/NewMDCLUSTER_0095/Caesar_snap_128.hdf5\n",
      "yt : [INFO     ] 2021-04-13 23:08:43,975 Found 2203 halos\n",
      "yt : [INFO     ] 2021-04-13 23:08:43,984 Found 1360 galaxies\n"
     ]
    },
    {
     "name": "stdout",
     "output_type": "stream",
     "text": [
      "169 168\n"
     ]
    },
    {
     "name": "stderr",
     "output_type": "stream",
     "text": [
      "yt : [INFO     ] 2021-04-13 23:08:44,057 Opening /home2/weiguang/data6/CL300_Caesar/NewMDCLUSTER_0096/Caesar_snap_128.hdf5\n",
      "yt : [INFO     ] 2021-04-13 23:08:44,212 Found 1858 halos\n",
      "yt : [INFO     ] 2021-04-13 23:08:45,181 Found 1103 galaxies\n"
     ]
    },
    {
     "name": "stdout",
     "output_type": "stream",
     "text": [
      "130 129\n"
     ]
    },
    {
     "name": "stderr",
     "output_type": "stream",
     "text": [
      "yt : [INFO     ] 2021-04-13 23:08:45,248 Opening /home2/weiguang/data6/CL300_Caesar/NewMDCLUSTER_0097/Caesar_snap_128.hdf5\n",
      "yt : [INFO     ] 2021-04-13 23:08:45,391 Found 2481 halos\n",
      "yt : [INFO     ] 2021-04-13 23:08:45,401 Found 1568 galaxies\n"
     ]
    },
    {
     "name": "stdout",
     "output_type": "stream",
     "text": [
      "179 178\n"
     ]
    },
    {
     "name": "stderr",
     "output_type": "stream",
     "text": [
      "yt : [INFO     ] 2021-04-13 23:08:45,509 Opening /home2/weiguang/data6/CL300_Caesar/NewMDCLUSTER_0098/Caesar_snap_128.hdf5\n",
      "yt : [INFO     ] 2021-04-13 23:08:45,657 Found 1951 halos\n",
      "yt : [INFO     ] 2021-04-13 23:08:45,667 Found 1199 galaxies\n"
     ]
    },
    {
     "name": "stdout",
     "output_type": "stream",
     "text": [
      "159 158\n"
     ]
    },
    {
     "name": "stderr",
     "output_type": "stream",
     "text": [
      "yt : [INFO     ] 2021-04-13 23:08:45,757 Opening /home2/weiguang/data6/CL300_Caesar/NewMDCLUSTER_0099/Caesar_snap_128.hdf5\n",
      "yt : [INFO     ] 2021-04-13 23:08:45,894 Found 1915 halos\n",
      "yt : [INFO     ] 2021-04-13 23:08:45,902 Found 1081 galaxies\n"
     ]
    },
    {
     "name": "stdout",
     "output_type": "stream",
     "text": [
      "127 126\n"
     ]
    },
    {
     "name": "stderr",
     "output_type": "stream",
     "text": [
      "yt : [INFO     ] 2021-04-13 23:08:45,982 Opening /home2/weiguang/data6/CL300_Caesar/NewMDCLUSTER_0100/Caesar_snap_128.hdf5\n",
      "yt : [INFO     ] 2021-04-13 23:08:46,125 Found 1850 halos\n",
      "yt : [INFO     ] 2021-04-13 23:08:46,134 Found 1103 galaxies\n"
     ]
    },
    {
     "name": "stdout",
     "output_type": "stream",
     "text": [
      "195 194\n"
     ]
    },
    {
     "name": "stderr",
     "output_type": "stream",
     "text": [
      "yt : [INFO     ] 2021-04-13 23:08:46,201 Opening /home2/weiguang/data6/CL300_Caesar/NewMDCLUSTER_0101/Caesar_snap_128.hdf5\n",
      "yt : [INFO     ] 2021-04-13 23:08:46,354 Found 2846 halos\n",
      "yt : [INFO     ] 2021-04-13 23:08:46,367 Found 2003 galaxies\n"
     ]
    },
    {
     "name": "stdout",
     "output_type": "stream",
     "text": [
      "167 166\n"
     ]
    },
    {
     "name": "stderr",
     "output_type": "stream",
     "text": [
      "yt : [INFO     ] 2021-04-13 23:08:46,508 Opening /home2/weiguang/data6/CL300_Caesar/NewMDCLUSTER_0102/Caesar_snap_128.hdf5\n",
      "yt : [INFO     ] 2021-04-13 23:08:46,683 Found 1972 halos\n",
      "yt : [INFO     ] 2021-04-13 23:08:46,694 Found 1070 galaxies\n"
     ]
    },
    {
     "name": "stdout",
     "output_type": "stream",
     "text": [
      "149 148\n"
     ]
    },
    {
     "name": "stderr",
     "output_type": "stream",
     "text": [
      "yt : [INFO     ] 2021-04-13 23:08:46,778 Opening /home2/weiguang/data6/CL300_Caesar/NewMDCLUSTER_0103/Caesar_snap_128.hdf5\n",
      "yt : [INFO     ] 2021-04-13 23:08:46,929 Found 2060 halos\n",
      "yt : [INFO     ] 2021-04-13 23:08:46,937 Found 1316 galaxies\n"
     ]
    },
    {
     "name": "stdout",
     "output_type": "stream",
     "text": [
      "157 156\n"
     ]
    },
    {
     "name": "stderr",
     "output_type": "stream",
     "text": [
      "yt : [INFO     ] 2021-04-13 23:08:47,010 Opening /home2/weiguang/data6/CL300_Caesar/NewMDCLUSTER_0104/Caesar_snap_128.hdf5\n",
      "yt : [INFO     ] 2021-04-13 23:08:47,152 Found 2378 halos\n",
      "yt : [INFO     ] 2021-04-13 23:08:47,160 Found 1407 galaxies\n"
     ]
    },
    {
     "name": "stdout",
     "output_type": "stream",
     "text": [
      "134 133\n"
     ]
    },
    {
     "name": "stderr",
     "output_type": "stream",
     "text": [
      "yt : [INFO     ] 2021-04-13 23:08:47,262 Opening /home2/weiguang/data6/CL300_Caesar/NewMDCLUSTER_0105/Caesar_snap_128.hdf5\n",
      "yt : [INFO     ] 2021-04-13 23:08:47,411 Found 2337 halos\n",
      "yt : [INFO     ] 2021-04-13 23:08:47,420 Found 1475 galaxies\n"
     ]
    },
    {
     "name": "stdout",
     "output_type": "stream",
     "text": [
      "117 116\n"
     ]
    },
    {
     "name": "stderr",
     "output_type": "stream",
     "text": [
      "yt : [INFO     ] 2021-04-13 23:08:47,520 Opening /home2/weiguang/data6/CL300_Caesar/NewMDCLUSTER_0106/Caesar_snap_128.hdf5\n",
      "yt : [INFO     ] 2021-04-13 23:08:47,671 Found 2266 halos\n",
      "yt : [INFO     ] 2021-04-13 23:08:47,681 Found 1508 galaxies\n"
     ]
    },
    {
     "name": "stdout",
     "output_type": "stream",
     "text": [
      "164 163\n"
     ]
    },
    {
     "name": "stderr",
     "output_type": "stream",
     "text": [
      "yt : [INFO     ] 2021-04-13 23:08:47,759 Opening /home2/weiguang/data6/CL300_Caesar/NewMDCLUSTER_0107/Caesar_snap_128.hdf5\n",
      "yt : [INFO     ] 2021-04-13 23:08:47,894 Found 1521 halos\n",
      "yt : [INFO     ] 2021-04-13 23:08:47,903 Found 883 galaxies\n"
     ]
    },
    {
     "name": "stdout",
     "output_type": "stream",
     "text": [
      "162 161\n"
     ]
    },
    {
     "name": "stderr",
     "output_type": "stream",
     "text": [
      "yt : [INFO     ] 2021-04-13 23:08:47,993 Opening /home2/weiguang/data6/CL300_Caesar/NewMDCLUSTER_0108/Caesar_snap_128.hdf5\n",
      "yt : [INFO     ] 2021-04-13 23:08:48,130 Found 1859 halos\n",
      "yt : [INFO     ] 2021-04-13 23:08:48,140 Found 1134 galaxies\n"
     ]
    },
    {
     "name": "stdout",
     "output_type": "stream",
     "text": [
      "182 181\n"
     ]
    },
    {
     "name": "stderr",
     "output_type": "stream",
     "text": [
      "yt : [INFO     ] 2021-04-13 23:08:48,227 Opening /home2/weiguang/data6/CL300_Caesar/NewMDCLUSTER_0109/Caesar_snap_128.hdf5\n",
      "yt : [INFO     ] 2021-04-13 23:08:48,368 Found 1924 halos\n",
      "yt : [INFO     ] 2021-04-13 23:08:48,376 Found 1228 galaxies\n"
     ]
    },
    {
     "name": "stdout",
     "output_type": "stream",
     "text": [
      "177 176\n"
     ]
    },
    {
     "name": "stderr",
     "output_type": "stream",
     "text": [
      "yt : [INFO     ] 2021-04-13 23:08:48,443 Opening /home2/weiguang/data6/CL300_Caesar/NewMDCLUSTER_0110/Caesar_snap_128.hdf5\n",
      "yt : [INFO     ] 2021-04-13 23:08:48,585 Found 2698 halos\n",
      "yt : [INFO     ] 2021-04-13 23:08:48,594 Found 2110 galaxies\n"
     ]
    },
    {
     "name": "stdout",
     "output_type": "stream",
     "text": [
      "160 159\n"
     ]
    },
    {
     "name": "stderr",
     "output_type": "stream",
     "text": [
      "yt : [INFO     ] 2021-04-13 23:08:48,705 Opening /home2/weiguang/data6/CL300_Caesar/NewMDCLUSTER_0111/Caesar_snap_128.hdf5\n",
      "yt : [INFO     ] 2021-04-13 23:08:48,844 Found 2716 halos\n",
      "yt : [INFO     ] 2021-04-13 23:08:48,855 Found 1980 galaxies\n"
     ]
    },
    {
     "name": "stdout",
     "output_type": "stream",
     "text": [
      "138 137\n"
     ]
    },
    {
     "name": "stderr",
     "output_type": "stream",
     "text": [
      "yt : [INFO     ] 2021-04-13 23:08:48,963 Opening /home2/weiguang/data6/CL300_Caesar/NewMDCLUSTER_0112/Caesar_snap_128.hdf5\n",
      "yt : [INFO     ] 2021-04-13 23:08:49,115 Found 1705 halos\n",
      "yt : [INFO     ] 2021-04-13 23:08:49,125 Found 983 galaxies\n"
     ]
    },
    {
     "name": "stdout",
     "output_type": "stream",
     "text": [
      "179 178\n"
     ]
    },
    {
     "name": "stderr",
     "output_type": "stream",
     "text": [
      "yt : [INFO     ] 2021-04-13 23:08:49,215 Opening /home2/weiguang/data6/CL300_Caesar/NewMDCLUSTER_0113/Caesar_snap_128.hdf5\n",
      "yt : [INFO     ] 2021-04-13 23:08:49,365 Found 1838 halos\n",
      "yt : [INFO     ] 2021-04-13 23:08:49,375 Found 1021 galaxies\n"
     ]
    },
    {
     "name": "stdout",
     "output_type": "stream",
     "text": [
      "133 132\n"
     ]
    },
    {
     "name": "stderr",
     "output_type": "stream",
     "text": [
      "yt : [INFO     ] 2021-04-13 23:08:49,460 Opening /home2/weiguang/data6/CL300_Caesar/NewMDCLUSTER_0114/Caesar_snap_128.hdf5\n",
      "yt : [INFO     ] 2021-04-13 23:08:49,603 Found 2049 halos\n",
      "yt : [INFO     ] 2021-04-13 23:08:49,612 Found 1187 galaxies\n"
     ]
    },
    {
     "name": "stdout",
     "output_type": "stream",
     "text": [
      "144 143\n"
     ]
    },
    {
     "name": "stderr",
     "output_type": "stream",
     "text": [
      "yt : [INFO     ] 2021-04-13 23:08:49,680 Opening /home2/weiguang/data6/CL300_Caesar/NewMDCLUSTER_0115/Caesar_snap_128.hdf5\n",
      "yt : [INFO     ] 2021-04-13 23:08:49,822 Found 2200 halos\n",
      "yt : [INFO     ] 2021-04-13 23:08:49,832 Found 1394 galaxies\n"
     ]
    },
    {
     "name": "stdout",
     "output_type": "stream",
     "text": [
      "103 102\n"
     ]
    },
    {
     "name": "stderr",
     "output_type": "stream",
     "text": [
      "yt : [INFO     ] 2021-04-13 23:08:49,911 Opening /home2/weiguang/data6/CL300_Caesar/NewMDCLUSTER_0116/Caesar_snap_128.hdf5\n",
      "yt : [INFO     ] 2021-04-13 23:08:50,057 Found 1924 halos\n",
      "yt : [INFO     ] 2021-04-13 23:08:50,067 Found 1016 galaxies\n"
     ]
    },
    {
     "name": "stdout",
     "output_type": "stream",
     "text": [
      "185 184\n"
     ]
    },
    {
     "name": "stderr",
     "output_type": "stream",
     "text": [
      "yt : [INFO     ] 2021-04-13 23:08:50,162 Opening /home2/weiguang/data6/CL300_Caesar/NewMDCLUSTER_0117/Caesar_snap_128.hdf5\n",
      "yt : [INFO     ] 2021-04-13 23:08:50,301 Found 2215 halos\n",
      "yt : [INFO     ] 2021-04-13 23:08:50,309 Found 1611 galaxies\n"
     ]
    },
    {
     "name": "stdout",
     "output_type": "stream",
     "text": [
      "152 151\n"
     ]
    },
    {
     "name": "stderr",
     "output_type": "stream",
     "text": [
      "yt : [INFO     ] 2021-04-13 23:08:50,393 Opening /home2/weiguang/data6/CL300_Caesar/NewMDCLUSTER_0118/Caesar_snap_128.hdf5\n",
      "yt : [INFO     ] 2021-04-13 23:08:50,533 Found 1713 halos\n",
      "yt : [INFO     ] 2021-04-13 23:08:50,541 Found 1022 galaxies\n"
     ]
    },
    {
     "name": "stdout",
     "output_type": "stream",
     "text": [
      "154 153\n"
     ]
    },
    {
     "name": "stderr",
     "output_type": "stream",
     "text": [
      "yt : [INFO     ] 2021-04-13 23:08:50,601 Opening /home2/weiguang/data6/CL300_Caesar/NewMDCLUSTER_0119/Caesar_snap_128.hdf5\n",
      "yt : [INFO     ] 2021-04-13 23:08:50,743 Found 1867 halos\n",
      "yt : [INFO     ] 2021-04-13 23:08:50,753 Found 1120 galaxies\n"
     ]
    },
    {
     "name": "stdout",
     "output_type": "stream",
     "text": [
      "146 145\n"
     ]
    },
    {
     "name": "stderr",
     "output_type": "stream",
     "text": [
      "yt : [INFO     ] 2021-04-13 23:08:50,837 Opening /home2/weiguang/data6/CL300_Caesar/NewMDCLUSTER_0120/Caesar_snap_128.hdf5\n",
      "yt : [INFO     ] 2021-04-13 23:08:50,979 Found 2441 halos\n",
      "yt : [INFO     ] 2021-04-13 23:08:50,987 Found 1529 galaxies\n"
     ]
    },
    {
     "name": "stdout",
     "output_type": "stream",
     "text": [
      "138 137\n"
     ]
    },
    {
     "name": "stderr",
     "output_type": "stream",
     "text": [
      "yt : [INFO     ] 2021-04-13 23:08:51,098 Opening /home2/weiguang/data6/CL300_Caesar/NewMDCLUSTER_0121/Caesar_snap_128.hdf5\n",
      "yt : [INFO     ] 2021-04-13 23:08:51,243 Found 1813 halos\n",
      "yt : [INFO     ] 2021-04-13 23:08:51,253 Found 1009 galaxies\n"
     ]
    },
    {
     "name": "stdout",
     "output_type": "stream",
     "text": [
      "130 129\n"
     ]
    },
    {
     "name": "stderr",
     "output_type": "stream",
     "text": [
      "yt : [INFO     ] 2021-04-13 23:08:51,344 Opening /home2/weiguang/data6/CL300_Caesar/NewMDCLUSTER_0122/Caesar_snap_128.hdf5\n",
      "yt : [INFO     ] 2021-04-13 23:08:51,495 Found 1672 halos\n",
      "yt : [INFO     ] 2021-04-13 23:08:51,505 Found 921 galaxies\n"
     ]
    },
    {
     "name": "stdout",
     "output_type": "stream",
     "text": [
      "158 157\n"
     ]
    },
    {
     "name": "stderr",
     "output_type": "stream",
     "text": [
      "yt : [INFO     ] 2021-04-13 23:08:51,584 Opening /home2/weiguang/data6/CL300_Caesar/NewMDCLUSTER_0123/Caesar_snap_128.hdf5\n",
      "yt : [INFO     ] 2021-04-13 23:08:51,728 Found 1705 halos\n",
      "yt : [INFO     ] 2021-04-13 23:08:51,738 Found 939 galaxies\n"
     ]
    },
    {
     "name": "stdout",
     "output_type": "stream",
     "text": [
      "159 158\n"
     ]
    },
    {
     "name": "stderr",
     "output_type": "stream",
     "text": [
      "yt : [INFO     ] 2021-04-13 23:08:51,832 Opening /home2/weiguang/data6/CL300_Caesar/NewMDCLUSTER_0124/Caesar_snap_128.hdf5\n",
      "yt : [INFO     ] 2021-04-13 23:08:51,975 Found 1801 halos\n",
      "yt : [INFO     ] 2021-04-13 23:08:51,983 Found 1018 galaxies\n"
     ]
    },
    {
     "name": "stdout",
     "output_type": "stream",
     "text": [
      "169 168\n"
     ]
    },
    {
     "name": "stderr",
     "output_type": "stream",
     "text": [
      "yt : [INFO     ] 2021-04-13 23:08:53,398 Opening /home2/weiguang/data6/CL300_Caesar/NewMDCLUSTER_0125/Caesar_snap_128.hdf5\n",
      "yt : [INFO     ] 2021-04-13 23:08:53,543 Found 1647 halos\n",
      "yt : [INFO     ] 2021-04-13 23:08:53,552 Found 893 galaxies\n"
     ]
    },
    {
     "name": "stdout",
     "output_type": "stream",
     "text": [
      "166 165\n"
     ]
    },
    {
     "name": "stderr",
     "output_type": "stream",
     "text": [
      "yt : [INFO     ] 2021-04-13 23:08:53,631 Opening /home2/weiguang/data6/CL300_Caesar/NewMDCLUSTER_0126/Caesar_snap_128.hdf5\n",
      "yt : [INFO     ] 2021-04-13 23:08:53,784 Found 1905 halos\n",
      "yt : [INFO     ] 2021-04-13 23:08:53,792 Found 1050 galaxies\n"
     ]
    },
    {
     "name": "stdout",
     "output_type": "stream",
     "text": [
      "151 150\n"
     ]
    },
    {
     "name": "stderr",
     "output_type": "stream",
     "text": [
      "yt : [INFO     ] 2021-04-13 23:08:53,852 Opening /home2/weiguang/data6/CL300_Caesar/NewMDCLUSTER_0127/Caesar_snap_128.hdf5\n",
      "yt : [INFO     ] 2021-04-13 23:08:53,995 Found 1897 halos\n",
      "yt : [INFO     ] 2021-04-13 23:08:54,004 Found 1103 galaxies\n"
     ]
    },
    {
     "name": "stdout",
     "output_type": "stream",
     "text": [
      "154 153\n"
     ]
    },
    {
     "name": "stderr",
     "output_type": "stream",
     "text": [
      "yt : [INFO     ] 2021-04-13 23:08:54,068 Opening /home2/weiguang/data6/CL300_Caesar/NewMDCLUSTER_0128/Caesar_snap_128.hdf5\n",
      "yt : [INFO     ] 2021-04-13 23:08:54,212 Found 1958 halos\n",
      "yt : [INFO     ] 2021-04-13 23:08:54,221 Found 1238 galaxies\n"
     ]
    },
    {
     "name": "stdout",
     "output_type": "stream",
     "text": [
      "132 131\n"
     ]
    },
    {
     "name": "stderr",
     "output_type": "stream",
     "text": [
      "yt : [INFO     ] 2021-04-13 23:08:54,318 Opening /home2/weiguang/data6/CL300_Caesar/NewMDCLUSTER_0129/Caesar_snap_128.hdf5\n",
      "yt : [INFO     ] 2021-04-13 23:08:54,462 Found 2242 halos\n",
      "yt : [INFO     ] 2021-04-13 23:08:54,471 Found 1460 galaxies\n"
     ]
    },
    {
     "name": "stdout",
     "output_type": "stream",
     "text": [
      "107 106\n"
     ]
    },
    {
     "name": "stderr",
     "output_type": "stream",
     "text": [
      "yt : [INFO     ] 2021-04-13 23:08:54,576 Opening /home2/weiguang/data6/CL300_Caesar/NewMDCLUSTER_0130/Caesar_snap_128.hdf5\n",
      "yt : [INFO     ] 2021-04-13 23:08:54,718 Found 2367 halos\n",
      "yt : [INFO     ] 2021-04-13 23:08:54,728 Found 1647 galaxies\n"
     ]
    },
    {
     "name": "stdout",
     "output_type": "stream",
     "text": [
      "131 130\n"
     ]
    },
    {
     "name": "stderr",
     "output_type": "stream",
     "text": [
      "yt : [INFO     ] 2021-04-13 23:08:54,811 Opening /home2/weiguang/data6/CL300_Caesar/NewMDCLUSTER_0131/Caesar_snap_128.hdf5\n",
      "yt : [INFO     ] 2021-04-13 23:08:54,955 Found 1705 halos\n",
      "yt : [INFO     ] 2021-04-13 23:08:54,964 Found 1031 galaxies\n"
     ]
    },
    {
     "name": "stdout",
     "output_type": "stream",
     "text": [
      "131 130\n"
     ]
    },
    {
     "name": "stderr",
     "output_type": "stream",
     "text": [
      "yt : [INFO     ] 2021-04-13 23:08:55,023 Opening /home2/weiguang/data6/CL300_Caesar/NewMDCLUSTER_0132/Caesar_snap_128.hdf5\n",
      "yt : [INFO     ] 2021-04-13 23:08:55,176 Found 2163 halos\n",
      "yt : [INFO     ] 2021-04-13 23:08:55,185 Found 1288 galaxies\n"
     ]
    },
    {
     "name": "stdout",
     "output_type": "stream",
     "text": [
      "145 144\n"
     ]
    },
    {
     "name": "stderr",
     "output_type": "stream",
     "text": [
      "yt : [INFO     ] 2021-04-13 23:08:55,277 Opening /home2/weiguang/data6/CL300_Caesar/NewMDCLUSTER_0133/Caesar_snap_128.hdf5\n",
      "yt : [INFO     ] 2021-04-13 23:08:55,419 Found 1856 halos\n",
      "yt : [INFO     ] 2021-04-13 23:08:55,427 Found 966 galaxies\n"
     ]
    },
    {
     "name": "stdout",
     "output_type": "stream",
     "text": [
      "148 147\n"
     ]
    },
    {
     "name": "stderr",
     "output_type": "stream",
     "text": [
      "yt : [INFO     ] 2021-04-13 23:08:55,511 Opening /home2/weiguang/data6/CL300_Caesar/NewMDCLUSTER_0134/Caesar_snap_128.hdf5\n",
      "yt : [INFO     ] 2021-04-13 23:08:55,655 Found 2097 halos\n",
      "yt : [INFO     ] 2021-04-13 23:08:55,664 Found 1149 galaxies\n"
     ]
    },
    {
     "name": "stdout",
     "output_type": "stream",
     "text": [
      "113 112\n"
     ]
    },
    {
     "name": "stderr",
     "output_type": "stream",
     "text": [
      "yt : [INFO     ] 2021-04-13 23:08:55,754 Opening /home2/weiguang/data6/CL300_Caesar/NewMDCLUSTER_0135/Caesar_snap_128.hdf5\n",
      "yt : [INFO     ] 2021-04-13 23:08:55,906 Found 1541 halos\n",
      "yt : [INFO     ] 2021-04-13 23:08:55,916 Found 796 galaxies\n"
     ]
    },
    {
     "name": "stdout",
     "output_type": "stream",
     "text": [
      "147 146\n"
     ]
    },
    {
     "name": "stderr",
     "output_type": "stream",
     "text": [
      "yt : [INFO     ] 2021-04-13 23:08:55,969 Opening /home2/weiguang/data6/CL300_Caesar/NewMDCLUSTER_0136/Caesar_snap_128.hdf5\n",
      "yt : [INFO     ] 2021-04-13 23:08:56,122 Found 2206 halos\n",
      "yt : [INFO     ] 2021-04-13 23:08:56,131 Found 1362 galaxies\n"
     ]
    },
    {
     "name": "stdout",
     "output_type": "stream",
     "text": [
      "155 154\n"
     ]
    },
    {
     "name": "stderr",
     "output_type": "stream",
     "text": [
      "yt : [INFO     ] 2021-04-13 23:08:56,229 Opening /home2/weiguang/data6/CL300_Caesar/NewMDCLUSTER_0137/Caesar_snap_128.hdf5\n",
      "yt : [INFO     ] 2021-04-13 23:08:56,385 Found 2118 halos\n",
      "yt : [INFO     ] 2021-04-13 23:08:56,395 Found 1196 galaxies\n"
     ]
    },
    {
     "name": "stdout",
     "output_type": "stream",
     "text": [
      "142 141\n"
     ]
    },
    {
     "name": "stderr",
     "output_type": "stream",
     "text": [
      "yt : [INFO     ] 2021-04-13 23:08:56,488 Opening /home2/weiguang/data6/CL300_Caesar/NewMDCLUSTER_0138/Caesar_snap_128.hdf5\n",
      "yt : [INFO     ] 2021-04-13 23:08:56,633 Found 2023 halos\n",
      "yt : [INFO     ] 2021-04-13 23:08:56,641 Found 1126 galaxies\n"
     ]
    },
    {
     "name": "stdout",
     "output_type": "stream",
     "text": [
      "139 138\n"
     ]
    },
    {
     "name": "stderr",
     "output_type": "stream",
     "text": [
      "yt : [INFO     ] 2021-04-13 23:08:56,730 Opening /home2/weiguang/data6/CL300_Caesar/NewMDCLUSTER_0139/Caesar_snap_128.hdf5\n",
      "yt : [INFO     ] 2021-04-13 23:08:56,872 Found 1776 halos\n",
      "yt : [INFO     ] 2021-04-13 23:08:56,880 Found 1011 galaxies\n"
     ]
    },
    {
     "name": "stdout",
     "output_type": "stream",
     "text": [
      "154 153\n"
     ]
    },
    {
     "name": "stderr",
     "output_type": "stream",
     "text": [
      "yt : [INFO     ] 2021-04-13 23:08:56,971 Opening /home2/weiguang/data6/CL300_Caesar/NewMDCLUSTER_0140/Caesar_snap_128.hdf5\n",
      "yt : [INFO     ] 2021-04-13 23:08:57,115 Found 1694 halos\n",
      "yt : [INFO     ] 2021-04-13 23:08:57,124 Found 861 galaxies\n"
     ]
    },
    {
     "name": "stdout",
     "output_type": "stream",
     "text": [
      "144 143\n"
     ]
    },
    {
     "name": "stderr",
     "output_type": "stream",
     "text": [
      "yt : [INFO     ] 2021-04-13 23:08:57,199 Opening /home2/weiguang/data6/CL300_Caesar/NewMDCLUSTER_0141/Caesar_snap_128.hdf5\n",
      "yt : [INFO     ] 2021-04-13 23:08:57,337 Found 1803 halos\n",
      "yt : [INFO     ] 2021-04-13 23:08:57,346 Found 933 galaxies\n"
     ]
    },
    {
     "name": "stdout",
     "output_type": "stream",
     "text": [
      "141 140\n"
     ]
    },
    {
     "name": "stderr",
     "output_type": "stream",
     "text": [
      "yt : [INFO     ] 2021-04-13 23:08:57,409 Opening /home2/weiguang/data6/CL300_Caesar/NewMDCLUSTER_0142/Caesar_snap_128.hdf5\n",
      "yt : [INFO     ] 2021-04-13 23:08:57,546 Found 2698 halos\n",
      "yt : [INFO     ] 2021-04-13 23:08:57,555 Found 1863 galaxies\n"
     ]
    },
    {
     "name": "stdout",
     "output_type": "stream",
     "text": [
      "150 149\n"
     ]
    },
    {
     "name": "stderr",
     "output_type": "stream",
     "text": [
      "yt : [INFO     ] 2021-04-13 23:08:57,665 Opening /home2/weiguang/data6/CL300_Caesar/NewMDCLUSTER_0143/Caesar_snap_128.hdf5\n",
      "yt : [INFO     ] 2021-04-13 23:08:57,805 Found 1588 halos\n",
      "yt : [INFO     ] 2021-04-13 23:08:57,813 Found 893 galaxies\n"
     ]
    },
    {
     "name": "stdout",
     "output_type": "stream",
     "text": [
      "144 143\n"
     ]
    },
    {
     "name": "stderr",
     "output_type": "stream",
     "text": [
      "yt : [INFO     ] 2021-04-13 23:08:57,888 Opening /home2/weiguang/data6/CL300_Caesar/NewMDCLUSTER_0144/Caesar_snap_128.hdf5\n",
      "yt : [INFO     ] 2021-04-13 23:08:58,028 Found 1997 halos\n",
      "yt : [INFO     ] 2021-04-13 23:08:58,036 Found 1210 galaxies\n"
     ]
    },
    {
     "name": "stdout",
     "output_type": "stream",
     "text": [
      "125 124\n"
     ]
    },
    {
     "name": "stderr",
     "output_type": "stream",
     "text": [
      "yt : [INFO     ] 2021-04-13 23:08:58,131 Opening /home2/weiguang/data6/CL300_Caesar/NewMDCLUSTER_0145/Caesar_snap_128.hdf5\n",
      "yt : [INFO     ] 2021-04-13 23:08:58,284 Found 2215 halos\n",
      "yt : [INFO     ] 2021-04-13 23:08:58,293 Found 1358 galaxies\n"
     ]
    },
    {
     "name": "stdout",
     "output_type": "stream",
     "text": [
      "138 137\n"
     ]
    },
    {
     "name": "stderr",
     "output_type": "stream",
     "text": [
      "yt : [INFO     ] 2021-04-13 23:08:58,392 Opening /home2/weiguang/data6/CL300_Caesar/NewMDCLUSTER_0146/Caesar_snap_128.hdf5\n",
      "yt : [INFO     ] 2021-04-13 23:08:58,545 Found 1769 halos\n",
      "yt : [INFO     ] 2021-04-13 23:08:58,555 Found 984 galaxies\n"
     ]
    },
    {
     "name": "stdout",
     "output_type": "stream",
     "text": [
      "118 117\n"
     ]
    },
    {
     "name": "stderr",
     "output_type": "stream",
     "text": [
      "yt : [INFO     ] 2021-04-13 23:08:58,663 Opening /home2/weiguang/data6/CL300_Caesar/NewMDCLUSTER_0147/Caesar_snap_128.hdf5\n",
      "yt : [INFO     ] 2021-04-13 23:08:58,839 Found 2026 halos\n",
      "yt : [INFO     ] 2021-04-13 23:08:58,849 Found 1225 galaxies\n"
     ]
    },
    {
     "name": "stdout",
     "output_type": "stream",
     "text": [
      "147 146\n"
     ]
    },
    {
     "name": "stderr",
     "output_type": "stream",
     "text": [
      "yt : [INFO     ] 2021-04-13 23:08:58,946 Opening /home2/weiguang/data6/CL300_Caesar/NewMDCLUSTER_0148/Caesar_snap_128.hdf5\n",
      "yt : [INFO     ] 2021-04-13 23:08:59,089 Found 1669 halos\n",
      "yt : [INFO     ] 2021-04-13 23:08:59,099 Found 886 galaxies\n"
     ]
    },
    {
     "name": "stdout",
     "output_type": "stream",
     "text": [
      "103 102\n"
     ]
    },
    {
     "name": "stderr",
     "output_type": "stream",
     "text": [
      "yt : [INFO     ] 2021-04-13 23:08:59,184 Opening /home2/weiguang/data6/CL300_Caesar/NewMDCLUSTER_0149/Caesar_snap_128.hdf5\n",
      "yt : [INFO     ] 2021-04-13 23:08:59,326 Found 2268 halos\n",
      "yt : [INFO     ] 2021-04-13 23:08:59,336 Found 1468 galaxies\n"
     ]
    },
    {
     "name": "stdout",
     "output_type": "stream",
     "text": [
      "141 140\n"
     ]
    },
    {
     "name": "stderr",
     "output_type": "stream",
     "text": [
      "yt : [INFO     ] 2021-04-13 23:08:59,441 Opening /home2/weiguang/data6/CL300_Caesar/NewMDCLUSTER_0150/Caesar_snap_128.hdf5\n",
      "yt : [INFO     ] 2021-04-13 23:08:59,584 Found 1929 halos\n",
      "yt : [INFO     ] 2021-04-13 23:08:59,593 Found 1072 galaxies\n"
     ]
    },
    {
     "name": "stdout",
     "output_type": "stream",
     "text": [
      "145 144\n"
     ]
    },
    {
     "name": "stderr",
     "output_type": "stream",
     "text": [
      "yt : [INFO     ] 2021-04-13 23:08:59,656 Opening /home2/weiguang/data6/CL300_Caesar/NewMDCLUSTER_0151/Caesar_snap_128.hdf5\n",
      "yt : [INFO     ] 2021-04-13 23:08:59,807 Found 1949 halos\n",
      "yt : [INFO     ] 2021-04-13 23:08:59,817 Found 1193 galaxies\n"
     ]
    },
    {
     "name": "stdout",
     "output_type": "stream",
     "text": [
      "123 122\n"
     ]
    },
    {
     "name": "stderr",
     "output_type": "stream",
     "text": [
      "yt : [INFO     ] 2021-04-13 23:08:59,887 Opening /home2/weiguang/data6/CL300_Caesar/NewMDCLUSTER_0152/Caesar_snap_128.hdf5\n",
      "yt : [INFO     ] 2021-04-13 23:09:00,023 Found 2234 halos\n",
      "yt : [INFO     ] 2021-04-13 23:09:00,032 Found 1398 galaxies\n"
     ]
    },
    {
     "name": "stdout",
     "output_type": "stream",
     "text": [
      "159 158\n"
     ]
    },
    {
     "name": "stderr",
     "output_type": "stream",
     "text": [
      "yt : [INFO     ] 2021-04-13 23:09:00,105 Opening /home2/weiguang/data6/CL300_Caesar/NewMDCLUSTER_0153/Caesar_snap_128.hdf5\n",
      "yt : [INFO     ] 2021-04-13 23:09:00,245 Found 2595 halos\n",
      "yt : [INFO     ] 2021-04-13 23:09:00,254 Found 1647 galaxies\n"
     ]
    },
    {
     "name": "stdout",
     "output_type": "stream",
     "text": [
      "126 125\n"
     ]
    },
    {
     "name": "stderr",
     "output_type": "stream",
     "text": [
      "yt : [INFO     ] 2021-04-13 23:09:00,340 Opening /home2/weiguang/data6/CL300_Caesar/NewMDCLUSTER_0154/Caesar_snap_128.hdf5\n",
      "yt : [INFO     ] 2021-04-13 23:09:00,492 Found 2025 halos\n",
      "yt : [INFO     ] 2021-04-13 23:09:00,501 Found 1063 galaxies\n"
     ]
    },
    {
     "name": "stdout",
     "output_type": "stream",
     "text": [
      "137 136\n"
     ]
    },
    {
     "name": "stderr",
     "output_type": "stream",
     "text": [
      "yt : [INFO     ] 2021-04-13 23:09:00,562 Opening /home2/weiguang/data6/CL300_Caesar/NewMDCLUSTER_0155/Caesar_snap_128.hdf5\n",
      "yt : [INFO     ] 2021-04-13 23:09:00,696 Found 1760 halos\n",
      "yt : [INFO     ] 2021-04-13 23:09:00,706 Found 944 galaxies\n"
     ]
    },
    {
     "name": "stdout",
     "output_type": "stream",
     "text": [
      "121 120\n"
     ]
    },
    {
     "name": "stderr",
     "output_type": "stream",
     "text": [
      "yt : [INFO     ] 2021-04-13 23:09:00,760 Opening /home2/weiguang/data6/CL300_Caesar/NewMDCLUSTER_0156/Caesar_snap_128.hdf5\n",
      "yt : [INFO     ] 2021-04-13 23:09:00,902 Found 1875 halos\n",
      "yt : [INFO     ] 2021-04-13 23:09:00,911 Found 1110 galaxies\n"
     ]
    },
    {
     "name": "stdout",
     "output_type": "stream",
     "text": [
      "163 162\n"
     ]
    },
    {
     "name": "stderr",
     "output_type": "stream",
     "text": [
      "yt : [INFO     ] 2021-04-13 23:09:00,972 Opening /home2/weiguang/data6/CL300_Caesar/NewMDCLUSTER_0157/Caesar_snap_128.hdf5\n",
      "yt : [INFO     ] 2021-04-13 23:09:01,116 Found 2073 halos\n",
      "yt : [INFO     ] 2021-04-13 23:09:01,126 Found 1242 galaxies\n"
     ]
    },
    {
     "name": "stdout",
     "output_type": "stream",
     "text": [
      "138 137\n"
     ]
    },
    {
     "name": "stderr",
     "output_type": "stream",
     "text": [
      "yt : [INFO     ] 2021-04-13 23:09:01,200 Opening /home2/weiguang/data6/CL300_Caesar/NewMDCLUSTER_0158/Caesar_snap_128.hdf5\n",
      "yt : [INFO     ] 2021-04-13 23:09:01,344 Found 2154 halos\n",
      "yt : [INFO     ] 2021-04-13 23:09:01,353 Found 1289 galaxies\n"
     ]
    },
    {
     "name": "stdout",
     "output_type": "stream",
     "text": [
      "144 143\n"
     ]
    },
    {
     "name": "stderr",
     "output_type": "stream",
     "text": [
      "yt : [INFO     ] 2021-04-13 23:09:01,429 Opening /home2/weiguang/data6/CL300_Caesar/NewMDCLUSTER_0159/Caesar_snap_128.hdf5\n",
      "yt : [INFO     ] 2021-04-13 23:09:01,574 Found 2287 halos\n",
      "yt : [INFO     ] 2021-04-13 23:09:01,586 Found 1322 galaxies\n"
     ]
    },
    {
     "name": "stdout",
     "output_type": "stream",
     "text": [
      "153 152\n"
     ]
    },
    {
     "name": "stderr",
     "output_type": "stream",
     "text": [
      "yt : [INFO     ] 2021-04-13 23:09:01,684 Opening /home2/weiguang/data6/CL300_Caesar/NewMDCLUSTER_0160/Caesar_snap_128.hdf5\n",
      "yt : [INFO     ] 2021-04-13 23:09:01,829 Found 2104 halos\n",
      "yt : [INFO     ] 2021-04-13 23:09:01,840 Found 1287 galaxies\n"
     ]
    },
    {
     "name": "stdout",
     "output_type": "stream",
     "text": [
      "147 146\n"
     ]
    },
    {
     "name": "stderr",
     "output_type": "stream",
     "text": [
      "yt : [INFO     ] 2021-04-13 23:09:01,945 Opening /home2/weiguang/data6/CL300_Caesar/NewMDCLUSTER_0161/Caesar_snap_128.hdf5\n",
      "yt : [INFO     ] 2021-04-13 23:09:02,083 Found 1911 halos\n",
      "yt : [INFO     ] 2021-04-13 23:09:02,091 Found 1142 galaxies\n"
     ]
    },
    {
     "name": "stdout",
     "output_type": "stream",
     "text": [
      "132 131\n"
     ]
    },
    {
     "name": "stderr",
     "output_type": "stream",
     "text": [
      "yt : [INFO     ] 2021-04-13 23:09:02,154 Opening /home2/weiguang/data6/CL300_Caesar/NewMDCLUSTER_0162/Caesar_snap_128.hdf5\n",
      "yt : [INFO     ] 2021-04-13 23:09:02,292 Found 2510 halos\n",
      "yt : [INFO     ] 2021-04-13 23:09:02,301 Found 1630 galaxies\n"
     ]
    },
    {
     "name": "stdout",
     "output_type": "stream",
     "text": [
      "122 121\n"
     ]
    },
    {
     "name": "stderr",
     "output_type": "stream",
     "text": [
      "yt : [INFO     ] 2021-04-13 23:09:02,382 Opening /home2/weiguang/data6/CL300_Caesar/NewMDCLUSTER_0163/Caesar_snap_128.hdf5\n",
      "yt : [INFO     ] 2021-04-13 23:09:02,516 Found 2459 halos\n",
      "yt : [INFO     ] 2021-04-13 23:09:02,525 Found 1692 galaxies\n"
     ]
    },
    {
     "name": "stdout",
     "output_type": "stream",
     "text": [
      "131 130\n"
     ]
    },
    {
     "name": "stderr",
     "output_type": "stream",
     "text": [
      "yt : [INFO     ] 2021-04-13 23:09:04,612 Opening /home2/weiguang/data6/CL300_Caesar/NewMDCLUSTER_0164/Caesar_snap_128.hdf5\n",
      "yt : [INFO     ] 2021-04-13 23:09:04,756 Found 1895 halos\n",
      "yt : [INFO     ] 2021-04-13 23:09:04,764 Found 1003 galaxies\n"
     ]
    },
    {
     "name": "stdout",
     "output_type": "stream",
     "text": [
      "142 141\n"
     ]
    },
    {
     "name": "stderr",
     "output_type": "stream",
     "text": [
      "yt : [INFO     ] 2021-04-13 23:09:04,822 Opening /home2/weiguang/data6/CL300_Caesar/NewMDCLUSTER_0165/Caesar_snap_128.hdf5\n",
      "yt : [INFO     ] 2021-04-13 23:09:04,967 Found 1890 halos\n",
      "yt : [INFO     ] 2021-04-13 23:09:04,977 Found 1003 galaxies\n"
     ]
    },
    {
     "name": "stdout",
     "output_type": "stream",
     "text": [
      "143 142\n"
     ]
    },
    {
     "name": "stderr",
     "output_type": "stream",
     "text": [
      "yt : [INFO     ] 2021-04-13 23:09:05,040 Opening /home2/weiguang/data6/CL300_Caesar/NewMDCLUSTER_0166/Caesar_snap_128.hdf5\n",
      "yt : [INFO     ] 2021-04-13 23:09:05,176 Found 1581 halos\n",
      "yt : [INFO     ] 2021-04-13 23:09:05,184 Found 796 galaxies\n"
     ]
    },
    {
     "name": "stdout",
     "output_type": "stream",
     "text": [
      "121 120\n"
     ]
    },
    {
     "name": "stderr",
     "output_type": "stream",
     "text": [
      "yt : [INFO     ] 2021-04-13 23:09:05,252 Opening /home2/weiguang/data6/CL300_Caesar/NewMDCLUSTER_0167/Caesar_snap_128.hdf5\n",
      "yt : [INFO     ] 2021-04-13 23:09:05,395 Found 2117 halos\n",
      "yt : [INFO     ] 2021-04-13 23:09:05,404 Found 1304 galaxies\n"
     ]
    },
    {
     "name": "stdout",
     "output_type": "stream",
     "text": [
      "153 152\n"
     ]
    },
    {
     "name": "stderr",
     "output_type": "stream",
     "text": [
      "yt : [INFO     ] 2021-04-13 23:09:05,476 Opening /home2/weiguang/data6/CL300_Caesar/NewMDCLUSTER_0168/Caesar_snap_128.hdf5\n",
      "yt : [INFO     ] 2021-04-13 23:09:05,633 Found 2352 halos\n",
      "yt : [INFO     ] 2021-04-13 23:09:05,643 Found 1605 galaxies\n"
     ]
    },
    {
     "name": "stdout",
     "output_type": "stream",
     "text": [
      "126 125\n"
     ]
    },
    {
     "name": "stderr",
     "output_type": "stream",
     "text": [
      "yt : [INFO     ] 2021-04-13 23:09:05,730 Opening /home2/weiguang/data6/CL300_Caesar/NewMDCLUSTER_0169/Caesar_snap_128.hdf5\n",
      "yt : [INFO     ] 2021-04-13 23:09:05,868 Found 1803 halos\n",
      "yt : [INFO     ] 2021-04-13 23:09:05,877 Found 1173 galaxies\n"
     ]
    },
    {
     "name": "stdout",
     "output_type": "stream",
     "text": [
      "115 114\n"
     ]
    },
    {
     "name": "stderr",
     "output_type": "stream",
     "text": [
      "yt : [INFO     ] 2021-04-13 23:09:05,962 Opening /home2/weiguang/data6/CL300_Caesar/NewMDCLUSTER_0170/Caesar_snap_128.hdf5\n",
      "yt : [INFO     ] 2021-04-13 23:09:06,104 Found 1994 halos\n",
      "yt : [INFO     ] 2021-04-13 23:09:06,113 Found 1270 galaxies\n"
     ]
    },
    {
     "name": "stdout",
     "output_type": "stream",
     "text": [
      "151 150\n"
     ]
    },
    {
     "name": "stderr",
     "output_type": "stream",
     "text": [
      "yt : [INFO     ] 2021-04-13 23:09:06,205 Opening /home2/weiguang/data6/CL300_Caesar/NewMDCLUSTER_0171/Caesar_snap_128.hdf5\n",
      "yt : [INFO     ] 2021-04-13 23:09:06,349 Found 2066 halos\n",
      "yt : [INFO     ] 2021-04-13 23:09:06,358 Found 1274 galaxies\n"
     ]
    },
    {
     "name": "stdout",
     "output_type": "stream",
     "text": [
      "94 93\n"
     ]
    },
    {
     "name": "stderr",
     "output_type": "stream",
     "text": [
      "yt : [INFO     ] 2021-04-13 23:09:06,452 Opening /home2/weiguang/data6/CL300_Caesar/NewMDCLUSTER_0172/Caesar_snap_128.hdf5\n",
      "yt : [INFO     ] 2021-04-13 23:09:06,603 Found 2181 halos\n",
      "yt : [INFO     ] 2021-04-13 23:09:06,617 Found 1271 galaxies\n"
     ]
    },
    {
     "name": "stdout",
     "output_type": "stream",
     "text": [
      "135 134\n"
     ]
    },
    {
     "name": "stderr",
     "output_type": "stream",
     "text": [
      "yt : [INFO     ] 2021-04-13 23:09:06,716 Opening /home2/weiguang/data6/CL300_Caesar/NewMDCLUSTER_0173/Caesar_snap_128.hdf5\n",
      "yt : [INFO     ] 2021-04-13 23:09:06,884 Found 1820 halos\n",
      "yt : [INFO     ] 2021-04-13 23:09:06,893 Found 944 galaxies\n"
     ]
    },
    {
     "name": "stdout",
     "output_type": "stream",
     "text": [
      "144 143\n"
     ]
    },
    {
     "name": "stderr",
     "output_type": "stream",
     "text": [
      "yt : [INFO     ] 2021-04-13 23:09:06,949 Opening /home2/weiguang/data6/CL300_Caesar/NewMDCLUSTER_0174/Caesar_snap_128.hdf5\n",
      "yt : [INFO     ] 2021-04-13 23:09:07,094 Found 2831 halos\n",
      "yt : [INFO     ] 2021-04-13 23:09:07,102 Found 2113 galaxies\n"
     ]
    },
    {
     "name": "stdout",
     "output_type": "stream",
     "text": [
      "100 99\n"
     ]
    },
    {
     "name": "stderr",
     "output_type": "stream",
     "text": [
      "yt : [INFO     ] 2021-04-13 23:09:07,283 Opening /home2/weiguang/data6/CL300_Caesar/NewMDCLUSTER_0175/Caesar_snap_128.hdf5\n",
      "yt : [INFO     ] 2021-04-13 23:09:07,433 Found 2572 halos\n",
      "yt : [INFO     ] 2021-04-13 23:09:07,442 Found 1711 galaxies\n"
     ]
    },
    {
     "name": "stdout",
     "output_type": "stream",
     "text": [
      "115 114\n"
     ]
    },
    {
     "name": "stderr",
     "output_type": "stream",
     "text": [
      "yt : [INFO     ] 2021-04-13 23:09:07,527 Opening /home2/weiguang/data6/CL300_Caesar/NewMDCLUSTER_0176/Caesar_snap_128.hdf5\n",
      "yt : [INFO     ] 2021-04-13 23:09:07,662 Found 1694 halos\n",
      "yt : [INFO     ] 2021-04-13 23:09:07,671 Found 878 galaxies\n"
     ]
    },
    {
     "name": "stdout",
     "output_type": "stream",
     "text": [
      "125 124\n"
     ]
    },
    {
     "name": "stderr",
     "output_type": "stream",
     "text": [
      "yt : [INFO     ] 2021-04-13 23:09:07,751 Opening /home2/weiguang/data6/CL300_Caesar/NewMDCLUSTER_0177/Caesar_snap_128.hdf5\n",
      "yt : [INFO     ] 2021-04-13 23:09:07,895 Found 2014 halos\n",
      "yt : [INFO     ] 2021-04-13 23:09:07,903 Found 1257 galaxies\n"
     ]
    },
    {
     "name": "stdout",
     "output_type": "stream",
     "text": [
      "148 147\n"
     ]
    },
    {
     "name": "stderr",
     "output_type": "stream",
     "text": [
      "yt : [INFO     ] 2021-04-13 23:09:07,999 Opening /home2/weiguang/data6/CL300_Caesar/NewMDCLUSTER_0178/Caesar_snap_128.hdf5\n",
      "yt : [INFO     ] 2021-04-13 23:09:08,138 Found 1869 halos\n",
      "yt : [INFO     ] 2021-04-13 23:09:08,147 Found 1065 galaxies\n"
     ]
    },
    {
     "name": "stdout",
     "output_type": "stream",
     "text": [
      "126 125\n"
     ]
    },
    {
     "name": "stderr",
     "output_type": "stream",
     "text": [
      "yt : [INFO     ] 2021-04-13 23:09:08,228 Opening /home2/weiguang/data6/CL300_Caesar/NewMDCLUSTER_0179/Caesar_snap_128.hdf5\n",
      "yt : [INFO     ] 2021-04-13 23:09:08,364 Found 1603 halos\n",
      "yt : [INFO     ] 2021-04-13 23:09:08,373 Found 817 galaxies\n"
     ]
    },
    {
     "name": "stdout",
     "output_type": "stream",
     "text": [
      "164 163\n"
     ]
    },
    {
     "name": "stderr",
     "output_type": "stream",
     "text": [
      "yt : [INFO     ] 2021-04-13 23:09:08,421 Opening /home2/weiguang/data6/CL300_Caesar/NewMDCLUSTER_0180/Caesar_snap_128.hdf5\n",
      "yt : [INFO     ] 2021-04-13 23:09:08,559 Found 2054 halos\n",
      "yt : [INFO     ] 2021-04-13 23:09:08,569 Found 1148 galaxies\n"
     ]
    },
    {
     "name": "stdout",
     "output_type": "stream",
     "text": [
      "127 126\n"
     ]
    },
    {
     "name": "stderr",
     "output_type": "stream",
     "text": [
      "yt : [INFO     ] 2021-04-13 23:09:08,638 Opening /home2/weiguang/data6/CL300_Caesar/NewMDCLUSTER_0181/Caesar_snap_128.hdf5\n",
      "yt : [INFO     ] 2021-04-13 23:09:08,781 Found 1333 halos\n",
      "yt : [INFO     ] 2021-04-13 23:09:08,790 Found 655 galaxies\n"
     ]
    },
    {
     "name": "stdout",
     "output_type": "stream",
     "text": [
      "121 120\n"
     ]
    },
    {
     "name": "stderr",
     "output_type": "stream",
     "text": [
      "yt : [INFO     ] 2021-04-13 23:09:08,834 Opening /home2/weiguang/data6/CL300_Caesar/NewMDCLUSTER_0182/Caesar_snap_128.hdf5\n",
      "yt : [INFO     ] 2021-04-13 23:09:08,976 Found 2055 halos\n",
      "yt : [INFO     ] 2021-04-13 23:09:08,987 Found 1171 galaxies\n"
     ]
    },
    {
     "name": "stdout",
     "output_type": "stream",
     "text": [
      "127 126\n"
     ]
    },
    {
     "name": "stderr",
     "output_type": "stream",
     "text": [
      "yt : [INFO     ] 2021-04-13 23:09:09,065 Opening /home2/weiguang/data6/CL300_Caesar/NewMDCLUSTER_0183/Caesar_snap_128.hdf5\n",
      "yt : [INFO     ] 2021-04-13 23:09:09,209 Found 1786 halos\n",
      "yt : [INFO     ] 2021-04-13 23:09:09,218 Found 1002 galaxies\n"
     ]
    },
    {
     "name": "stdout",
     "output_type": "stream",
     "text": [
      "145 144\n"
     ]
    },
    {
     "name": "stderr",
     "output_type": "stream",
     "text": [
      "yt : [INFO     ] 2021-04-13 23:09:09,286 Opening /home2/weiguang/data6/CL300_Caesar/NewMDCLUSTER_0184/Caesar_snap_128.hdf5\n",
      "yt : [INFO     ] 2021-04-13 23:09:09,435 Found 1738 halos\n",
      "yt : [INFO     ] 2021-04-13 23:09:09,445 Found 1027 galaxies\n"
     ]
    },
    {
     "name": "stdout",
     "output_type": "stream",
     "text": [
      "155 154\n"
     ]
    },
    {
     "name": "stderr",
     "output_type": "stream",
     "text": [
      "yt : [INFO     ] 2021-04-13 23:09:09,514 Opening /home2/weiguang/data6/CL300_Caesar/NewMDCLUSTER_0185/Caesar_snap_128.hdf5\n",
      "yt : [INFO     ] 2021-04-13 23:09:09,657 Found 2099 halos\n",
      "yt : [INFO     ] 2021-04-13 23:09:09,666 Found 1349 galaxies\n"
     ]
    },
    {
     "name": "stdout",
     "output_type": "stream",
     "text": [
      "121 120\n"
     ]
    },
    {
     "name": "stderr",
     "output_type": "stream",
     "text": [
      "yt : [INFO     ] 2021-04-13 23:09:09,737 Opening /home2/weiguang/data6/CL300_Caesar/NewMDCLUSTER_0186/Caesar_snap_128.hdf5\n",
      "yt : [INFO     ] 2021-04-13 23:09:09,884 Found 1677 halos\n",
      "yt : [INFO     ] 2021-04-13 23:09:09,894 Found 971 galaxies\n"
     ]
    },
    {
     "name": "stdout",
     "output_type": "stream",
     "text": [
      "137 136\n"
     ]
    },
    {
     "name": "stderr",
     "output_type": "stream",
     "text": [
      "yt : [INFO     ] 2021-04-13 23:09:09,972 Opening /home2/weiguang/data6/CL300_Caesar/NewMDCLUSTER_0187/Caesar_snap_128.hdf5\n",
      "yt : [INFO     ] 2021-04-13 23:09:10,116 Found 1789 halos\n",
      "yt : [INFO     ] 2021-04-13 23:09:10,125 Found 956 galaxies\n"
     ]
    },
    {
     "name": "stdout",
     "output_type": "stream",
     "text": [
      "133 132\n"
     ]
    },
    {
     "name": "stderr",
     "output_type": "stream",
     "text": [
      "yt : [INFO     ] 2021-04-13 23:09:10,182 Opening /home2/weiguang/data6/CL300_Caesar/NewMDCLUSTER_0188/Caesar_snap_128.hdf5\n",
      "yt : [INFO     ] 2021-04-13 23:09:10,322 Found 2039 halos\n",
      "yt : [INFO     ] 2021-04-13 23:09:10,330 Found 1360 galaxies\n"
     ]
    },
    {
     "name": "stdout",
     "output_type": "stream",
     "text": [
      "147 146\n"
     ]
    },
    {
     "name": "stderr",
     "output_type": "stream",
     "text": [
      "yt : [INFO     ] 2021-04-13 23:09:10,409 Opening /home2/weiguang/data6/CL300_Caesar/NewMDCLUSTER_0189/Caesar_snap_128.hdf5\n",
      "yt : [INFO     ] 2021-04-13 23:09:10,550 Found 1984 halos\n",
      "yt : [INFO     ] 2021-04-13 23:09:10,558 Found 1132 galaxies\n"
     ]
    },
    {
     "name": "stdout",
     "output_type": "stream",
     "text": [
      "120 119\n"
     ]
    },
    {
     "name": "stderr",
     "output_type": "stream",
     "text": [
      "yt : [INFO     ] 2021-04-13 23:09:10,621 Opening /home2/weiguang/data6/CL300_Caesar/NewMDCLUSTER_0190/Caesar_snap_128.hdf5\n",
      "yt : [INFO     ] 2021-04-13 23:09:10,757 Found 1911 halos\n",
      "yt : [INFO     ] 2021-04-13 23:09:10,766 Found 1139 galaxies\n"
     ]
    },
    {
     "name": "stdout",
     "output_type": "stream",
     "text": [
      "135 134\n"
     ]
    },
    {
     "name": "stderr",
     "output_type": "stream",
     "text": [
      "yt : [INFO     ] 2021-04-13 23:09:10,835 Opening /home2/weiguang/data6/CL300_Caesar/NewMDCLUSTER_0191/Caesar_snap_128.hdf5\n",
      "yt : [INFO     ] 2021-04-13 23:09:10,978 Found 2075 halos\n",
      "yt : [INFO     ] 2021-04-13 23:09:10,986 Found 1112 galaxies\n"
     ]
    },
    {
     "name": "stdout",
     "output_type": "stream",
     "text": [
      "132 131\n"
     ]
    },
    {
     "name": "stderr",
     "output_type": "stream",
     "text": [
      "yt : [INFO     ] 2021-04-13 23:09:11,053 Opening /home2/weiguang/data6/CL300_Caesar/NewMDCLUSTER_0192/Caesar_snap_128.hdf5\n",
      "yt : [INFO     ] 2021-04-13 23:09:11,200 Found 2051 halos\n",
      "yt : [INFO     ] 2021-04-13 23:09:11,209 Found 1245 galaxies\n"
     ]
    },
    {
     "name": "stdout",
     "output_type": "stream",
     "text": [
      "128 127\n"
     ]
    },
    {
     "name": "stderr",
     "output_type": "stream",
     "text": [
      "yt : [INFO     ] 2021-04-13 23:09:11,277 Opening /home2/weiguang/data6/CL300_Caesar/NewMDCLUSTER_0193/Caesar_snap_128.hdf5\n",
      "yt : [INFO     ] 2021-04-13 23:09:11,415 Found 2132 halos\n",
      "yt : [INFO     ] 2021-04-13 23:09:11,424 Found 1270 galaxies\n"
     ]
    },
    {
     "name": "stdout",
     "output_type": "stream",
     "text": [
      "153 152\n"
     ]
    },
    {
     "name": "stderr",
     "output_type": "stream",
     "text": [
      "yt : [INFO     ] 2021-04-13 23:09:11,493 Opening /home2/weiguang/data6/CL300_Caesar/NewMDCLUSTER_0194/Caesar_snap_128.hdf5\n",
      "yt : [INFO     ] 2021-04-13 23:09:11,639 Found 1643 halos\n",
      "yt : [INFO     ] 2021-04-13 23:09:11,649 Found 1054 galaxies\n"
     ]
    },
    {
     "name": "stdout",
     "output_type": "stream",
     "text": [
      "115 114\n"
     ]
    },
    {
     "name": "stderr",
     "output_type": "stream",
     "text": [
      "yt : [INFO     ] 2021-04-13 23:09:11,711 Opening /home2/weiguang/data6/CL300_Caesar/NewMDCLUSTER_0195/Caesar_snap_128.hdf5\n",
      "yt : [INFO     ] 2021-04-13 23:09:11,863 Found 2313 halos\n",
      "yt : [INFO     ] 2021-04-13 23:09:11,873 Found 1333 galaxies\n"
     ]
    },
    {
     "name": "stdout",
     "output_type": "stream",
     "text": [
      "131 130\n"
     ]
    },
    {
     "name": "stderr",
     "output_type": "stream",
     "text": [
      "yt : [INFO     ] 2021-04-13 23:09:11,959 Opening /home2/weiguang/data6/CL300_Caesar/NewMDCLUSTER_0196/Caesar_snap_128.hdf5\n",
      "yt : [INFO     ] 2021-04-13 23:09:12,102 Found 1797 halos\n",
      "yt : [INFO     ] 2021-04-13 23:09:12,111 Found 1130 galaxies\n"
     ]
    },
    {
     "name": "stdout",
     "output_type": "stream",
     "text": [
      "136 135\n"
     ]
    },
    {
     "name": "stderr",
     "output_type": "stream",
     "text": [
      "yt : [INFO     ] 2021-04-13 23:09:12,185 Opening /home2/weiguang/data6/CL300_Caesar/NewMDCLUSTER_0197/Caesar_snap_128.hdf5\n",
      "yt : [INFO     ] 2021-04-13 23:09:12,333 Found 2083 halos\n",
      "yt : [INFO     ] 2021-04-13 23:09:12,343 Found 1423 galaxies\n"
     ]
    },
    {
     "name": "stdout",
     "output_type": "stream",
     "text": [
      "136 135\n"
     ]
    },
    {
     "name": "stderr",
     "output_type": "stream",
     "text": [
      "yt : [INFO     ] 2021-04-13 23:09:12,425 Opening /home2/weiguang/data6/CL300_Caesar/NewMDCLUSTER_0198/Caesar_snap_128.hdf5\n",
      "yt : [INFO     ] 2021-04-13 23:09:12,564 Found 2006 halos\n",
      "yt : [INFO     ] 2021-04-13 23:09:12,575 Found 1175 galaxies\n"
     ]
    },
    {
     "name": "stdout",
     "output_type": "stream",
     "text": [
      "153 152\n"
     ]
    },
    {
     "name": "stderr",
     "output_type": "stream",
     "text": [
      "yt : [INFO     ] 2021-04-13 23:09:12,643 Opening /home2/weiguang/data6/CL300_Caesar/NewMDCLUSTER_0199/Caesar_snap_128.hdf5\n",
      "yt : [INFO     ] 2021-04-13 23:09:12,783 Found 1825 halos\n",
      "yt : [INFO     ] 2021-04-13 23:09:12,792 Found 1036 galaxies\n"
     ]
    },
    {
     "name": "stdout",
     "output_type": "stream",
     "text": [
      "83 82\n"
     ]
    },
    {
     "name": "stderr",
     "output_type": "stream",
     "text": [
      "yt : [INFO     ] 2021-04-13 23:09:12,854 Opening /home2/weiguang/data6/CL300_Caesar/NewMDCLUSTER_0200/Caesar_snap_128.hdf5\n",
      "yt : [INFO     ] 2021-04-13 23:09:12,999 Found 1814 halos\n",
      "yt : [INFO     ] 2021-04-13 23:09:13,010 Found 1119 galaxies\n"
     ]
    },
    {
     "name": "stdout",
     "output_type": "stream",
     "text": [
      "128 127\n"
     ]
    },
    {
     "name": "stderr",
     "output_type": "stream",
     "text": [
      "yt : [INFO     ] 2021-04-13 23:09:13,080 Opening /home2/weiguang/data6/CL300_Caesar/NewMDCLUSTER_0201/Caesar_snap_128.hdf5\n",
      "yt : [INFO     ] 2021-04-13 23:09:13,219 Found 1826 halos\n",
      "yt : [INFO     ] 2021-04-13 23:09:13,227 Found 1054 galaxies\n"
     ]
    },
    {
     "name": "stdout",
     "output_type": "stream",
     "text": [
      "124 123\n"
     ]
    },
    {
     "name": "stderr",
     "output_type": "stream",
     "text": [
      "yt : [INFO     ] 2021-04-13 23:09:13,287 Opening /home2/weiguang/data6/CL300_Caesar/NewMDCLUSTER_0202/Caesar_snap_128.hdf5\n",
      "yt : [INFO     ] 2021-04-13 23:09:13,422 Found 2207 halos\n",
      "yt : [INFO     ] 2021-04-13 23:09:13,430 Found 1307 galaxies\n"
     ]
    },
    {
     "name": "stdout",
     "output_type": "stream",
     "text": [
      "121 120\n"
     ]
    },
    {
     "name": "stderr",
     "output_type": "stream",
     "text": [
      "yt : [INFO     ] 2021-04-13 23:09:13,501 Opening /home2/weiguang/data6/CL300_Caesar/NewMDCLUSTER_0203/Caesar_snap_128.hdf5\n",
      "yt : [INFO     ] 2021-04-13 23:09:13,650 Found 1809 halos\n",
      "yt : [INFO     ] 2021-04-13 23:09:13,659 Found 960 galaxies\n"
     ]
    },
    {
     "name": "stdout",
     "output_type": "stream",
     "text": [
      "157 156\n"
     ]
    },
    {
     "name": "stderr",
     "output_type": "stream",
     "text": [
      "yt : [INFO     ] 2021-04-13 23:09:13,717 Opening /home2/weiguang/data6/CL300_Caesar/NewMDCLUSTER_0204/Caesar_snap_128.hdf5\n",
      "yt : [INFO     ] 2021-04-13 23:09:13,898 Found 2048 halos\n",
      "yt : [INFO     ] 2021-04-13 23:09:13,908 Found 1191 galaxies\n"
     ]
    },
    {
     "name": "stdout",
     "output_type": "stream",
     "text": [
      "112 111\n"
     ]
    },
    {
     "name": "stderr",
     "output_type": "stream",
     "text": [
      "yt : [INFO     ] 2021-04-13 23:09:13,974 Opening /home2/weiguang/data6/CL300_Caesar/NewMDCLUSTER_0205/Caesar_snap_128.hdf5\n",
      "yt : [INFO     ] 2021-04-13 23:09:14,114 Found 2082 halos\n",
      "yt : [INFO     ] 2021-04-13 23:09:14,122 Found 1288 galaxies\n"
     ]
    },
    {
     "name": "stdout",
     "output_type": "stream",
     "text": [
      "129 128\n"
     ]
    },
    {
     "name": "stderr",
     "output_type": "stream",
     "text": [
      "yt : [INFO     ] 2021-04-13 23:09:14,190 Opening /home2/weiguang/data6/CL300_Caesar/NewMDCLUSTER_0206/Caesar_snap_128.hdf5\n",
      "yt : [INFO     ] 2021-04-13 23:09:14,332 Found 2175 halos\n",
      "yt : [INFO     ] 2021-04-13 23:09:14,342 Found 1395 galaxies\n"
     ]
    },
    {
     "name": "stdout",
     "output_type": "stream",
     "text": [
      "116 115\n"
     ]
    },
    {
     "name": "stderr",
     "output_type": "stream",
     "text": [
      "yt : [INFO     ] 2021-04-13 23:09:14,423 Opening /home2/weiguang/data6/CL300_Caesar/NewMDCLUSTER_0207/Caesar_snap_128.hdf5\n",
      "yt : [INFO     ] 2021-04-13 23:09:14,570 Found 1896 halos\n",
      "yt : [INFO     ] 2021-04-13 23:09:14,580 Found 1045 galaxies\n"
     ]
    },
    {
     "name": "stdout",
     "output_type": "stream",
     "text": [
      "134 133\n"
     ]
    },
    {
     "name": "stderr",
     "output_type": "stream",
     "text": [
      "yt : [INFO     ] 2021-04-13 23:09:14,649 Opening /home2/weiguang/data6/CL300_Caesar/NewMDCLUSTER_0208/Caesar_snap_128.hdf5\n",
      "yt : [INFO     ] 2021-04-13 23:09:14,796 Found 2261 halos\n",
      "yt : [INFO     ] 2021-04-13 23:09:14,805 Found 1371 galaxies\n"
     ]
    },
    {
     "name": "stdout",
     "output_type": "stream",
     "text": [
      "100 99\n"
     ]
    },
    {
     "name": "stderr",
     "output_type": "stream",
     "text": [
      "yt : [INFO     ] 2021-04-13 23:09:14,893 Opening /home2/weiguang/data6/CL300_Caesar/NewMDCLUSTER_0209/Caesar_snap_128.hdf5\n",
      "yt : [INFO     ] 2021-04-13 23:09:15,039 Found 1721 halos\n",
      "yt : [INFO     ] 2021-04-13 23:09:15,048 Found 937 galaxies\n"
     ]
    },
    {
     "name": "stdout",
     "output_type": "stream",
     "text": [
      "107 106\n"
     ]
    },
    {
     "name": "stderr",
     "output_type": "stream",
     "text": [
      "yt : [INFO     ] 2021-04-13 23:09:15,107 Opening /home2/weiguang/data6/CL300_Caesar/NewMDCLUSTER_0210/Caesar_snap_128.hdf5\n",
      "yt : [INFO     ] 2021-04-13 23:09:15,253 Found 1527 halos\n",
      "yt : [INFO     ] 2021-04-13 23:09:15,262 Found 777 galaxies\n"
     ]
    },
    {
     "name": "stdout",
     "output_type": "stream",
     "text": [
      "127 126\n"
     ]
    },
    {
     "name": "stderr",
     "output_type": "stream",
     "text": [
      "yt : [INFO     ] 2021-04-13 23:09:15,310 Opening /home2/weiguang/data6/CL300_Caesar/NewMDCLUSTER_0211/Caesar_snap_128.hdf5\n",
      "yt : [INFO     ] 2021-04-13 23:09:15,453 Found 2079 halos\n",
      "yt : [INFO     ] 2021-04-13 23:09:15,462 Found 1207 galaxies\n"
     ]
    },
    {
     "name": "stdout",
     "output_type": "stream",
     "text": [
      "138 137\n"
     ]
    },
    {
     "name": "stderr",
     "output_type": "stream",
     "text": [
      "yt : [INFO     ] 2021-04-13 23:09:17,764 Opening /home2/weiguang/data6/CL300_Caesar/NewMDCLUSTER_0212/Caesar_snap_128.hdf5\n",
      "yt : [INFO     ] 2021-04-13 23:09:17,902 Found 1786 halos\n",
      "yt : [INFO     ] 2021-04-13 23:09:17,910 Found 945 galaxies\n"
     ]
    },
    {
     "name": "stdout",
     "output_type": "stream",
     "text": [
      "144 143\n"
     ]
    },
    {
     "name": "stderr",
     "output_type": "stream",
     "text": [
      "yt : [INFO     ] 2021-04-13 23:09:17,968 Opening /home2/weiguang/data6/CL300_Caesar/NewMDCLUSTER_0213/Caesar_snap_128.hdf5\n",
      "yt : [INFO     ] 2021-04-13 23:09:18,108 Found 2727 halos\n",
      "yt : [INFO     ] 2021-04-13 23:09:18,118 Found 1815 galaxies\n"
     ]
    },
    {
     "name": "stdout",
     "output_type": "stream",
     "text": [
      "107 106\n"
     ]
    },
    {
     "name": "stderr",
     "output_type": "stream",
     "text": [
      "yt : [INFO     ] 2021-04-13 23:09:18,224 Opening /home2/weiguang/data6/CL300_Caesar/NewMDCLUSTER_0214/Caesar_snap_128.hdf5\n",
      "yt : [INFO     ] 2021-04-13 23:09:18,361 Found 2120 halos\n",
      "yt : [INFO     ] 2021-04-13 23:09:18,369 Found 1369 galaxies\n"
     ]
    },
    {
     "name": "stdout",
     "output_type": "stream",
     "text": [
      "132 131\n"
     ]
    },
    {
     "name": "stderr",
     "output_type": "stream",
     "text": [
      "yt : [INFO     ] 2021-04-13 23:09:18,442 Opening /home2/weiguang/data6/CL300_Caesar/NewMDCLUSTER_0215/Caesar_snap_128.hdf5\n",
      "yt : [INFO     ] 2021-04-13 23:09:18,585 Found 1825 halos\n",
      "yt : [INFO     ] 2021-04-13 23:09:18,594 Found 1007 galaxies\n"
     ]
    },
    {
     "name": "stdout",
     "output_type": "stream",
     "text": [
      "131 130\n"
     ]
    },
    {
     "name": "stderr",
     "output_type": "stream",
     "text": [
      "yt : [INFO     ] 2021-04-13 23:09:18,653 Opening /home2/weiguang/data6/CL300_Caesar/NewMDCLUSTER_0216/Caesar_snap_128.hdf5\n",
      "yt : [INFO     ] 2021-04-13 23:09:18,789 Found 1910 halos\n",
      "yt : [INFO     ] 2021-04-13 23:09:18,799 Found 1057 galaxies\n"
     ]
    },
    {
     "name": "stdout",
     "output_type": "stream",
     "text": [
      "114 113\n"
     ]
    },
    {
     "name": "stderr",
     "output_type": "stream",
     "text": [
      "yt : [INFO     ] 2021-04-13 23:09:18,864 Opening /home2/weiguang/data6/CL300_Caesar/NewMDCLUSTER_0217/Caesar_snap_128.hdf5\n",
      "yt : [INFO     ] 2021-04-13 23:09:19,008 Found 2022 halos\n",
      "yt : [INFO     ] 2021-04-13 23:09:19,017 Found 1264 galaxies\n"
     ]
    },
    {
     "name": "stdout",
     "output_type": "stream",
     "text": [
      "127 126\n"
     ]
    },
    {
     "name": "stderr",
     "output_type": "stream",
     "text": [
      "yt : [INFO     ] 2021-04-13 23:09:19,087 Opening /home2/weiguang/data6/CL300_Caesar/NewMDCLUSTER_0218/Caesar_snap_128.hdf5\n",
      "yt : [INFO     ] 2021-04-13 23:09:19,224 Found 1799 halos\n",
      "yt : [INFO     ] 2021-04-13 23:09:19,232 Found 976 galaxies\n"
     ]
    },
    {
     "name": "stdout",
     "output_type": "stream",
     "text": [
      "122 121\n"
     ]
    },
    {
     "name": "stderr",
     "output_type": "stream",
     "text": [
      "yt : [INFO     ] 2021-04-13 23:09:19,291 Opening /home2/weiguang/data6/CL300_Caesar/NewMDCLUSTER_0219/Caesar_snap_128.hdf5\n",
      "yt : [INFO     ] 2021-04-13 23:09:19,438 Found 2058 halos\n",
      "yt : [INFO     ] 2021-04-13 23:09:19,447 Found 1266 galaxies\n"
     ]
    },
    {
     "name": "stdout",
     "output_type": "stream",
     "text": [
      "132 131\n"
     ]
    },
    {
     "name": "stderr",
     "output_type": "stream",
     "text": [
      "yt : [INFO     ] 2021-04-13 23:09:19,520 Opening /home2/weiguang/data6/CL300_Caesar/NewMDCLUSTER_0220/Caesar_snap_128.hdf5\n",
      "yt : [INFO     ] 2021-04-13 23:09:19,682 Found 1678 halos\n",
      "yt : [INFO     ] 2021-04-13 23:09:19,692 Found 983 galaxies\n"
     ]
    },
    {
     "name": "stdout",
     "output_type": "stream",
     "text": [
      "124 123\n"
     ]
    },
    {
     "name": "stderr",
     "output_type": "stream",
     "text": [
      "yt : [INFO     ] 2021-04-13 23:09:19,770 Opening /home2/weiguang/data6/CL300_Caesar/NewMDCLUSTER_0221/Caesar_snap_128.hdf5\n",
      "yt : [INFO     ] 2021-04-13 23:09:19,951 Found 2080 halos\n",
      "yt : [INFO     ] 2021-04-13 23:09:19,962 Found 1268 galaxies\n"
     ]
    },
    {
     "name": "stdout",
     "output_type": "stream",
     "text": [
      "136 135\n"
     ]
    },
    {
     "name": "stderr",
     "output_type": "stream",
     "text": [
      "yt : [INFO     ] 2021-04-13 23:09:20,034 Opening /home2/weiguang/data6/CL300_Caesar/NewMDCLUSTER_0222/Caesar_snap_128.hdf5\n",
      "yt : [INFO     ] 2021-04-13 23:09:20,178 Found 1917 halos\n",
      "yt : [INFO     ] 2021-04-13 23:09:20,188 Found 1146 galaxies\n"
     ]
    },
    {
     "name": "stdout",
     "output_type": "stream",
     "text": [
      "140 139\n"
     ]
    },
    {
     "name": "stderr",
     "output_type": "stream",
     "text": [
      "yt : [INFO     ] 2021-04-13 23:09:20,253 Opening /home2/weiguang/data6/CL300_Caesar/NewMDCLUSTER_0223/Caesar_snap_128.hdf5\n",
      "yt : [INFO     ] 2021-04-13 23:09:20,392 Found 2171 halos\n",
      "yt : [INFO     ] 2021-04-13 23:09:20,401 Found 1383 galaxies\n"
     ]
    },
    {
     "name": "stdout",
     "output_type": "stream",
     "text": [
      "112 111\n"
     ]
    },
    {
     "name": "stderr",
     "output_type": "stream",
     "text": [
      "yt : [INFO     ] 2021-04-13 23:09:20,478 Opening /home2/weiguang/data6/CL300_Caesar/NewMDCLUSTER_0224/Caesar_snap_128.hdf5\n",
      "yt : [INFO     ] 2021-04-13 23:09:20,635 Found 1996 halos\n",
      "yt : [INFO     ] 2021-04-13 23:09:20,645 Found 1167 galaxies\n"
     ]
    },
    {
     "name": "stdout",
     "output_type": "stream",
     "text": [
      "141 140\n"
     ]
    },
    {
     "name": "stderr",
     "output_type": "stream",
     "text": [
      "yt : [INFO     ] 2021-04-13 23:09:20,718 Opening /home2/weiguang/data6/CL300_Caesar/NewMDCLUSTER_0225/Caesar_snap_128.hdf5\n",
      "yt : [INFO     ] 2021-04-13 23:09:20,858 Found 1536 halos\n",
      "yt : [INFO     ] 2021-04-13 23:09:20,867 Found 898 galaxies\n"
     ]
    },
    {
     "name": "stdout",
     "output_type": "stream",
     "text": [
      "101 100\n"
     ]
    },
    {
     "name": "stderr",
     "output_type": "stream",
     "text": [
      "yt : [INFO     ] 2021-04-13 23:09:20,930 Opening /home2/weiguang/data6/CL300_Caesar/NewMDCLUSTER_0226/Caesar_snap_128.hdf5\n",
      "yt : [INFO     ] 2021-04-13 23:09:21,069 Found 2227 halos\n",
      "yt : [INFO     ] 2021-04-13 23:09:21,077 Found 1386 galaxies\n"
     ]
    },
    {
     "name": "stdout",
     "output_type": "stream",
     "text": [
      "119 118\n"
     ]
    },
    {
     "name": "stderr",
     "output_type": "stream",
     "text": [
      "yt : [INFO     ] 2021-04-13 23:09:21,157 Opening /home2/weiguang/data6/CL300_Caesar/NewMDCLUSTER_0227/Caesar_snap_128.hdf5\n",
      "yt : [INFO     ] 2021-04-13 23:09:21,311 Found 1796 halos\n",
      "yt : [INFO     ] 2021-04-13 23:09:21,320 Found 1028 galaxies\n"
     ]
    },
    {
     "name": "stdout",
     "output_type": "stream",
     "text": [
      "149 148\n"
     ]
    },
    {
     "name": "stderr",
     "output_type": "stream",
     "text": [
      "yt : [INFO     ] 2021-04-13 23:09:21,379 Opening /home2/weiguang/data6/CL300_Caesar/NewMDCLUSTER_0228/Caesar_snap_128.hdf5\n",
      "yt : [INFO     ] 2021-04-13 23:09:21,518 Found 1643 halos\n",
      "yt : [INFO     ] 2021-04-13 23:09:21,527 Found 970 galaxies\n"
     ]
    },
    {
     "name": "stdout",
     "output_type": "stream",
     "text": [
      "121 120\n"
     ]
    },
    {
     "name": "stderr",
     "output_type": "stream",
     "text": [
      "yt : [INFO     ] 2021-04-13 23:09:21,584 Opening /home2/weiguang/data6/CL300_Caesar/NewMDCLUSTER_0229/Caesar_snap_128.hdf5\n",
      "yt : [INFO     ] 2021-04-13 23:09:21,746 Found 1473 halos\n",
      "yt : [INFO     ] 2021-04-13 23:09:21,755 Found 808 galaxies\n"
     ]
    },
    {
     "name": "stdout",
     "output_type": "stream",
     "text": [
      "123 122\n"
     ]
    },
    {
     "name": "stderr",
     "output_type": "stream",
     "text": [
      "yt : [INFO     ] 2021-04-13 23:09:21,818 Opening /home2/weiguang/data6/CL300_Caesar/NewMDCLUSTER_0230/Caesar_snap_128.hdf5\n",
      "yt : [INFO     ] 2021-04-13 23:09:21,988 Found 1531 halos\n",
      "yt : [INFO     ] 2021-04-13 23:09:21,999 Found 892 galaxies\n"
     ]
    },
    {
     "name": "stdout",
     "output_type": "stream",
     "text": [
      "143 142\n"
     ]
    },
    {
     "name": "stderr",
     "output_type": "stream",
     "text": [
      "yt : [INFO     ] 2021-04-13 23:09:22,060 Opening /home2/weiguang/data6/CL300_Caesar/NewMDCLUSTER_0231/Caesar_snap_128.hdf5\n",
      "yt : [INFO     ] 2021-04-13 23:09:22,238 Found 2585 halos\n",
      "yt : [INFO     ] 2021-04-13 23:09:22,247 Found 1622 galaxies\n"
     ]
    },
    {
     "name": "stdout",
     "output_type": "stream",
     "text": [
      "112 111\n"
     ]
    },
    {
     "name": "stderr",
     "output_type": "stream",
     "text": [
      "yt : [INFO     ] 2021-04-13 23:09:22,364 Opening /home2/weiguang/data6/CL300_Caesar/NewMDCLUSTER_0232/Caesar_snap_128.hdf5\n",
      "yt : [INFO     ] 2021-04-13 23:09:22,523 Found 2323 halos\n",
      "yt : [INFO     ] 2021-04-13 23:09:22,533 Found 1461 galaxies\n"
     ]
    },
    {
     "name": "stdout",
     "output_type": "stream",
     "text": [
      "107 106\n"
     ]
    },
    {
     "name": "stderr",
     "output_type": "stream",
     "text": [
      "yt : [INFO     ] 2021-04-13 23:09:22,620 Opening /home2/weiguang/data6/CL300_Caesar/NewMDCLUSTER_0233/Caesar_snap_128.hdf5\n",
      "yt : [INFO     ] 2021-04-13 23:09:22,766 Found 1918 halos\n",
      "yt : [INFO     ] 2021-04-13 23:09:22,775 Found 1020 galaxies\n"
     ]
    },
    {
     "name": "stdout",
     "output_type": "stream",
     "text": [
      "124 123\n"
     ]
    },
    {
     "name": "stderr",
     "output_type": "stream",
     "text": [
      "yt : [INFO     ] 2021-04-13 23:09:22,837 Opening /home2/weiguang/data6/CL300_Caesar/NewMDCLUSTER_0234/Caesar_snap_128.hdf5\n",
      "yt : [INFO     ] 2021-04-13 23:09:22,975 Found 1874 halos\n",
      "yt : [INFO     ] 2021-04-13 23:09:22,985 Found 1097 galaxies\n"
     ]
    },
    {
     "name": "stdout",
     "output_type": "stream",
     "text": [
      "128 127\n"
     ]
    },
    {
     "name": "stderr",
     "output_type": "stream",
     "text": [
      "yt : [INFO     ] 2021-04-13 23:09:23,054 Opening /home2/weiguang/data6/CL300_Caesar/NewMDCLUSTER_0235/Caesar_snap_128.hdf5\n",
      "yt : [INFO     ] 2021-04-13 23:09:23,192 Found 1553 halos\n",
      "yt : [INFO     ] 2021-04-13 23:09:23,203 Found 841 galaxies\n"
     ]
    },
    {
     "name": "stdout",
     "output_type": "stream",
     "text": [
      "124 123\n"
     ]
    },
    {
     "name": "stderr",
     "output_type": "stream",
     "text": [
      "yt : [INFO     ] 2021-04-13 23:09:23,257 Opening /home2/weiguang/data6/CL300_Caesar/NewMDCLUSTER_0236/Caesar_snap_128.hdf5\n",
      "yt : [INFO     ] 2021-04-13 23:09:23,396 Found 1642 halos\n",
      "yt : [INFO     ] 2021-04-13 23:09:23,404 Found 944 galaxies\n"
     ]
    },
    {
     "name": "stdout",
     "output_type": "stream",
     "text": [
      "154 153\n"
     ]
    },
    {
     "name": "stderr",
     "output_type": "stream",
     "text": [
      "yt : [INFO     ] 2021-04-13 23:09:23,465 Opening /home2/weiguang/data6/CL300_Caesar/NewMDCLUSTER_0237/Caesar_snap_128.hdf5\n",
      "yt : [INFO     ] 2021-04-13 23:09:23,608 Found 1777 halos\n",
      "yt : [INFO     ] 2021-04-13 23:09:23,617 Found 894 galaxies\n"
     ]
    },
    {
     "name": "stdout",
     "output_type": "stream",
     "text": [
      "122 121\n"
     ]
    },
    {
     "name": "stderr",
     "output_type": "stream",
     "text": [
      "yt : [INFO     ] 2021-04-13 23:09:23,684 Opening /home2/weiguang/data6/CL300_Caesar/NewMDCLUSTER_0238/Caesar_snap_128.hdf5\n",
      "yt : [INFO     ] 2021-04-13 23:09:23,829 Found 2003 halos\n",
      "yt : [INFO     ] 2021-04-13 23:09:23,838 Found 1102 galaxies\n"
     ]
    },
    {
     "name": "stdout",
     "output_type": "stream",
     "text": [
      "89 88\n"
     ]
    },
    {
     "name": "stderr",
     "output_type": "stream",
     "text": [
      "yt : [INFO     ] 2021-04-13 23:09:23,900 Opening /home2/weiguang/data6/CL300_Caesar/NewMDCLUSTER_0239/Caesar_snap_128.hdf5\n",
      "yt : [INFO     ] 2021-04-13 23:09:24,038 Found 2238 halos\n",
      "yt : [INFO     ] 2021-04-13 23:09:24,045 Found 1322 galaxies\n"
     ]
    },
    {
     "name": "stdout",
     "output_type": "stream",
     "text": [
      "85 84\n"
     ]
    },
    {
     "name": "stderr",
     "output_type": "stream",
     "text": [
      "yt : [INFO     ] 2021-04-13 23:09:24,115 Opening /home2/weiguang/data6/CL300_Caesar/NewMDCLUSTER_0240/Caesar_snap_128.hdf5\n",
      "yt : [INFO     ] 2021-04-13 23:09:24,257 Found 1891 halos\n",
      "yt : [INFO     ] 2021-04-13 23:09:24,265 Found 1044 galaxies\n"
     ]
    },
    {
     "name": "stdout",
     "output_type": "stream",
     "text": [
      "104 103\n"
     ]
    },
    {
     "name": "stderr",
     "output_type": "stream",
     "text": [
      "yt : [INFO     ] 2021-04-13 23:09:24,324 Opening /home2/weiguang/data6/CL300_Caesar/NewMDCLUSTER_0241/Caesar_snap_128.hdf5\n",
      "yt : [INFO     ] 2021-04-13 23:09:24,470 Found 1770 halos\n",
      "yt : [INFO     ] 2021-04-13 23:09:24,479 Found 1074 galaxies\n"
     ]
    },
    {
     "name": "stdout",
     "output_type": "stream",
     "text": [
      "107 106\n"
     ]
    },
    {
     "name": "stderr",
     "output_type": "stream",
     "text": [
      "yt : [INFO     ] 2021-04-13 23:09:24,541 Opening /home2/weiguang/data6/CL300_Caesar/NewMDCLUSTER_0242/Caesar_snap_128.hdf5\n",
      "yt : [INFO     ] 2021-04-13 23:09:24,684 Found 1877 halos\n",
      "yt : [INFO     ] 2021-04-13 23:09:24,693 Found 1150 galaxies\n"
     ]
    },
    {
     "name": "stdout",
     "output_type": "stream",
     "text": [
      "121 120\n"
     ]
    },
    {
     "name": "stderr",
     "output_type": "stream",
     "text": [
      "yt : [INFO     ] 2021-04-13 23:09:24,762 Opening /home2/weiguang/data6/CL300_Caesar/NewMDCLUSTER_0243/Caesar_snap_128.hdf5\n",
      "yt : [INFO     ] 2021-04-13 23:09:24,920 Found 2261 halos\n",
      "yt : [INFO     ] 2021-04-13 23:09:24,934 Found 1440 galaxies\n"
     ]
    },
    {
     "name": "stdout",
     "output_type": "stream",
     "text": [
      "146 145\n"
     ]
    },
    {
     "name": "stderr",
     "output_type": "stream",
     "text": [
      "yt : [INFO     ] 2021-04-13 23:09:25,029 Opening /home2/weiguang/data6/CL300_Caesar/NewMDCLUSTER_0244/Caesar_snap_128.hdf5\n",
      "yt : [INFO     ] 2021-04-13 23:09:25,178 Found 1733 halos\n",
      "yt : [INFO     ] 2021-04-13 23:09:25,187 Found 1028 galaxies\n"
     ]
    },
    {
     "name": "stdout",
     "output_type": "stream",
     "text": [
      "121 120\n"
     ]
    },
    {
     "name": "stderr",
     "output_type": "stream",
     "text": [
      "yt : [INFO     ] 2021-04-13 23:09:25,251 Opening /home2/weiguang/data6/CL300_Caesar/NewMDCLUSTER_0245/Caesar_snap_128.hdf5\n",
      "yt : [INFO     ] 2021-04-13 23:09:25,389 Found 2571 halos\n",
      "yt : [INFO     ] 2021-04-13 23:09:25,397 Found 1659 galaxies\n"
     ]
    },
    {
     "name": "stdout",
     "output_type": "stream",
     "text": [
      "119 118\n"
     ]
    },
    {
     "name": "stderr",
     "output_type": "stream",
     "text": [
      "yt : [INFO     ] 2021-04-13 23:09:25,484 Opening /home2/weiguang/data6/CL300_Caesar/NewMDCLUSTER_0246/Caesar_snap_128.hdf5\n",
      "yt : [INFO     ] 2021-04-13 23:09:25,622 Found 1765 halos\n",
      "yt : [INFO     ] 2021-04-13 23:09:25,631 Found 935 galaxies\n"
     ]
    },
    {
     "name": "stdout",
     "output_type": "stream",
     "text": [
      "125 124\n"
     ]
    },
    {
     "name": "stderr",
     "output_type": "stream",
     "text": [
      "yt : [INFO     ] 2021-04-13 23:09:25,685 Opening /home2/weiguang/data6/CL300_Caesar/NewMDCLUSTER_0247/Caesar_snap_128.hdf5\n",
      "yt : [INFO     ] 2021-04-13 23:09:25,829 Found 1403 halos\n",
      "yt : [INFO     ] 2021-04-13 23:09:25,838 Found 781 galaxies\n"
     ]
    },
    {
     "name": "stdout",
     "output_type": "stream",
     "text": [
      "119 118\n"
     ]
    },
    {
     "name": "stderr",
     "output_type": "stream",
     "text": [
      "yt : [INFO     ] 2021-04-13 23:09:25,888 Opening /home2/weiguang/data6/CL300_Caesar/NewMDCLUSTER_0248/Caesar_snap_128.hdf5\n",
      "yt : [INFO     ] 2021-04-13 23:09:26,043 Found 1910 halos\n",
      "yt : [INFO     ] 2021-04-13 23:09:26,052 Found 1329 galaxies\n"
     ]
    },
    {
     "name": "stdout",
     "output_type": "stream",
     "text": [
      "103 102\n"
     ]
    },
    {
     "name": "stderr",
     "output_type": "stream",
     "text": [
      "yt : [INFO     ] 2021-04-13 23:09:26,124 Opening /home2/weiguang/data6/CL300_Caesar/NewMDCLUSTER_0249/Caesar_snap_128.hdf5\n",
      "yt : [INFO     ] 2021-04-13 23:09:26,264 Found 1433 halos\n",
      "yt : [INFO     ] 2021-04-13 23:09:26,274 Found 796 galaxies\n"
     ]
    },
    {
     "name": "stdout",
     "output_type": "stream",
     "text": [
      "123 122\n"
     ]
    },
    {
     "name": "stderr",
     "output_type": "stream",
     "text": [
      "yt : [INFO     ] 2021-04-13 23:09:26,322 Opening /home2/weiguang/data6/CL300_Caesar/NewMDCLUSTER_0250/Caesar_snap_128.hdf5\n",
      "yt : [INFO     ] 2021-04-13 23:09:26,464 Found 2042 halos\n",
      "yt : [INFO     ] 2021-04-13 23:09:26,473 Found 1251 galaxies\n"
     ]
    },
    {
     "name": "stdout",
     "output_type": "stream",
     "text": [
      "121 120\n"
     ]
    },
    {
     "name": "stderr",
     "output_type": "stream",
     "text": [
      "yt : [INFO     ] 2021-04-13 23:09:26,547 Opening /home2/weiguang/data6/CL300_Caesar/NewMDCLUSTER_0251/Caesar_snap_128.hdf5\n",
      "yt : [INFO     ] 2021-04-13 23:09:26,702 Found 1690 halos\n",
      "yt : [INFO     ] 2021-04-13 23:09:26,712 Found 997 galaxies\n"
     ]
    },
    {
     "name": "stdout",
     "output_type": "stream",
     "text": [
      "128 127\n"
     ]
    },
    {
     "name": "stderr",
     "output_type": "stream",
     "text": [
      "yt : [INFO     ] 2021-04-13 23:09:26,770 Opening /home2/weiguang/data6/CL300_Caesar/NewMDCLUSTER_0252/Caesar_snap_128.hdf5\n",
      "yt : [INFO     ] 2021-04-13 23:09:26,908 Found 1789 halos\n",
      "yt : [INFO     ] 2021-04-13 23:09:26,916 Found 854 galaxies\n"
     ]
    },
    {
     "name": "stdout",
     "output_type": "stream",
     "text": [
      "115 114\n"
     ]
    },
    {
     "name": "stderr",
     "output_type": "stream",
     "text": [
      "yt : [INFO     ] 2021-04-13 23:09:26,972 Opening /home2/weiguang/data6/CL300_Caesar/NewMDCLUSTER_0253/Caesar_snap_128.hdf5\n",
      "yt : [INFO     ] 2021-04-13 23:09:27,107 Found 1664 halos\n",
      "yt : [INFO     ] 2021-04-13 23:09:27,115 Found 986 galaxies\n"
     ]
    },
    {
     "name": "stdout",
     "output_type": "stream",
     "text": [
      "103 102\n"
     ]
    },
    {
     "name": "stderr",
     "output_type": "stream",
     "text": [
      "yt : [INFO     ] 2021-04-13 23:09:27,175 Opening /home2/weiguang/data6/CL300_Caesar/NewMDCLUSTER_0254/Caesar_snap_128.hdf5\n",
      "yt : [INFO     ] 2021-04-13 23:09:27,320 Found 1675 halos\n",
      "yt : [INFO     ] 2021-04-13 23:09:27,330 Found 990 galaxies\n"
     ]
    },
    {
     "name": "stdout",
     "output_type": "stream",
     "text": [
      "127 126\n"
     ]
    },
    {
     "name": "stderr",
     "output_type": "stream",
     "text": [
      "yt : [INFO     ] 2021-04-13 23:09:27,402 Opening /home2/weiguang/data6/CL300_Caesar/NewMDCLUSTER_0255/Caesar_snap_128.hdf5\n",
      "yt : [INFO     ] 2021-04-13 23:09:27,551 Found 2244 halos\n",
      "yt : [INFO     ] 2021-04-13 23:09:27,560 Found 1377 galaxies\n"
     ]
    },
    {
     "name": "stdout",
     "output_type": "stream",
     "text": [
      "89 88\n"
     ]
    },
    {
     "name": "stderr",
     "output_type": "stream",
     "text": [
      "yt : [INFO     ] 2021-04-13 23:09:27,644 Opening /home2/weiguang/data6/CL300_Caesar/NewMDCLUSTER_0256/Caesar_snap_128.hdf5\n",
      "yt : [INFO     ] 2021-04-13 23:09:27,793 Found 1563 halos\n",
      "yt : [INFO     ] 2021-04-13 23:09:27,803 Found 807 galaxies\n"
     ]
    },
    {
     "name": "stdout",
     "output_type": "stream",
     "text": [
      "119 118\n"
     ]
    },
    {
     "name": "stderr",
     "output_type": "stream",
     "text": [
      "yt : [INFO     ] 2021-04-13 23:09:27,861 Opening /home2/weiguang/data6/CL300_Caesar/NewMDCLUSTER_0257/Caesar_snap_128.hdf5\n",
      "yt : [INFO     ] 2021-04-13 23:09:28,008 Found 2398 halos\n",
      "yt : [INFO     ] 2021-04-13 23:09:28,019 Found 1601 galaxies\n"
     ]
    },
    {
     "name": "stdout",
     "output_type": "stream",
     "text": [
      "115 114\n"
     ]
    },
    {
     "name": "stderr",
     "output_type": "stream",
     "text": [
      "yt : [INFO     ] 2021-04-13 23:09:28,116 Opening /home2/weiguang/data6/CL300_Caesar/NewMDCLUSTER_0258/Caesar_snap_128.hdf5\n",
      "yt : [INFO     ] 2021-04-13 23:09:28,254 Found 1809 halos\n",
      "yt : [INFO     ] 2021-04-13 23:09:28,262 Found 1062 galaxies\n"
     ]
    },
    {
     "name": "stdout",
     "output_type": "stream",
     "text": [
      "129 128\n"
     ]
    },
    {
     "name": "stderr",
     "output_type": "stream",
     "text": [
      "yt : [INFO     ] 2021-04-13 23:09:28,323 Opening /home2/weiguang/data6/CL300_Caesar/NewMDCLUSTER_0259/Caesar_snap_128.hdf5\n",
      "yt : [INFO     ] 2021-04-13 23:09:28,463 Found 1459 halos\n",
      "yt : [INFO     ] 2021-04-13 23:09:28,471 Found 754 galaxies\n"
     ]
    },
    {
     "name": "stdout",
     "output_type": "stream",
     "text": [
      "99 98\n"
     ]
    },
    {
     "name": "stderr",
     "output_type": "stream",
     "text": [
      "yt : [INFO     ] 2021-04-13 23:09:28,519 Opening /home2/weiguang/data6/CL300_Caesar/NewMDCLUSTER_0260/Caesar_snap_128.hdf5\n",
      "yt : [INFO     ] 2021-04-13 23:09:28,665 Found 1721 halos\n",
      "yt : [INFO     ] 2021-04-13 23:09:28,674 Found 1036 galaxies\n"
     ]
    },
    {
     "name": "stdout",
     "output_type": "stream",
     "text": [
      "130 129\n"
     ]
    },
    {
     "name": "stderr",
     "output_type": "stream",
     "text": [
      "yt : [INFO     ] 2021-04-13 23:09:28,736 Opening /home2/weiguang/data6/CL300_Caesar/NewMDCLUSTER_0261/Caesar_snap_128.hdf5\n",
      "yt : [INFO     ] 2021-04-13 23:09:28,885 Found 1619 halos\n",
      "yt : [INFO     ] 2021-04-13 23:09:28,894 Found 899 galaxies\n"
     ]
    },
    {
     "name": "stdout",
     "output_type": "stream",
     "text": [
      "114 113\n"
     ]
    },
    {
     "name": "stderr",
     "output_type": "stream",
     "text": [
      "yt : [INFO     ] 2021-04-13 23:09:28,949 Opening /home2/weiguang/data6/CL300_Caesar/NewMDCLUSTER_0262/Caesar_snap_128.hdf5\n",
      "yt : [INFO     ] 2021-04-13 23:09:29,088 Found 1926 halos\n",
      "yt : [INFO     ] 2021-04-13 23:09:29,096 Found 1075 galaxies\n"
     ]
    },
    {
     "name": "stdout",
     "output_type": "stream",
     "text": [
      "122 121\n"
     ]
    },
    {
     "name": "stderr",
     "output_type": "stream",
     "text": [
      "yt : [INFO     ] 2021-04-13 23:09:29,158 Opening /home2/weiguang/data6/CL300_Caesar/NewMDCLUSTER_0263/Caesar_snap_128.hdf5\n",
      "yt : [INFO     ] 2021-04-13 23:09:29,292 Found 2084 halos\n",
      "yt : [INFO     ] 2021-04-13 23:09:29,300 Found 1202 galaxies\n"
     ]
    },
    {
     "name": "stdout",
     "output_type": "stream",
     "text": [
      "111 110\n"
     ]
    },
    {
     "name": "stderr",
     "output_type": "stream",
     "text": [
      "yt : [INFO     ] 2021-04-13 23:09:29,373 Opening /home2/weiguang/data6/CL300_Caesar/NewMDCLUSTER_0264/Caesar_snap_128.hdf5\n",
      "yt : [INFO     ] 2021-04-13 23:09:29,519 Found 2004 halos\n",
      "yt : [INFO     ] 2021-04-13 23:09:29,528 Found 1283 galaxies\n"
     ]
    },
    {
     "name": "stdout",
     "output_type": "stream",
     "text": [
      "128 127\n"
     ]
    },
    {
     "name": "stderr",
     "output_type": "stream",
     "text": [
      "yt : [INFO     ] 2021-04-13 23:09:29,606 Opening /home2/weiguang/data6/CL300_Caesar/NewMDCLUSTER_0265/Caesar_snap_128.hdf5\n",
      "yt : [INFO     ] 2021-04-13 23:09:29,750 Found 1962 halos\n",
      "yt : [INFO     ] 2021-04-13 23:09:29,758 Found 1183 galaxies\n"
     ]
    },
    {
     "name": "stdout",
     "output_type": "stream",
     "text": [
      "121 120\n"
     ]
    },
    {
     "name": "stderr",
     "output_type": "stream",
     "text": [
      "yt : [INFO     ] 2021-04-13 23:09:29,825 Opening /home2/weiguang/data6/CL300_Caesar/NewMDCLUSTER_0266/Caesar_snap_128.hdf5\n",
      "yt : [INFO     ] 2021-04-13 23:09:29,964 Found 1727 halos\n",
      "yt : [INFO     ] 2021-04-13 23:09:29,973 Found 927 galaxies\n"
     ]
    },
    {
     "name": "stdout",
     "output_type": "stream",
     "text": [
      "103 102\n"
     ]
    },
    {
     "name": "stderr",
     "output_type": "stream",
     "text": [
      "yt : [INFO     ] 2021-04-13 23:09:30,027 Opening /home2/weiguang/data6/CL300_Caesar/NewMDCLUSTER_0267/Caesar_snap_128.hdf5\n",
      "yt : [INFO     ] 2021-04-13 23:09:30,167 Found 1977 halos\n",
      "yt : [INFO     ] 2021-04-13 23:09:30,175 Found 1191 galaxies\n"
     ]
    },
    {
     "name": "stdout",
     "output_type": "stream",
     "text": [
      "114 113\n"
     ]
    },
    {
     "name": "stderr",
     "output_type": "stream",
     "text": [
      "yt : [INFO     ] 2021-04-13 23:09:30,242 Opening /home2/weiguang/data6/CL300_Caesar/NewMDCLUSTER_0268/Caesar_snap_128.hdf5\n",
      "yt : [INFO     ] 2021-04-13 23:09:30,379 Found 1964 halos\n",
      "yt : [INFO     ] 2021-04-13 23:09:30,394 Found 1102 galaxies\n"
     ]
    },
    {
     "name": "stdout",
     "output_type": "stream",
     "text": [
      "97 96\n"
     ]
    },
    {
     "name": "stderr",
     "output_type": "stream",
     "text": [
      "yt : [INFO     ] 2021-04-13 23:09:30,469 Opening /home2/weiguang/data6/CL300_Caesar/NewMDCLUSTER_0269/Caesar_snap_128.hdf5\n",
      "yt : [INFO     ] 2021-04-13 23:09:30,615 Found 1426 halos\n",
      "yt : [INFO     ] 2021-04-13 23:09:30,625 Found 657 galaxies\n"
     ]
    },
    {
     "name": "stdout",
     "output_type": "stream",
     "text": [
      "93 92\n"
     ]
    },
    {
     "name": "stderr",
     "output_type": "stream",
     "text": [
      "yt : [INFO     ] 2021-04-13 23:09:30,670 Opening /home2/weiguang/data6/CL300_Caesar/NewMDCLUSTER_0270/Caesar_snap_128.hdf5\n",
      "yt : [INFO     ] 2021-04-13 23:09:30,816 Found 1824 halos\n",
      "yt : [INFO     ] 2021-04-13 23:09:30,827 Found 1183 galaxies\n"
     ]
    },
    {
     "name": "stdout",
     "output_type": "stream",
     "text": [
      "107 106\n"
     ]
    },
    {
     "name": "stderr",
     "output_type": "stream",
     "text": [
      "yt : [INFO     ] 2021-04-13 23:09:30,896 Opening /home2/weiguang/data6/CL300_Caesar/NewMDCLUSTER_0271/Caesar_snap_128.hdf5\n",
      "yt : [INFO     ] 2021-04-13 23:09:31,041 Found 1973 halos\n",
      "yt : [INFO     ] 2021-04-13 23:09:31,051 Found 1100 galaxies\n"
     ]
    },
    {
     "name": "stdout",
     "output_type": "stream",
     "text": [
      "116 115\n"
     ]
    },
    {
     "name": "stderr",
     "output_type": "stream",
     "text": [
      "yt : [INFO     ] 2021-04-13 23:09:31,116 Opening /home2/weiguang/data6/CL300_Caesar/NewMDCLUSTER_0272/Caesar_snap_128.hdf5\n",
      "yt : [INFO     ] 2021-04-13 23:09:31,268 Found 2152 halos\n",
      "yt : [INFO     ] 2021-04-13 23:09:31,279 Found 1175 galaxies\n"
     ]
    },
    {
     "name": "stdout",
     "output_type": "stream",
     "text": [
      "113 112\n"
     ]
    },
    {
     "name": "stderr",
     "output_type": "stream",
     "text": [
      "yt : [INFO     ] 2021-04-13 23:09:31,354 Opening /home2/weiguang/data6/CL300_Caesar/NewMDCLUSTER_0273/Caesar_snap_128.hdf5\n",
      "yt : [INFO     ] 2021-04-13 23:09:31,502 Found 2182 halos\n",
      "yt : [INFO     ] 2021-04-13 23:09:31,511 Found 1341 galaxies\n"
     ]
    },
    {
     "name": "stdout",
     "output_type": "stream",
     "text": [
      "121 120\n"
     ]
    },
    {
     "name": "stderr",
     "output_type": "stream",
     "text": [
      "yt : [INFO     ] 2021-04-13 23:09:31,584 Opening /home2/weiguang/data6/CL300_Caesar/NewMDCLUSTER_0274/Caesar_snap_128.hdf5\n",
      "yt : [INFO     ] 2021-04-13 23:09:31,738 Found 1862 halos\n",
      "yt : [INFO     ] 2021-04-13 23:09:31,747 Found 1008 galaxies\n"
     ]
    },
    {
     "name": "stdout",
     "output_type": "stream",
     "text": [
      "89 88\n"
     ]
    },
    {
     "name": "stderr",
     "output_type": "stream",
     "text": [
      "yt : [INFO     ] 2021-04-13 23:09:31,806 Opening /home2/weiguang/data6/CL300_Caesar/NewMDCLUSTER_0275/Caesar_snap_128.hdf5\n",
      "yt : [INFO     ] 2021-04-13 23:09:31,949 Found 1959 halos\n",
      "yt : [INFO     ] 2021-04-13 23:09:31,959 Found 1107 galaxies\n"
     ]
    },
    {
     "name": "stdout",
     "output_type": "stream",
     "text": [
      "134 133\n"
     ]
    },
    {
     "name": "stderr",
     "output_type": "stream",
     "text": [
      "yt : [INFO     ] 2021-04-13 23:09:35,423 Opening /home2/weiguang/data6/CL300_Caesar/NewMDCLUSTER_0276/Caesar_snap_128.hdf5\n",
      "yt : [INFO     ] 2021-04-13 23:09:35,573 Found 2003 halos\n",
      "yt : [INFO     ] 2021-04-13 23:09:35,582 Found 1280 galaxies\n"
     ]
    },
    {
     "name": "stdout",
     "output_type": "stream",
     "text": [
      "105 104\n"
     ]
    },
    {
     "name": "stderr",
     "output_type": "stream",
     "text": [
      "yt : [INFO     ] 2021-04-13 23:09:35,655 Opening /home2/weiguang/data6/CL300_Caesar/NewMDCLUSTER_0277/Caesar_snap_128.hdf5\n",
      "yt : [INFO     ] 2021-04-13 23:09:35,800 Found 2100 halos\n",
      "yt : [INFO     ] 2021-04-13 23:09:35,809 Found 1160 galaxies\n"
     ]
    },
    {
     "name": "stdout",
     "output_type": "stream",
     "text": [
      "106 105\n"
     ]
    },
    {
     "name": "stderr",
     "output_type": "stream",
     "text": [
      "yt : [INFO     ] 2021-04-13 23:09:35,879 Opening /home2/weiguang/data6/CL300_Caesar/NewMDCLUSTER_0278/Caesar_snap_128.hdf5\n",
      "yt : [INFO     ] 2021-04-13 23:09:36,019 Found 2068 halos\n",
      "yt : [INFO     ] 2021-04-13 23:09:36,027 Found 1207 galaxies\n"
     ]
    },
    {
     "name": "stdout",
     "output_type": "stream",
     "text": [
      "114 113\n"
     ]
    },
    {
     "name": "stderr",
     "output_type": "stream",
     "text": [
      "yt : [INFO     ] 2021-04-13 23:09:36,095 Opening /home2/weiguang/data6/CL300_Caesar/NewMDCLUSTER_0279/Caesar_snap_128.hdf5\n",
      "yt : [INFO     ] 2021-04-13 23:09:36,233 Found 1619 halos\n",
      "yt : [INFO     ] 2021-04-13 23:09:36,242 Found 887 galaxies\n"
     ]
    },
    {
     "name": "stdout",
     "output_type": "stream",
     "text": [
      "122 121\n"
     ]
    },
    {
     "name": "stderr",
     "output_type": "stream",
     "text": [
      "yt : [INFO     ] 2021-04-13 23:09:36,302 Opening /home2/weiguang/data6/CL300_Caesar/NewMDCLUSTER_0280/Caesar_snap_128.hdf5\n",
      "yt : [INFO     ] 2021-04-13 23:09:36,459 Found 1763 halos\n",
      "yt : [INFO     ] 2021-04-13 23:09:36,470 Found 1042 galaxies\n"
     ]
    },
    {
     "name": "stdout",
     "output_type": "stream",
     "text": [
      "137 136\n"
     ]
    },
    {
     "name": "stderr",
     "output_type": "stream",
     "text": [
      "yt : [INFO     ] 2021-04-13 23:09:36,540 Opening /home2/weiguang/data6/CL300_Caesar/NewMDCLUSTER_0281/Caesar_snap_128.hdf5\n",
      "yt : [INFO     ] 2021-04-13 23:09:36,691 Found 1919 halos\n",
      "yt : [INFO     ] 2021-04-13 23:09:36,700 Found 1193 galaxies\n"
     ]
    },
    {
     "name": "stdout",
     "output_type": "stream",
     "text": [
      "104 103\n"
     ]
    },
    {
     "name": "stderr",
     "output_type": "stream",
     "text": [
      "yt : [INFO     ] 2021-04-13 23:09:36,770 Opening /home2/weiguang/data6/CL300_Caesar/NewMDCLUSTER_0282/Caesar_snap_128.hdf5\n",
      "yt : [INFO     ] 2021-04-13 23:09:36,911 Found 2133 halos\n",
      "yt : [INFO     ] 2021-04-13 23:09:36,925 Found 1303 galaxies\n"
     ]
    },
    {
     "name": "stdout",
     "output_type": "stream",
     "text": [
      "111 110\n"
     ]
    },
    {
     "name": "stderr",
     "output_type": "stream",
     "text": [
      "yt : [INFO     ] 2021-04-13 23:09:37,000 Opening /home2/weiguang/data6/CL300_Caesar/NewMDCLUSTER_0283/Caesar_snap_128.hdf5\n",
      "yt : [INFO     ] 2021-04-13 23:09:37,141 Found 2095 halos\n",
      "yt : [INFO     ] 2021-04-13 23:09:37,150 Found 1346 galaxies\n"
     ]
    },
    {
     "name": "stdout",
     "output_type": "stream",
     "text": [
      "103 102\n"
     ]
    },
    {
     "name": "stderr",
     "output_type": "stream",
     "text": [
      "yt : [INFO     ] 2021-04-13 23:09:37,224 Opening /home2/weiguang/data6/CL300_Caesar/NewMDCLUSTER_0284/Caesar_snap_128.hdf5\n",
      "yt : [INFO     ] 2021-04-13 23:09:37,374 Found 2087 halos\n",
      "yt : [INFO     ] 2021-04-13 23:09:37,382 Found 1566 galaxies\n"
     ]
    },
    {
     "name": "stdout",
     "output_type": "stream",
     "text": [
      "94 93\n"
     ]
    },
    {
     "name": "stderr",
     "output_type": "stream",
     "text": [
      "yt : [INFO     ] 2021-04-13 23:09:37,464 Opening /home2/weiguang/data6/CL300_Caesar/NewMDCLUSTER_0285/Caesar_snap_128.hdf5\n",
      "yt : [INFO     ] 2021-04-13 23:09:37,606 Found 1734 halos\n",
      "yt : [INFO     ] 2021-04-13 23:09:37,615 Found 1011 galaxies\n"
     ]
    },
    {
     "name": "stdout",
     "output_type": "stream",
     "text": [
      "108 107\n"
     ]
    },
    {
     "name": "stderr",
     "output_type": "stream",
     "text": [
      "yt : [INFO     ] 2021-04-13 23:09:37,675 Opening /home2/weiguang/data6/CL300_Caesar/NewMDCLUSTER_0286/Caesar_snap_128.hdf5\n",
      "yt : [INFO     ] 2021-04-13 23:09:37,818 Found 1716 halos\n",
      "yt : [INFO     ] 2021-04-13 23:09:37,831 Found 1044 galaxies\n"
     ]
    },
    {
     "name": "stdout",
     "output_type": "stream",
     "text": [
      "124 123\n"
     ]
    },
    {
     "name": "stderr",
     "output_type": "stream",
     "text": [
      "yt : [INFO     ] 2021-04-13 23:09:37,900 Opening /home2/weiguang/data6/CL300_Caesar/NewMDCLUSTER_0287/Caesar_snap_128.hdf5\n",
      "yt : [INFO     ] 2021-04-13 23:09:38,040 Found 2122 halos\n",
      "yt : [INFO     ] 2021-04-13 23:09:38,049 Found 1354 galaxies\n"
     ]
    },
    {
     "name": "stdout",
     "output_type": "stream",
     "text": [
      "128 127\n"
     ]
    },
    {
     "name": "stderr",
     "output_type": "stream",
     "text": [
      "yt : [INFO     ] 2021-04-13 23:09:38,121 Opening /home2/weiguang/data6/CL300_Caesar/NewMDCLUSTER_0288/Caesar_snap_128.hdf5\n",
      "yt : [INFO     ] 2021-04-13 23:09:38,256 Found 1496 halos\n",
      "yt : [INFO     ] 2021-04-13 23:09:38,265 Found 781 galaxies\n"
     ]
    },
    {
     "name": "stdout",
     "output_type": "stream",
     "text": [
      "110 109\n"
     ]
    },
    {
     "name": "stderr",
     "output_type": "stream",
     "text": [
      "yt : [INFO     ] 2021-04-13 23:09:38,317 Opening /home2/weiguang/data6/CL300_Caesar/NewMDCLUSTER_0289/Caesar_snap_128.hdf5\n",
      "yt : [INFO     ] 2021-04-13 23:09:38,460 Found 1644 halos\n",
      "yt : [INFO     ] 2021-04-13 23:09:38,469 Found 1066 galaxies\n"
     ]
    },
    {
     "name": "stdout",
     "output_type": "stream",
     "text": [
      "107 106\n"
     ]
    },
    {
     "name": "stderr",
     "output_type": "stream",
     "text": [
      "yt : [INFO     ] 2021-04-13 23:09:38,535 Opening /home2/weiguang/data6/CL300_Caesar/NewMDCLUSTER_0290/Caesar_snap_128.hdf5\n",
      "yt : [INFO     ] 2021-04-13 23:09:38,680 Found 1785 halos\n",
      "yt : [INFO     ] 2021-04-13 23:09:38,689 Found 1060 galaxies\n"
     ]
    },
    {
     "name": "stdout",
     "output_type": "stream",
     "text": [
      "124 123\n"
     ]
    },
    {
     "name": "stderr",
     "output_type": "stream",
     "text": [
      "yt : [INFO     ] 2021-04-13 23:09:38,755 Opening /home2/weiguang/data6/CL300_Caesar/NewMDCLUSTER_0291/Caesar_snap_128.hdf5\n",
      "yt : [INFO     ] 2021-04-13 23:09:38,900 Found 2128 halos\n",
      "yt : [INFO     ] 2021-04-13 23:09:38,909 Found 1222 galaxies\n"
     ]
    },
    {
     "name": "stdout",
     "output_type": "stream",
     "text": [
      "129 128\n"
     ]
    },
    {
     "name": "stderr",
     "output_type": "stream",
     "text": [
      "yt : [INFO     ] 2021-04-13 23:09:38,978 Opening /home2/weiguang/data6/CL300_Caesar/NewMDCLUSTER_0292/Caesar_snap_128.hdf5\n",
      "yt : [INFO     ] 2021-04-13 23:09:39,127 Found 2073 halos\n",
      "yt : [INFO     ] 2021-04-13 23:09:39,136 Found 1220 galaxies\n"
     ]
    },
    {
     "name": "stdout",
     "output_type": "stream",
     "text": [
      "98 97\n"
     ]
    },
    {
     "name": "stderr",
     "output_type": "stream",
     "text": [
      "yt : [INFO     ] 2021-04-13 23:09:39,211 Opening /home2/weiguang/data6/CL300_Caesar/NewMDCLUSTER_0293/Caesar_snap_128.hdf5\n",
      "yt : [INFO     ] 2021-04-13 23:09:39,356 Found 1728 halos\n",
      "yt : [INFO     ] 2021-04-13 23:09:39,364 Found 1047 galaxies\n"
     ]
    },
    {
     "name": "stdout",
     "output_type": "stream",
     "text": [
      "119 118\n"
     ]
    },
    {
     "name": "stderr",
     "output_type": "stream",
     "text": [
      "yt : [INFO     ] 2021-04-13 23:09:39,429 Opening /home2/weiguang/data6/CL300_Caesar/NewMDCLUSTER_0294/Caesar_snap_128.hdf5\n",
      "yt : [INFO     ] 2021-04-13 23:09:39,564 Found 1768 halos\n",
      "yt : [INFO     ] 2021-04-13 23:09:39,573 Found 1004 galaxies\n"
     ]
    },
    {
     "name": "stdout",
     "output_type": "stream",
     "text": [
      "76 75\n"
     ]
    },
    {
     "name": "stderr",
     "output_type": "stream",
     "text": [
      "yt : [INFO     ] 2021-04-13 23:09:39,631 Opening /home2/weiguang/data6/CL300_Caesar/NewMDCLUSTER_0295/Caesar_snap_128.hdf5\n",
      "yt : [INFO     ] 2021-04-13 23:09:39,779 Found 1538 halos\n",
      "yt : [INFO     ] 2021-04-13 23:09:39,789 Found 791 galaxies\n"
     ]
    },
    {
     "name": "stdout",
     "output_type": "stream",
     "text": [
      "100 99\n"
     ]
    },
    {
     "name": "stderr",
     "output_type": "stream",
     "text": [
      "yt : [INFO     ] 2021-04-13 23:09:39,843 Opening /home2/weiguang/data6/CL300_Caesar/NewMDCLUSTER_0296/Caesar_snap_128.hdf5\n",
      "yt : [INFO     ] 2021-04-13 23:09:39,992 Found 1522 halos\n",
      "yt : [INFO     ] 2021-04-13 23:09:40,000 Found 761 galaxies\n"
     ]
    },
    {
     "name": "stdout",
     "output_type": "stream",
     "text": [
      "102 101\n"
     ]
    },
    {
     "name": "stderr",
     "output_type": "stream",
     "text": [
      "yt : [INFO     ] 2021-04-13 23:09:40,049 Opening /home2/weiguang/data6/CL300_Caesar/NewMDCLUSTER_0297/Caesar_snap_128.hdf5\n",
      "yt : [INFO     ] 2021-04-13 23:09:40,187 Found 1737 halos\n",
      "yt : [INFO     ] 2021-04-13 23:09:40,195 Found 907 galaxies\n"
     ]
    },
    {
     "name": "stdout",
     "output_type": "stream",
     "text": [
      "113 112\n"
     ]
    },
    {
     "name": "stderr",
     "output_type": "stream",
     "text": [
      "yt : [INFO     ] 2021-04-13 23:09:40,249 Opening /home2/weiguang/data6/CL300_Caesar/NewMDCLUSTER_0298/Caesar_snap_128.hdf5\n",
      "yt : [INFO     ] 2021-04-13 23:09:40,392 Found 2413 halos\n",
      "yt : [INFO     ] 2021-04-13 23:09:40,402 Found 1705 galaxies\n"
     ]
    },
    {
     "name": "stdout",
     "output_type": "stream",
     "text": [
      "117 116\n"
     ]
    },
    {
     "name": "stderr",
     "output_type": "stream",
     "text": [
      "yt : [INFO     ] 2021-04-13 23:09:40,494 Opening /home2/weiguang/data6/CL300_Caesar/NewMDCLUSTER_0299/Caesar_snap_128.hdf5\n",
      "yt : [INFO     ] 2021-04-13 23:09:40,651 Found 1624 halos\n",
      "yt : [INFO     ] 2021-04-13 23:09:40,659 Found 868 galaxies\n"
     ]
    },
    {
     "name": "stdout",
     "output_type": "stream",
     "text": [
      "113 112\n"
     ]
    },
    {
     "name": "stderr",
     "output_type": "stream",
     "text": [
      "yt : [INFO     ] 2021-04-13 23:09:40,711 Opening /home2/weiguang/data6/CL300_Caesar/NewMDCLUSTER_0300/Caesar_snap_128.hdf5\n",
      "yt : [INFO     ] 2021-04-13 23:09:40,852 Found 2672 halos\n",
      "yt : [INFO     ] 2021-04-13 23:09:40,860 Found 1812 galaxies\n"
     ]
    },
    {
     "name": "stdout",
     "output_type": "stream",
     "text": [
      "97 96\n"
     ]
    },
    {
     "name": "stderr",
     "output_type": "stream",
     "text": [
      "yt : [INFO     ] 2021-04-13 23:09:40,958 Opening /home2/weiguang/data6/CL300_Caesar/NewMDCLUSTER_0301/Caesar_snap_128.hdf5\n",
      "yt : [INFO     ] 2021-04-13 23:09:41,102 Found 1904 halos\n",
      "yt : [INFO     ] 2021-04-13 23:09:41,116 Found 1078 galaxies\n"
     ]
    },
    {
     "name": "stdout",
     "output_type": "stream",
     "text": [
      "108 107\n"
     ]
    },
    {
     "name": "stderr",
     "output_type": "stream",
     "text": [
      "yt : [INFO     ] 2021-04-13 23:09:41,196 Opening /home2/weiguang/data6/CL300_Caesar/NewMDCLUSTER_0302/Caesar_snap_128.hdf5\n",
      "yt : [INFO     ] 2021-04-13 23:09:41,357 Found 1765 halos\n",
      "yt : [INFO     ] 2021-04-13 23:09:41,369 Found 1047 galaxies\n"
     ]
    },
    {
     "name": "stdout",
     "output_type": "stream",
     "text": [
      "128 127\n"
     ]
    },
    {
     "name": "stderr",
     "output_type": "stream",
     "text": [
      "yt : [INFO     ] 2021-04-13 23:09:41,437 Opening /home2/weiguang/data6/CL300_Caesar/NewMDCLUSTER_0303/Caesar_snap_128.hdf5\n",
      "yt : [INFO     ] 2021-04-13 23:09:41,578 Found 1698 halos\n",
      "yt : [INFO     ] 2021-04-13 23:09:41,587 Found 1039 galaxies\n"
     ]
    },
    {
     "name": "stdout",
     "output_type": "stream",
     "text": [
      "114 113\n"
     ]
    },
    {
     "name": "stderr",
     "output_type": "stream",
     "text": [
      "yt : [INFO     ] 2021-04-13 23:09:41,647 Opening /home2/weiguang/data6/CL300_Caesar/NewMDCLUSTER_0304/Caesar_snap_128.hdf5\n",
      "yt : [INFO     ] 2021-04-13 23:09:41,792 Found 1942 halos\n",
      "yt : [INFO     ] 2021-04-13 23:09:41,800 Found 1212 galaxies\n"
     ]
    },
    {
     "name": "stdout",
     "output_type": "stream",
     "text": [
      "108 107\n"
     ]
    },
    {
     "name": "stderr",
     "output_type": "stream",
     "text": [
      "yt : [INFO     ] 2021-04-13 23:09:41,867 Opening /home2/weiguang/data6/CL300_Caesar/NewMDCLUSTER_0305/Caesar_snap_128.hdf5\n",
      "yt : [INFO     ] 2021-04-13 23:09:42,011 Found 1710 halos\n",
      "yt : [INFO     ] 2021-04-13 23:09:42,020 Found 891 galaxies\n"
     ]
    },
    {
     "name": "stdout",
     "output_type": "stream",
     "text": [
      "100 99\n"
     ]
    },
    {
     "name": "stderr",
     "output_type": "stream",
     "text": [
      "yt : [INFO     ] 2021-04-13 23:09:42,075 Opening /home2/weiguang/data6/CL300_Caesar/NewMDCLUSTER_0306/Caesar_snap_128.hdf5\n",
      "yt : [INFO     ] 2021-04-13 23:09:42,225 Found 1497 halos\n",
      "yt : [INFO     ] 2021-04-13 23:09:42,233 Found 885 galaxies\n"
     ]
    },
    {
     "name": "stdout",
     "output_type": "stream",
     "text": [
      "106 105\n"
     ]
    },
    {
     "name": "stderr",
     "output_type": "stream",
     "text": [
      "yt : [INFO     ] 2021-04-13 23:09:42,287 Opening /home2/weiguang/data6/CL300_Caesar/NewMDCLUSTER_0307/Caesar_snap_128.hdf5\n",
      "yt : [INFO     ] 2021-04-13 23:09:42,428 Found 2640 halos\n",
      "yt : [INFO     ] 2021-04-13 23:09:42,437 Found 1731 galaxies\n"
     ]
    },
    {
     "name": "stdout",
     "output_type": "stream",
     "text": [
      "104 103\n"
     ]
    },
    {
     "name": "stderr",
     "output_type": "stream",
     "text": [
      "yt : [INFO     ] 2021-04-13 23:09:42,528 Opening /home2/weiguang/data6/CL300_Caesar/NewMDCLUSTER_0308/Caesar_snap_128.hdf5\n",
      "yt : [INFO     ] 2021-04-13 23:09:42,686 Found 2229 halos\n",
      "yt : [INFO     ] 2021-04-13 23:09:42,695 Found 1257 galaxies\n"
     ]
    },
    {
     "name": "stdout",
     "output_type": "stream",
     "text": [
      "133 132\n"
     ]
    },
    {
     "name": "stderr",
     "output_type": "stream",
     "text": [
      "yt : [INFO     ] 2021-04-13 23:09:42,764 Opening /home2/weiguang/data6/CL300_Caesar/NewMDCLUSTER_0309/Caesar_snap_128.hdf5\n",
      "yt : [INFO     ] 2021-04-13 23:09:42,902 Found 2198 halos\n",
      "yt : [INFO     ] 2021-04-13 23:09:42,911 Found 1475 galaxies\n"
     ]
    },
    {
     "name": "stdout",
     "output_type": "stream",
     "text": [
      "116 115\n"
     ]
    },
    {
     "name": "stderr",
     "output_type": "stream",
     "text": [
      "yt : [INFO     ] 2021-04-13 23:09:42,989 Opening /home2/weiguang/data6/CL300_Caesar/NewMDCLUSTER_0310/Caesar_snap_128.hdf5\n",
      "yt : [INFO     ] 2021-04-13 23:09:43,129 Found 1947 halos\n",
      "yt : [INFO     ] 2021-04-13 23:09:43,138 Found 1238 galaxies\n"
     ]
    },
    {
     "name": "stdout",
     "output_type": "stream",
     "text": [
      "125 124\n"
     ]
    },
    {
     "name": "stderr",
     "output_type": "stream",
     "text": [
      "yt : [INFO     ] 2021-04-13 23:09:43,208 Opening /home2/weiguang/data6/CL300_Caesar/NewMDCLUSTER_0311/Caesar_snap_128.hdf5\n",
      "yt : [INFO     ] 2021-04-13 23:09:43,360 Found 1486 halos\n",
      "yt : [INFO     ] 2021-04-13 23:09:43,371 Found 813 galaxies\n"
     ]
    },
    {
     "name": "stdout",
     "output_type": "stream",
     "text": [
      "120 119\n"
     ]
    },
    {
     "name": "stderr",
     "output_type": "stream",
     "text": [
      "yt : [INFO     ] 2021-04-13 23:09:43,428 Opening /home2/weiguang/data6/CL300_Caesar/NewMDCLUSTER_0312/Caesar_snap_128.hdf5\n",
      "yt : [INFO     ] 2021-04-13 23:09:43,606 Found 2197 halos\n",
      "yt : [INFO     ] 2021-04-13 23:09:43,617 Found 1362 galaxies\n"
     ]
    },
    {
     "name": "stdout",
     "output_type": "stream",
     "text": [
      "96 95\n"
     ]
    },
    {
     "name": "stderr",
     "output_type": "stream",
     "text": [
      "yt : [INFO     ] 2021-04-13 23:09:43,716 Opening /home2/weiguang/data6/CL300_Caesar/NewMDCLUSTER_0313/Caesar_snap_128.hdf5\n",
      "yt : [INFO     ] 2021-04-13 23:09:43,857 Found 1858 halos\n",
      "yt : [INFO     ] 2021-04-13 23:09:43,865 Found 1090 galaxies\n"
     ]
    },
    {
     "name": "stdout",
     "output_type": "stream",
     "text": [
      "100 99\n"
     ]
    },
    {
     "name": "stderr",
     "output_type": "stream",
     "text": [
      "yt : [INFO     ] 2021-04-13 23:09:43,931 Opening /home2/weiguang/data6/CL300_Caesar/NewMDCLUSTER_0314/Caesar_snap_128.hdf5\n",
      "yt : [INFO     ] 2021-04-13 23:09:44,074 Found 1640 halos\n",
      "yt : [INFO     ] 2021-04-13 23:09:44,082 Found 945 galaxies\n"
     ]
    },
    {
     "name": "stdout",
     "output_type": "stream",
     "text": [
      "115 114\n"
     ]
    },
    {
     "name": "stderr",
     "output_type": "stream",
     "text": [
      "yt : [INFO     ] 2021-04-13 23:09:44,139 Opening /home2/weiguang/data6/CL300_Caesar/NewMDCLUSTER_0315/Caesar_snap_128.hdf5\n",
      "yt : [INFO     ] 2021-04-13 23:09:44,283 Found 2129 halos\n",
      "yt : [INFO     ] 2021-04-13 23:09:44,292 Found 1258 galaxies\n"
     ]
    },
    {
     "name": "stdout",
     "output_type": "stream",
     "text": [
      "127 126\n"
     ]
    },
    {
     "name": "stderr",
     "output_type": "stream",
     "text": [
      "yt : [INFO     ] 2021-04-13 23:09:44,378 Opening /home2/weiguang/data6/CL300_Caesar/NewMDCLUSTER_0316/Caesar_snap_128.hdf5\n",
      "yt : [INFO     ] 2021-04-13 23:09:44,518 Found 1920 halos\n",
      "yt : [INFO     ] 2021-04-13 23:09:44,526 Found 1156 galaxies\n"
     ]
    },
    {
     "name": "stdout",
     "output_type": "stream",
     "text": [
      "122 121\n"
     ]
    },
    {
     "name": "stderr",
     "output_type": "stream",
     "text": [
      "yt : [INFO     ] 2021-04-13 23:09:44,591 Opening /home2/weiguang/data6/CL300_Caesar/NewMDCLUSTER_0317/Caesar_snap_128.hdf5\n",
      "yt : [INFO     ] 2021-04-13 23:09:44,735 Found 1825 halos\n",
      "yt : [INFO     ] 2021-04-13 23:09:44,744 Found 999 galaxies\n"
     ]
    },
    {
     "name": "stdout",
     "output_type": "stream",
     "text": [
      "110 109\n"
     ]
    },
    {
     "name": "stderr",
     "output_type": "stream",
     "text": [
      "yt : [INFO     ] 2021-04-13 23:09:44,804 Opening /home2/weiguang/data6/CL300_Caesar/NewMDCLUSTER_0318/Caesar_snap_128.hdf5\n",
      "yt : [INFO     ] 2021-04-13 23:09:44,949 Found 2016 halos\n",
      "yt : [INFO     ] 2021-04-13 23:09:44,960 Found 1303 galaxies\n"
     ]
    },
    {
     "name": "stdout",
     "output_type": "stream",
     "text": [
      "99 98\n"
     ]
    },
    {
     "name": "stderr",
     "output_type": "stream",
     "text": [
      "yt : [INFO     ] 2021-04-13 23:09:45,038 Opening /home2/weiguang/data6/CL300_Caesar/NewMDCLUSTER_0319/Caesar_snap_128.hdf5\n",
      "yt : [INFO     ] 2021-04-13 23:09:45,175 Found 2368 halos\n",
      "yt : [INFO     ] 2021-04-13 23:09:45,183 Found 1545 galaxies\n"
     ]
    },
    {
     "name": "stdout",
     "output_type": "stream",
     "text": [
      "73 72\n"
     ]
    },
    {
     "name": "stderr",
     "output_type": "stream",
     "text": [
      "yt : [INFO     ] 2021-04-13 23:09:45,266 Opening /home2/weiguang/data6/CL300_Caesar/NewMDCLUSTER_0320/Caesar_snap_128.hdf5\n",
      "yt : [INFO     ] 2021-04-13 23:09:45,407 Found 1537 halos\n",
      "yt : [INFO     ] 2021-04-13 23:09:45,417 Found 757 galaxies\n"
     ]
    },
    {
     "name": "stdout",
     "output_type": "stream",
     "text": [
      "105 104\n"
     ]
    },
    {
     "name": "stderr",
     "output_type": "stream",
     "text": [
      "yt : [INFO     ] 2021-04-13 23:09:45,465 Opening /home2/weiguang/data6/CL300_Caesar/NewMDCLUSTER_0321/Caesar_snap_128.hdf5\n",
      "yt : [INFO     ] 2021-04-13 23:09:45,610 Found 1775 halos\n",
      "yt : [INFO     ] 2021-04-13 23:09:45,619 Found 994 galaxies\n"
     ]
    },
    {
     "name": "stdout",
     "output_type": "stream",
     "text": [
      "115 114\n"
     ]
    },
    {
     "name": "stderr",
     "output_type": "stream",
     "text": [
      "yt : [INFO     ] 2021-04-13 23:09:45,684 Opening /home2/weiguang/data6/CL300_Caesar/NewMDCLUSTER_0322/Caesar_snap_128.hdf5\n",
      "yt : [INFO     ] 2021-04-13 23:09:45,861 Found 1711 halos\n",
      "yt : [INFO     ] 2021-04-13 23:09:45,872 Found 809 galaxies\n"
     ]
    },
    {
     "name": "stdout",
     "output_type": "stream",
     "text": [
      "114 113\n"
     ]
    },
    {
     "name": "stderr",
     "output_type": "stream",
     "text": [
      "yt : [INFO     ] 2021-04-13 23:09:45,928 Opening /home2/weiguang/data6/CL300_Caesar/NewMDCLUSTER_0323/Caesar_snap_128.hdf5\n",
      "yt : [INFO     ] 2021-04-13 23:09:46,081 Found 2084 halos\n",
      "yt : [INFO     ] 2021-04-13 23:09:46,090 Found 1224 galaxies\n"
     ]
    },
    {
     "name": "stdout",
     "output_type": "stream",
     "text": [
      "102 101\n"
     ]
    },
    {
     "name": "stderr",
     "output_type": "stream",
     "text": [
      "yt : [INFO     ] 2021-04-13 23:09:46,157 Opening /home2/weiguang/data6/CL300_Caesar/NewMDCLUSTER_0324/Caesar_snap_128.hdf5\n",
      "yt : [INFO     ] 2021-04-13 23:09:46,296 Found 1366 halos\n",
      "yt : [INFO     ] 2021-04-13 23:09:46,305 Found 715 galaxies\n"
     ]
    },
    {
     "name": "stdout",
     "output_type": "stream",
     "text": [
      "110 109\n"
     ]
    }
   ],
   "source": [
    "# GIZMO Get M* satellite from Caesar \n",
    "GMatch=np.loadtxt('GIZMO-Matched-AHFhalo-Caesar-galaxy.txt')\n",
    "\n",
    "GZCshr=np.zeros((320*1000,2),dtype=np.f-loat32)\n",
    "\n",
    "N=0\n",
    "path='/home2/weiguang/data6/CL300_Caesar/'\n",
    "for i in np.arange(1,325):\n",
    "    ds=caesar.load(path+'NewMDCLUSTER_%04d/Caesar_snap_128.hdf5'%i)\n",
    "    gpos=np.array([j.minpotpos for j in ds.galaxies])  #CoM\n",
    "    gmas=np.array([j.masses['stellar'] for j in ds.galaxies])  #CoM\n",
    "    dist=np.linalg.norm(gpos*0.6777-GIZMO[i-1,4:7],axis=1)\n",
    "\n",
    "    ids=np.where(dist<=GIZMO[i-1,7])[0]\n",
    "    n1=len(ids)\n",
    "    ids=ids[ids != np.int32(GMatch[i-1,3]+0.1)]\n",
    "    n2=len(ids)\n",
    "    print(n1,n2)\n",
    "    GZCshr[N:N+n2,0] = i\n",
    "    GZCshr[N:N+n2,1] = gmas[ids]\n",
    "    N+=n2\n",
    "\n",
    "GZCshr=GZCshr[:N]\n",
    "# np.save(\"./data/GZS_Satellite\",GZshr)\n",
    "\n",
    "#HID[0] hostHalo(1) RID[2] Mvir(3) M_star(4)"
   ]
  },
  {
   "cell_type": "code",
   "execution_count": 40,
   "metadata": {},
   "outputs": [],
   "source": [
    "czsmf=np.zeros((324,sbx.size),dtype=float)\n",
    "for i in np.arange(1,325):\n",
    "    ids = np.int32(GZCshr[:,0]+0.1)== i\n",
    "    czsmf[i-1,:],x=np.histogram(np.log10(GZCshr[ids,1]*0.6777),bins=smb)\n",
    "CZsmf_m=np.median(czsmf*10,axis=0); CZsmf_e=np.std(czsmf*10,axis=0)"
   ]
  },
  {
   "cell_type": "code",
   "execution_count": 53,
   "metadata": {
    "collapsed": true,
    "jupyter": {
     "outputs_hidden": true
    },
    "tags": []
   },
   "outputs": [
    {
     "name": "stderr",
     "output_type": "stream",
     "text": [
      "yt : [INFO     ] 2021-04-14 15:37:49,398 Opening /home2/weiguang/data6/G3X_Caesar/NewMDCLUSTER_0001/Caesar_snap_128.hdf5\n",
      "yt : [INFO     ] 2021-04-14 15:37:49,541 Found 2518 halos\n",
      "yt : [INFO     ] 2021-04-14 15:37:49,549 Found 3038 galaxies\n",
      "yt : [INFO     ] 2021-04-14 15:37:49,685 Opening /home2/weiguang/data6/G3X_Caesar/NewMDCLUSTER_0002/Caesar_snap_128.hdf5\n",
      "yt : [INFO     ] 2021-04-14 15:37:49,820 Found 2176 halos\n",
      "yt : [INFO     ] 2021-04-14 15:37:49,827 Found 2546 galaxies\n",
      "yt : [INFO     ] 2021-04-14 15:37:49,944 Opening /home2/weiguang/data6/G3X_Caesar/NewMDCLUSTER_0003/Caesar_snap_128.hdf5\n",
      "yt : [INFO     ] 2021-04-14 15:37:50,081 Found 2732 halos\n",
      "yt : [INFO     ] 2021-04-14 15:37:50,089 Found 3945 galaxies\n",
      "yt : [INFO     ] 2021-04-14 15:37:50,261 Opening /home2/weiguang/data6/G3X_Caesar/NewMDCLUSTER_0004/Caesar_snap_128.hdf5\n",
      "yt : [INFO     ] 2021-04-14 15:37:50,397 Found 2642 halos\n",
      "yt : [INFO     ] 2021-04-14 15:37:50,405 Found 3236 galaxies\n",
      "yt : [INFO     ] 2021-04-14 15:37:50,549 Opening /home2/weiguang/data6/G3X_Caesar/NewMDCLUSTER_0005/Caesar_snap_128.hdf5\n",
      "yt : [INFO     ] 2021-04-14 15:37:50,683 Found 2231 halos\n",
      "yt : [INFO     ] 2021-04-14 15:37:50,691 Found 2478 galaxies\n",
      "yt : [INFO     ] 2021-04-14 15:37:50,806 Opening /home2/weiguang/data6/G3X_Caesar/NewMDCLUSTER_0006/Caesar_snap_128.hdf5\n",
      "yt : [INFO     ] 2021-04-14 15:37:50,939 Found 2221 halos\n",
      "yt : [INFO     ] 2021-04-14 15:37:50,947 Found 2524 galaxies\n",
      "yt : [INFO     ] 2021-04-14 15:37:51,061 Opening /home2/weiguang/data6/G3X_Caesar/NewMDCLUSTER_0007/Caesar_snap_128.hdf5\n",
      "yt : [INFO     ] 2021-04-14 15:37:51,196 Found 2337 halos\n",
      "yt : [INFO     ] 2021-04-14 15:37:51,205 Found 2740 galaxies\n",
      "yt : [INFO     ] 2021-04-14 15:37:51,335 Opening /home2/weiguang/data6/G3X_Caesar/NewMDCLUSTER_0008/Caesar_snap_128.hdf5\n",
      "yt : [INFO     ] 2021-04-14 15:37:51,469 Found 2394 halos\n",
      "yt : [INFO     ] 2021-04-14 15:37:51,476 Found 2830 galaxies\n",
      "yt : [INFO     ] 2021-04-14 15:37:59,293 Opening /home2/weiguang/data6/G3X_Caesar/NewMDCLUSTER_0009/Caesar_snap_128.hdf5\n",
      "yt : [INFO     ] 2021-04-14 15:37:59,427 Found 2419 halos\n",
      "yt : [INFO     ] 2021-04-14 15:37:59,435 Found 2801 galaxies\n",
      "yt : [INFO     ] 2021-04-14 15:37:59,570 Opening /home2/weiguang/data6/G3X_Caesar/NewMDCLUSTER_0010/Caesar_snap_128.hdf5\n",
      "yt : [INFO     ] 2021-04-14 15:37:59,703 Found 2521 halos\n",
      "yt : [INFO     ] 2021-04-14 15:37:59,711 Found 3089 galaxies\n",
      "yt : [INFO     ] 2021-04-14 15:37:59,849 Opening /home2/weiguang/data6/G3X_Caesar/NewMDCLUSTER_0011/Caesar_snap_128.hdf5\n",
      "yt : [INFO     ] 2021-04-14 15:37:59,983 Found 1992 halos\n",
      "yt : [INFO     ] 2021-04-14 15:37:59,990 Found 2190 galaxies\n",
      "yt : [INFO     ] 2021-04-14 15:38:00,092 Opening /home2/weiguang/data6/G3X_Caesar/NewMDCLUSTER_0012/Caesar_snap_128.hdf5\n",
      "yt : [INFO     ] 2021-04-14 15:38:00,225 Found 2186 halos\n",
      "yt : [INFO     ] 2021-04-14 15:38:00,232 Found 2431 galaxies\n",
      "yt : [INFO     ] 2021-04-14 15:38:00,344 Opening /home2/weiguang/data6/G3X_Caesar/NewMDCLUSTER_0013/Caesar_snap_128.hdf5\n",
      "yt : [INFO     ] 2021-04-14 15:38:00,477 Found 2448 halos\n",
      "yt : [INFO     ] 2021-04-14 15:38:00,484 Found 2901 galaxies\n",
      "yt : [INFO     ] 2021-04-14 15:38:00,615 Opening /home2/weiguang/data6/G3X_Caesar/NewMDCLUSTER_0014/Caesar_snap_128.hdf5\n",
      "yt : [INFO     ] 2021-04-14 15:38:00,749 Found 2009 halos\n",
      "yt : [INFO     ] 2021-04-14 15:38:00,756 Found 2212 galaxies\n",
      "yt : [INFO     ] 2021-04-14 15:38:00,857 Opening /home2/weiguang/data6/G3X_Caesar/NewMDCLUSTER_0015/Caesar_snap_128.hdf5\n",
      "yt : [INFO     ] 2021-04-14 15:38:00,991 Found 1857 halos\n",
      "yt : [INFO     ] 2021-04-14 15:38:00,999 Found 1916 galaxies\n",
      "yt : [INFO     ] 2021-04-14 15:38:01,088 Opening /home2/weiguang/data6/G3X_Caesar/NewMDCLUSTER_0016/Caesar_snap_128.hdf5\n",
      "yt : [INFO     ] 2021-04-14 15:38:01,222 Found 2916 halos\n",
      "yt : [INFO     ] 2021-04-14 15:38:01,231 Found 4034 galaxies\n",
      "yt : [INFO     ] 2021-04-14 15:38:01,406 Opening /home2/weiguang/data6/G3X_Caesar/NewMDCLUSTER_0017/Caesar_snap_128.hdf5\n",
      "yt : [INFO     ] 2021-04-14 15:38:01,540 Found 1928 halos\n",
      "yt : [INFO     ] 2021-04-14 15:38:01,547 Found 2157 galaxies\n",
      "yt : [INFO     ] 2021-04-14 15:38:01,646 Opening /home2/weiguang/data6/G3X_Caesar/NewMDCLUSTER_0018/Caesar_snap_128.hdf5\n",
      "yt : [INFO     ] 2021-04-14 15:38:01,782 Found 2761 halos\n",
      "yt : [INFO     ] 2021-04-14 15:38:01,790 Found 3653 galaxies\n",
      "yt : [INFO     ] 2021-04-14 15:38:01,949 Opening /home2/weiguang/data6/G3X_Caesar/NewMDCLUSTER_0019/Caesar_snap_128.hdf5\n",
      "yt : [INFO     ] 2021-04-14 15:38:02,087 Found 1925 halos\n",
      "yt : [INFO     ] 2021-04-14 15:38:02,095 Found 2259 galaxies\n",
      "yt : [INFO     ] 2021-04-14 15:38:02,198 Opening /home2/weiguang/data6/G3X_Caesar/NewMDCLUSTER_0020/Caesar_snap_128.hdf5\n",
      "yt : [INFO     ] 2021-04-14 15:38:02,331 Found 2607 halos\n",
      "yt : [INFO     ] 2021-04-14 15:38:02,339 Found 3611 galaxies\n",
      "yt : [INFO     ] 2021-04-14 15:38:02,498 Opening /home2/weiguang/data6/G3X_Caesar/NewMDCLUSTER_0021/Caesar_snap_128.hdf5\n",
      "yt : [INFO     ] 2021-04-14 15:38:02,632 Found 2329 halos\n",
      "yt : [INFO     ] 2021-04-14 15:38:02,639 Found 2648 galaxies\n",
      "yt : [INFO     ] 2021-04-14 15:38:02,758 Opening /home2/weiguang/data6/G3X_Caesar/NewMDCLUSTER_0022/Caesar_snap_128.hdf5\n",
      "yt : [INFO     ] 2021-04-14 15:38:02,892 Found 2197 halos\n",
      "yt : [INFO     ] 2021-04-14 15:38:02,900 Found 2325 galaxies\n",
      "yt : [INFO     ] 2021-04-14 15:38:03,006 Opening /home2/weiguang/data6/G3X_Caesar/NewMDCLUSTER_0023/Caesar_snap_128.hdf5\n",
      "yt : [INFO     ] 2021-04-14 15:38:03,141 Found 2466 halos\n",
      "yt : [INFO     ] 2021-04-14 15:38:03,148 Found 2830 galaxies\n",
      "yt : [INFO     ] 2021-04-14 15:38:03,275 Opening /home2/weiguang/data6/G3X_Caesar/NewMDCLUSTER_0024/Caesar_snap_128.hdf5\n",
      "yt : [INFO     ] 2021-04-14 15:38:03,409 Found 2316 halos\n",
      "yt : [INFO     ] 2021-04-14 15:38:03,416 Found 2629 galaxies\n",
      "yt : [INFO     ] 2021-04-14 15:38:03,535 Opening /home2/weiguang/data6/G3X_Caesar/NewMDCLUSTER_0025/Caesar_snap_128.hdf5\n",
      "yt : [INFO     ] 2021-04-14 15:38:03,669 Found 2206 halos\n",
      "yt : [INFO     ] 2021-04-14 15:38:03,678 Found 2407 galaxies\n",
      "yt : [INFO     ] 2021-04-14 15:38:03,787 Opening /home2/weiguang/data6/G3X_Caesar/NewMDCLUSTER_0026/Caesar_snap_128.hdf5\n",
      "yt : [INFO     ] 2021-04-14 15:38:03,922 Found 2420 halos\n",
      "yt : [INFO     ] 2021-04-14 15:38:03,931 Found 2998 galaxies\n",
      "yt : [INFO     ] 2021-04-14 15:38:04,065 Opening /home2/weiguang/data6/G3X_Caesar/NewMDCLUSTER_0027/Caesar_snap_128.hdf5\n",
      "yt : [INFO     ] 2021-04-14 15:38:04,199 Found 2251 halos\n",
      "yt : [INFO     ] 2021-04-14 15:38:04,206 Found 2503 galaxies\n",
      "yt : [INFO     ] 2021-04-14 15:38:04,320 Opening /home2/weiguang/data6/G3X_Caesar/NewMDCLUSTER_0028/Caesar_snap_128.hdf5\n",
      "yt : [INFO     ] 2021-04-14 15:38:04,458 Found 1913 halos\n",
      "yt : [INFO     ] 2021-04-14 15:38:04,467 Found 2100 galaxies\n",
      "yt : [INFO     ] 2021-04-14 15:38:04,563 Opening /home2/weiguang/data6/G3X_Caesar/NewMDCLUSTER_0029/Caesar_snap_128.hdf5\n",
      "yt : [INFO     ] 2021-04-14 15:38:04,697 Found 2111 halos\n",
      "yt : [INFO     ] 2021-04-14 15:38:04,704 Found 2339 galaxies\n",
      "yt : [INFO     ] 2021-04-14 15:38:04,811 Opening /home2/weiguang/data6/G3X_Caesar/NewMDCLUSTER_0030/Caesar_snap_128.hdf5\n",
      "yt : [INFO     ] 2021-04-14 15:38:04,945 Found 2303 halos\n",
      "yt : [INFO     ] 2021-04-14 15:38:04,952 Found 2566 galaxies\n",
      "yt : [INFO     ] 2021-04-14 15:38:05,067 Opening /home2/weiguang/data6/G3X_Caesar/NewMDCLUSTER_0031/Caesar_snap_128.hdf5\n",
      "yt : [INFO     ] 2021-04-14 15:38:05,201 Found 2089 halos\n",
      "yt : [INFO     ] 2021-04-14 15:38:05,209 Found 2266 galaxies\n",
      "yt : [INFO     ] 2021-04-14 15:38:05,313 Opening /home2/weiguang/data6/G3X_Caesar/NewMDCLUSTER_0032/Caesar_snap_128.hdf5\n",
      "yt : [INFO     ] 2021-04-14 15:38:05,451 Found 1800 halos\n",
      "yt : [INFO     ] 2021-04-14 15:38:05,458 Found 1841 galaxies\n",
      "yt : [INFO     ] 2021-04-14 15:38:05,545 Opening /home2/weiguang/data6/G3X_Caesar/NewMDCLUSTER_0033/Caesar_snap_128.hdf5\n",
      "yt : [INFO     ] 2021-04-14 15:38:05,679 Found 1943 halos\n",
      "yt : [INFO     ] 2021-04-14 15:38:05,687 Found 2002 galaxies\n",
      "yt : [INFO     ] 2021-04-14 15:38:05,781 Opening /home2/weiguang/data6/G3X_Caesar/NewMDCLUSTER_0034/Caesar_snap_128.hdf5\n",
      "yt : [INFO     ] 2021-04-14 15:38:05,914 Found 1853 halos\n",
      "yt : [INFO     ] 2021-04-14 15:38:05,922 Found 1832 galaxies\n",
      "yt : [INFO     ] 2021-04-14 15:38:06,008 Opening /home2/weiguang/data6/G3X_Caesar/NewMDCLUSTER_0035/Caesar_snap_128.hdf5\n",
      "yt : [INFO     ] 2021-04-14 15:38:06,142 Found 1943 halos\n",
      "yt : [INFO     ] 2021-04-14 15:38:06,151 Found 2193 galaxies\n",
      "yt : [INFO     ] 2021-04-14 15:38:06,256 Opening /home2/weiguang/data6/G3X_Caesar/NewMDCLUSTER_0036/Caesar_snap_128.hdf5\n",
      "yt : [INFO     ] 2021-04-14 15:38:06,390 Found 1913 halos\n",
      "yt : [INFO     ] 2021-04-14 15:38:06,398 Found 1979 galaxies\n",
      "yt : [INFO     ] 2021-04-14 15:38:06,490 Opening /home2/weiguang/data6/G3X_Caesar/NewMDCLUSTER_0037/Caesar_snap_128.hdf5\n",
      "yt : [INFO     ] 2021-04-14 15:38:06,624 Found 2188 halos\n",
      "yt : [INFO     ] 2021-04-14 15:38:06,631 Found 2470 galaxies\n",
      "yt : [INFO     ] 2021-04-14 15:38:06,744 Opening /home2/weiguang/data6/G3X_Caesar/NewMDCLUSTER_0038/Caesar_snap_128.hdf5\n",
      "yt : [INFO     ] 2021-04-14 15:38:06,878 Found 1731 halos\n",
      "yt : [INFO     ] 2021-04-14 15:38:06,885 Found 1765 galaxies\n",
      "yt : [INFO     ] 2021-04-14 15:38:06,969 Opening /home2/weiguang/data6/G3X_Caesar/NewMDCLUSTER_0039/Caesar_snap_128.hdf5\n",
      "yt : [INFO     ] 2021-04-14 15:38:07,115 Found 2310 halos\n",
      "yt : [INFO     ] 2021-04-14 15:38:07,123 Found 3038 galaxies\n",
      "yt : [INFO     ] 2021-04-14 15:38:07,257 Opening /home2/weiguang/data6/G3X_Caesar/NewMDCLUSTER_0040/Caesar_snap_128.hdf5\n",
      "yt : [INFO     ] 2021-04-14 15:38:07,391 Found 2454 halos\n",
      "yt : [INFO     ] 2021-04-14 15:38:07,399 Found 2771 galaxies\n",
      "yt : [INFO     ] 2021-04-14 15:38:07,523 Opening /home2/weiguang/data6/G3X_Caesar/NewMDCLUSTER_0041/Caesar_snap_128.hdf5\n",
      "yt : [INFO     ] 2021-04-14 15:38:07,658 Found 2046 halos\n",
      "yt : [INFO     ] 2021-04-14 15:38:07,665 Found 1986 galaxies\n",
      "yt : [INFO     ] 2021-04-14 15:38:07,758 Opening /home2/weiguang/data6/G3X_Caesar/NewMDCLUSTER_0042/Caesar_snap_128.hdf5\n",
      "yt : [INFO     ] 2021-04-14 15:38:07,892 Found 2087 halos\n",
      "yt : [INFO     ] 2021-04-14 15:38:07,900 Found 2145 galaxies\n",
      "yt : [INFO     ] 2021-04-14 15:38:08,008 Opening /home2/weiguang/data6/G3X_Caesar/NewMDCLUSTER_0043/Caesar_snap_128.hdf5\n",
      "yt : [INFO     ] 2021-04-14 15:38:08,142 Found 2090 halos\n",
      "yt : [INFO     ] 2021-04-14 15:38:08,149 Found 2309 galaxies\n",
      "yt : [INFO     ] 2021-04-14 15:38:08,264 Opening /home2/weiguang/data6/G3X_Caesar/NewMDCLUSTER_0044/Caesar_snap_128.hdf5\n",
      "yt : [INFO     ] 2021-04-14 15:38:08,398 Found 1957 halos\n",
      "yt : [INFO     ] 2021-04-14 15:38:08,407 Found 2181 galaxies\n",
      "yt : [INFO     ] 2021-04-14 15:38:08,507 Opening /home2/weiguang/data6/G3X_Caesar/NewMDCLUSTER_0045/Caesar_snap_128.hdf5\n",
      "yt : [INFO     ] 2021-04-14 15:38:08,641 Found 1970 halos\n",
      "yt : [INFO     ] 2021-04-14 15:38:08,648 Found 2262 galaxies\n",
      "yt : [INFO     ] 2021-04-14 15:38:08,752 Opening /home2/weiguang/data6/G3X_Caesar/NewMDCLUSTER_0046/Caesar_snap_128.hdf5\n",
      "yt : [INFO     ] 2021-04-14 15:38:08,887 Found 2436 halos\n",
      "yt : [INFO     ] 2021-04-14 15:38:08,894 Found 2473 galaxies\n",
      "yt : [INFO     ] 2021-04-14 15:38:09,015 Opening /home2/weiguang/data6/G3X_Caesar/NewMDCLUSTER_0047/Caesar_snap_128.hdf5\n",
      "yt : [INFO     ] 2021-04-14 15:38:09,149 Found 2264 halos\n",
      "yt : [INFO     ] 2021-04-14 15:38:09,157 Found 2605 galaxies\n",
      "yt : [INFO     ] 2021-04-14 15:38:09,274 Opening /home2/weiguang/data6/G3X_Caesar/NewMDCLUSTER_0048/Caesar_snap_128.hdf5\n",
      "yt : [INFO     ] 2021-04-14 15:38:09,409 Found 1717 halos\n",
      "yt : [INFO     ] 2021-04-14 15:38:09,417 Found 1604 galaxies\n",
      "yt : [INFO     ] 2021-04-14 15:38:09,495 Opening /home2/weiguang/data6/G3X_Caesar/NewMDCLUSTER_0049/Caesar_snap_128.hdf5\n",
      "yt : [INFO     ] 2021-04-14 15:38:09,629 Found 1848 halos\n",
      "yt : [INFO     ] 2021-04-14 15:38:09,637 Found 1827 galaxies\n",
      "yt : [INFO     ] 2021-04-14 15:38:09,723 Opening /home2/weiguang/data6/G3X_Caesar/NewMDCLUSTER_0050/Caesar_snap_128.hdf5\n",
      "yt : [INFO     ] 2021-04-14 15:38:09,858 Found 1782 halos\n",
      "yt : [INFO     ] 2021-04-14 15:38:09,865 Found 1828 galaxies\n",
      "yt : [INFO     ] 2021-04-14 15:38:09,966 Opening /home2/weiguang/data6/G3X_Caesar/NewMDCLUSTER_0051/Caesar_snap_128.hdf5\n",
      "yt : [INFO     ] 2021-04-14 15:38:10,101 Found 2050 halos\n",
      "yt : [INFO     ] 2021-04-14 15:38:10,109 Found 2236 galaxies\n",
      "yt : [INFO     ] 2021-04-14 15:38:10,222 Opening /home2/weiguang/data6/G3X_Caesar/NewMDCLUSTER_0052/Caesar_snap_128.hdf5\n",
      "yt : [INFO     ] 2021-04-14 15:38:10,356 Found 2113 halos\n",
      "yt : [INFO     ] 2021-04-14 15:38:10,363 Found 2321 galaxies\n",
      "yt : [INFO     ] 2021-04-14 15:38:10,476 Opening /home2/weiguang/data6/G3X_Caesar/NewMDCLUSTER_0053/Caesar_snap_128.hdf5\n",
      "yt : [INFO     ] 2021-04-14 15:38:10,613 Found 1624 halos\n",
      "yt : [INFO     ] 2021-04-14 15:38:10,621 Found 1682 galaxies\n",
      "yt : [INFO     ] 2021-04-14 15:38:10,708 Opening /home2/weiguang/data6/G3X_Caesar/NewMDCLUSTER_0054/Caesar_snap_128.hdf5\n",
      "yt : [INFO     ] 2021-04-14 15:38:10,841 Found 1870 halos\n",
      "yt : [INFO     ] 2021-04-14 15:38:10,849 Found 2097 galaxies\n",
      "yt : [INFO     ] 2021-04-14 15:38:10,955 Opening /home2/weiguang/data6/G3X_Caesar/NewMDCLUSTER_0055/Caesar_snap_128.hdf5\n",
      "yt : [INFO     ] 2021-04-14 15:38:11,088 Found 2176 halos\n",
      "yt : [INFO     ] 2021-04-14 15:38:11,096 Found 2236 galaxies\n",
      "yt : [INFO     ] 2021-04-14 15:38:11,201 Opening /home2/weiguang/data6/G3X_Caesar/NewMDCLUSTER_0056/Caesar_snap_128.hdf5\n",
      "yt : [INFO     ] 2021-04-14 15:38:11,336 Found 1936 halos\n",
      "yt : [INFO     ] 2021-04-14 15:38:11,343 Found 2237 galaxies\n",
      "yt : [INFO     ] 2021-04-14 15:38:11,447 Opening /home2/weiguang/data6/G3X_Caesar/NewMDCLUSTER_0057/Caesar_snap_128.hdf5\n",
      "yt : [INFO     ] 2021-04-14 15:38:11,580 Found 1873 halos\n",
      "yt : [INFO     ] 2021-04-14 15:38:11,588 Found 1786 galaxies\n",
      "yt : [INFO     ] 2021-04-14 15:38:11,673 Opening /home2/weiguang/data6/G3X_Caesar/NewMDCLUSTER_0058/Caesar_snap_128.hdf5\n",
      "yt : [INFO     ] 2021-04-14 15:38:11,807 Found 1962 halos\n",
      "yt : [INFO     ] 2021-04-14 15:38:11,815 Found 2110 galaxies\n",
      "yt : [INFO     ] 2021-04-14 15:38:11,919 Opening /home2/weiguang/data6/G3X_Caesar/NewMDCLUSTER_0059/Caesar_snap_128.hdf5\n",
      "yt : [INFO     ] 2021-04-14 15:38:12,052 Found 1713 halos\n",
      "yt : [INFO     ] 2021-04-14 15:38:12,060 Found 1696 galaxies\n",
      "yt : [INFO     ] 2021-04-14 15:38:12,141 Opening /home2/weiguang/data6/G3X_Caesar/NewMDCLUSTER_0060/Caesar_snap_128.hdf5\n",
      "yt : [INFO     ] 2021-04-14 15:38:12,275 Found 2077 halos\n",
      "yt : [INFO     ] 2021-04-14 15:38:12,282 Found 2215 galaxies\n",
      "yt : [INFO     ] 2021-04-14 15:38:12,385 Opening /home2/weiguang/data6/G3X_Caesar/NewMDCLUSTER_0061/Caesar_snap_128.hdf5\n",
      "yt : [INFO     ] 2021-04-14 15:38:12,519 Found 1754 halos\n",
      "yt : [INFO     ] 2021-04-14 15:38:12,527 Found 1854 galaxies\n",
      "yt : [INFO     ] 2021-04-14 15:38:12,623 Opening /home2/weiguang/data6/G3X_Caesar/NewMDCLUSTER_0062/Caesar_snap_128.hdf5\n",
      "yt : [INFO     ] 2021-04-14 15:38:12,762 Found 1839 halos\n",
      "yt : [INFO     ] 2021-04-14 15:38:12,770 Found 1648 galaxies\n",
      "yt : [INFO     ] 2021-04-14 15:38:12,850 Opening /home2/weiguang/data6/G3X_Caesar/NewMDCLUSTER_0063/Caesar_snap_128.hdf5\n",
      "yt : [INFO     ] 2021-04-14 15:38:12,984 Found 1841 halos\n",
      "yt : [INFO     ] 2021-04-14 15:38:12,992 Found 2050 galaxies\n",
      "yt : [INFO     ] 2021-04-14 15:38:13,088 Opening /home2/weiguang/data6/G3X_Caesar/NewMDCLUSTER_0064/Caesar_snap_128.hdf5\n",
      "yt : [INFO     ] 2021-04-14 15:38:13,221 Found 2105 halos\n",
      "yt : [INFO     ] 2021-04-14 15:38:13,229 Found 2389 galaxies\n",
      "yt : [INFO     ] 2021-04-14 15:38:13,339 Opening /home2/weiguang/data6/G3X_Caesar/NewMDCLUSTER_0065/Caesar_snap_128.hdf5\n",
      "yt : [INFO     ] 2021-04-14 15:38:13,479 Found 1920 halos\n",
      "yt : [INFO     ] 2021-04-14 15:38:13,486 Found 1902 galaxies\n",
      "yt : [INFO     ] 2021-04-14 15:38:13,577 Opening /home2/weiguang/data6/G3X_Caesar/NewMDCLUSTER_0066/Caesar_snap_128.hdf5\n",
      "yt : [INFO     ] 2021-04-14 15:38:13,717 Found 2295 halos\n",
      "yt : [INFO     ] 2021-04-14 15:38:13,724 Found 2392 galaxies\n",
      "yt : [INFO     ] 2021-04-14 15:38:13,835 Opening /home2/weiguang/data6/G3X_Caesar/NewMDCLUSTER_0067/Caesar_snap_128.hdf5\n",
      "yt : [INFO     ] 2021-04-14 15:38:13,969 Found 1850 halos\n",
      "yt : [INFO     ] 2021-04-14 15:38:13,976 Found 1940 galaxies\n",
      "yt : [INFO     ] 2021-04-14 15:38:14,068 Opening /home2/weiguang/data6/G3X_Caesar/NewMDCLUSTER_0068/Caesar_snap_128.hdf5\n",
      "yt : [INFO     ] 2021-04-14 15:38:14,202 Found 2424 halos\n",
      "yt : [INFO     ] 2021-04-14 15:38:14,210 Found 3412 galaxies\n",
      "yt : [INFO     ] 2021-04-14 15:38:14,361 Opening /home2/weiguang/data6/G3X_Caesar/NewMDCLUSTER_0069/Caesar_snap_128.hdf5\n",
      "yt : [INFO     ] 2021-04-14 15:38:14,495 Found 1737 halos\n",
      "yt : [INFO     ] 2021-04-14 15:38:14,503 Found 1893 galaxies\n",
      "yt : [INFO     ] 2021-04-14 15:38:14,592 Opening /home2/weiguang/data6/G3X_Caesar/NewMDCLUSTER_0070/Caesar_snap_128.hdf5\n",
      "yt : [INFO     ] 2021-04-14 15:38:14,730 Found 2026 halos\n",
      "yt : [INFO     ] 2021-04-14 15:38:14,738 Found 2215 galaxies\n",
      "yt : [INFO     ] 2021-04-14 15:38:14,840 Opening /home2/weiguang/data6/G3X_Caesar/NewMDCLUSTER_0071/Caesar_snap_128.hdf5\n",
      "yt : [INFO     ] 2021-04-14 15:38:14,980 Found 1829 halos\n",
      "yt : [INFO     ] 2021-04-14 15:38:14,988 Found 1850 galaxies\n",
      "yt : [INFO     ] 2021-04-14 15:38:15,085 Opening /home2/weiguang/data6/G3X_Caesar/NewMDCLUSTER_0072/Caesar_snap_128.hdf5\n",
      "yt : [INFO     ] 2021-04-14 15:38:15,219 Found 2214 halos\n",
      "yt : [INFO     ] 2021-04-14 15:38:15,227 Found 2587 galaxies\n",
      "yt : [INFO     ] 2021-04-14 15:38:15,343 Opening /home2/weiguang/data6/G3X_Caesar/NewMDCLUSTER_0073/Caesar_snap_128.hdf5\n",
      "yt : [INFO     ] 2021-04-14 15:38:15,477 Found 2003 halos\n",
      "yt : [INFO     ] 2021-04-14 15:38:15,485 Found 2140 galaxies\n",
      "yt : [INFO     ] 2021-04-14 15:38:15,596 Opening /home2/weiguang/data6/G3X_Caesar/NewMDCLUSTER_0074/Caesar_snap_128.hdf5\n",
      "yt : [INFO     ] 2021-04-14 15:38:15,730 Found 2451 halos\n",
      "yt : [INFO     ] 2021-04-14 15:38:15,737 Found 3004 galaxies\n",
      "yt : [INFO     ] 2021-04-14 15:38:15,877 Opening /home2/weiguang/data6/G3X_Caesar/NewMDCLUSTER_0075/Caesar_snap_128.hdf5\n",
      "yt : [INFO     ] 2021-04-14 15:38:16,012 Found 1901 halos\n",
      "yt : [INFO     ] 2021-04-14 15:38:16,019 Found 1918 galaxies\n",
      "yt : [INFO     ] 2021-04-14 15:38:16,109 Opening /home2/weiguang/data6/G3X_Caesar/NewMDCLUSTER_0076/Caesar_snap_128.hdf5\n",
      "yt : [INFO     ] 2021-04-14 15:38:16,243 Found 2103 halos\n",
      "yt : [INFO     ] 2021-04-14 15:38:16,250 Found 2126 galaxies\n",
      "yt : [INFO     ] 2021-04-14 15:38:16,348 Opening /home2/weiguang/data6/G3X_Caesar/NewMDCLUSTER_0077/Caesar_snap_128.hdf5\n",
      "yt : [INFO     ] 2021-04-14 15:38:16,481 Found 1738 halos\n",
      "yt : [INFO     ] 2021-04-14 15:38:16,488 Found 1895 galaxies\n",
      "yt : [INFO     ] 2021-04-14 15:38:16,584 Opening /home2/weiguang/data6/G3X_Caesar/NewMDCLUSTER_0078/Caesar_snap_128.hdf5\n",
      "yt : [INFO     ] 2021-04-14 15:38:16,721 Found 2179 halos\n",
      "yt : [INFO     ] 2021-04-14 15:38:16,728 Found 2574 galaxies\n",
      "yt : [INFO     ] 2021-04-14 15:38:16,846 Opening /home2/weiguang/data6/G3X_Caesar/NewMDCLUSTER_0079/Caesar_snap_128.hdf5\n",
      "yt : [INFO     ] 2021-04-14 15:38:16,980 Found 2568 halos\n",
      "yt : [INFO     ] 2021-04-14 15:38:16,989 Found 3022 galaxies\n",
      "yt : [INFO     ] 2021-04-14 15:38:17,123 Opening /home2/weiguang/data6/G3X_Caesar/NewMDCLUSTER_0080/Caesar_snap_128.hdf5\n",
      "yt : [INFO     ] 2021-04-14 15:38:17,258 Found 3150 halos\n",
      "yt : [INFO     ] 2021-04-14 15:38:17,265 Found 4035 galaxies\n",
      "yt : [INFO     ] 2021-04-14 15:38:17,440 Opening /home2/weiguang/data6/G3X_Caesar/NewMDCLUSTER_0081/Caesar_snap_128.hdf5\n",
      "yt : [INFO     ] 2021-04-14 15:38:17,574 Found 1839 halos\n",
      "yt : [INFO     ] 2021-04-14 15:38:17,581 Found 1869 galaxies\n",
      "yt : [INFO     ] 2021-04-14 15:38:17,669 Opening /home2/weiguang/data6/G3X_Caesar/NewMDCLUSTER_0082/Caesar_snap_128.hdf5\n",
      "yt : [INFO     ] 2021-04-14 15:38:17,804 Found 2244 halos\n",
      "yt : [INFO     ] 2021-04-14 15:38:17,811 Found 2649 galaxies\n",
      "yt : [INFO     ] 2021-04-14 15:38:17,930 Opening /home2/weiguang/data6/G3X_Caesar/NewMDCLUSTER_0083/Caesar_snap_128.hdf5\n",
      "yt : [INFO     ] 2021-04-14 15:38:18,064 Found 2051 halos\n",
      "yt : [INFO     ] 2021-04-14 15:38:18,072 Found 1946 galaxies\n",
      "yt : [INFO     ] 2021-04-14 15:38:18,162 Opening /home2/weiguang/data6/G3X_Caesar/NewMDCLUSTER_0084/Caesar_snap_128.hdf5\n",
      "yt : [INFO     ] 2021-04-14 15:38:18,298 Found 1820 halos\n",
      "yt : [INFO     ] 2021-04-14 15:38:18,306 Found 1702 galaxies\n",
      "yt : [INFO     ] 2021-04-14 15:38:18,387 Opening /home2/weiguang/data6/G3X_Caesar/NewMDCLUSTER_0085/Caesar_snap_128.hdf5\n",
      "yt : [INFO     ] 2021-04-14 15:38:18,522 Found 2152 halos\n",
      "yt : [INFO     ] 2021-04-14 15:38:18,530 Found 2351 galaxies\n",
      "yt : [INFO     ] 2021-04-14 15:38:18,638 Opening /home2/weiguang/data6/G3X_Caesar/NewMDCLUSTER_0086/Caesar_snap_128.hdf5\n",
      "yt : [INFO     ] 2021-04-14 15:38:18,772 Found 1813 halos\n",
      "yt : [INFO     ] 2021-04-14 15:38:18,780 Found 1726 galaxies\n",
      "yt : [INFO     ] 2021-04-14 15:38:18,862 Opening /home2/weiguang/data6/G3X_Caesar/NewMDCLUSTER_0087/Caesar_snap_128.hdf5\n",
      "yt : [INFO     ] 2021-04-14 15:38:18,995 Found 1522 halos\n",
      "yt : [INFO     ] 2021-04-14 15:38:19,002 Found 1561 galaxies\n",
      "yt : [INFO     ] 2021-04-14 15:38:19,077 Opening /home2/weiguang/data6/G3X_Caesar/NewMDCLUSTER_0088/Caesar_snap_128.hdf5\n",
      "yt : [INFO     ] 2021-04-14 15:38:19,210 Found 2225 halos\n",
      "yt : [INFO     ] 2021-04-14 15:38:19,218 Found 2265 galaxies\n",
      "yt : [INFO     ] 2021-04-14 15:38:19,322 Opening /home2/weiguang/data6/G3X_Caesar/NewMDCLUSTER_0089/Caesar_snap_128.hdf5\n",
      "yt : [INFO     ] 2021-04-14 15:38:19,457 Found 1874 halos\n",
      "yt : [INFO     ] 2021-04-14 15:38:19,464 Found 1858 galaxies\n",
      "yt : [INFO     ] 2021-04-14 15:38:19,552 Opening /home2/weiguang/data6/G3X_Caesar/NewMDCLUSTER_0090/Caesar_snap_128.hdf5\n",
      "yt : [INFO     ] 2021-04-14 15:38:19,686 Found 2945 halos\n",
      "yt : [INFO     ] 2021-04-14 15:38:19,693 Found 3981 galaxies\n",
      "yt : [INFO     ] 2021-04-14 15:38:19,868 Opening /home2/weiguang/data6/G3X_Caesar/NewMDCLUSTER_0091/Caesar_snap_128.hdf5\n",
      "yt : [INFO     ] 2021-04-14 15:38:20,001 Found 2050 halos\n",
      "yt : [INFO     ] 2021-04-14 15:38:20,008 Found 2064 galaxies\n",
      "yt : [INFO     ] 2021-04-14 15:38:20,105 Opening /home2/weiguang/data6/G3X_Caesar/NewMDCLUSTER_0092/Caesar_snap_128.hdf5\n",
      "yt : [INFO     ] 2021-04-14 15:38:20,239 Found 1825 halos\n",
      "yt : [INFO     ] 2021-04-14 15:38:20,246 Found 1953 galaxies\n",
      "yt : [INFO     ] 2021-04-14 15:38:20,337 Opening /home2/weiguang/data6/G3X_Caesar/NewMDCLUSTER_0093/Caesar_snap_128.hdf5\n",
      "yt : [INFO     ] 2021-04-14 15:38:20,471 Found 1949 halos\n",
      "yt : [INFO     ] 2021-04-14 15:38:20,480 Found 1990 galaxies\n",
      "yt : [INFO     ] 2021-04-14 15:38:20,578 Opening /home2/weiguang/data6/G3X_Caesar/NewMDCLUSTER_0094/Caesar_snap_128.hdf5\n",
      "yt : [INFO     ] 2021-04-14 15:38:20,712 Found 1789 halos\n",
      "yt : [INFO     ] 2021-04-14 15:38:20,719 Found 1751 galaxies\n",
      "yt : [INFO     ] 2021-04-14 15:38:20,801 Opening /home2/weiguang/data6/G3X_Caesar/NewMDCLUSTER_0095/Caesar_snap_128.hdf5\n",
      "yt : [INFO     ] 2021-04-14 15:38:20,934 Found 2077 halos\n",
      "yt : [INFO     ] 2021-04-14 15:38:20,943 Found 2205 galaxies\n",
      "yt : [INFO     ] 2021-04-14 15:38:21,043 Opening /home2/weiguang/data6/G3X_Caesar/NewMDCLUSTER_0096/Caesar_snap_128.hdf5\n",
      "yt : [INFO     ] 2021-04-14 15:38:21,177 Found 1782 halos\n",
      "yt : [INFO     ] 2021-04-14 15:38:21,185 Found 1771 galaxies\n",
      "yt : [INFO     ] 2021-04-14 15:38:21,268 Opening /home2/weiguang/data6/G3X_Caesar/NewMDCLUSTER_0097/Caesar_snap_128.hdf5\n",
      "yt : [INFO     ] 2021-04-14 15:38:21,403 Found 2374 halos\n",
      "yt : [INFO     ] 2021-04-14 15:38:21,410 Found 2594 galaxies\n",
      "yt : [INFO     ] 2021-04-14 15:38:21,529 Opening /home2/weiguang/data6/G3X_Caesar/NewMDCLUSTER_0098/Caesar_snap_128.hdf5\n",
      "yt : [INFO     ] 2021-04-14 15:38:21,670 Found 1813 halos\n",
      "yt : [INFO     ] 2021-04-14 15:38:21,678 Found 1952 galaxies\n",
      "yt : [INFO     ] 2021-04-14 15:38:21,769 Opening /home2/weiguang/data6/G3X_Caesar/NewMDCLUSTER_0099/Caesar_snap_128.hdf5\n",
      "yt : [INFO     ] 2021-04-14 15:38:21,903 Found 1811 halos\n",
      "yt : [INFO     ] 2021-04-14 15:38:21,911 Found 1803 galaxies\n",
      "yt : [INFO     ] 2021-04-14 15:38:21,996 Opening /home2/weiguang/data6/G3X_Caesar/NewMDCLUSTER_0100/Caesar_snap_128.hdf5\n",
      "yt : [INFO     ] 2021-04-14 15:38:22,130 Found 1760 halos\n",
      "yt : [INFO     ] 2021-04-14 15:38:22,138 Found 1795 galaxies\n",
      "yt : [INFO     ] 2021-04-14 15:38:22,222 Opening /home2/weiguang/data6/G3X_Caesar/NewMDCLUSTER_0101/Caesar_snap_128.hdf5\n",
      "yt : [INFO     ] 2021-04-14 15:38:22,357 Found 2704 halos\n",
      "yt : [INFO     ] 2021-04-14 15:38:22,364 Found 3283 galaxies\n",
      "yt : [INFO     ] 2021-04-14 15:38:22,510 Opening /home2/weiguang/data6/G3X_Caesar/NewMDCLUSTER_0102/Caesar_snap_128.hdf5\n",
      "yt : [INFO     ] 2021-04-14 15:38:22,643 Found 1874 halos\n",
      "yt : [INFO     ] 2021-04-14 15:38:22,651 Found 1758 galaxies\n",
      "yt : [INFO     ] 2021-04-14 15:38:22,734 Opening /home2/weiguang/data6/G3X_Caesar/NewMDCLUSTER_0103/Caesar_snap_128.hdf5\n",
      "yt : [INFO     ] 2021-04-14 15:38:22,867 Found 2025 halos\n",
      "yt : [INFO     ] 2021-04-14 15:38:22,876 Found 2165 galaxies\n",
      "yt : [INFO     ] 2021-04-14 15:38:22,975 Opening /home2/weiguang/data6/G3X_Caesar/NewMDCLUSTER_0104/Caesar_snap_128.hdf5\n",
      "yt : [INFO     ] 2021-04-14 15:38:23,109 Found 2259 halos\n",
      "yt : [INFO     ] 2021-04-14 15:38:23,117 Found 2370 galaxies\n",
      "yt : [INFO     ] 2021-04-14 15:38:23,227 Opening /home2/weiguang/data6/G3X_Caesar/NewMDCLUSTER_0105/Caesar_snap_128.hdf5\n",
      "yt : [INFO     ] 2021-04-14 15:38:23,361 Found 2157 halos\n",
      "yt : [INFO     ] 2021-04-14 15:38:23,369 Found 2343 galaxies\n",
      "yt : [INFO     ] 2021-04-14 15:38:23,480 Opening /home2/weiguang/data6/G3X_Caesar/NewMDCLUSTER_0106/Caesar_snap_128.hdf5\n",
      "yt : [INFO     ] 2021-04-14 15:38:23,615 Found 2166 halos\n",
      "yt : [INFO     ] 2021-04-14 15:38:23,622 Found 2351 galaxies\n",
      "yt : [INFO     ] 2021-04-14 15:38:23,731 Opening /home2/weiguang/data6/G3X_Caesar/NewMDCLUSTER_0107/Caesar_snap_128.hdf5\n",
      "yt : [INFO     ] 2021-04-14 15:38:23,865 Found 1467 halos\n",
      "yt : [INFO     ] 2021-04-14 15:38:23,873 Found 1458 galaxies\n",
      "yt : [INFO     ] 2021-04-14 15:38:23,943 Opening /home2/weiguang/data6/G3X_Caesar/NewMDCLUSTER_0108/Caesar_snap_128.hdf5\n",
      "yt : [INFO     ] 2021-04-14 15:38:24,077 Found 1792 halos\n",
      "yt : [INFO     ] 2021-04-14 15:38:24,084 Found 1811 galaxies\n",
      "yt : [INFO     ] 2021-04-14 15:38:24,170 Opening /home2/weiguang/data6/G3X_Caesar/NewMDCLUSTER_0109/Caesar_snap_128.hdf5\n",
      "yt : [INFO     ] 2021-04-14 15:38:24,304 Found 1876 halos\n",
      "yt : [INFO     ] 2021-04-14 15:38:24,311 Found 2019 galaxies\n",
      "yt : [INFO     ] 2021-04-14 15:38:24,404 Opening /home2/weiguang/data6/G3X_Caesar/NewMDCLUSTER_0110/Caesar_snap_128.hdf5\n",
      "yt : [INFO     ] 2021-04-14 15:38:24,539 Found 2525 halos\n",
      "yt : [INFO     ] 2021-04-14 15:38:24,546 Found 3502 galaxies\n",
      "yt : [INFO     ] 2021-04-14 15:38:24,700 Opening /home2/weiguang/data6/G3X_Caesar/NewMDCLUSTER_0111/Caesar_snap_128.hdf5\n",
      "yt : [INFO     ] 2021-04-14 15:38:24,834 Found 2658 halos\n",
      "yt : [INFO     ] 2021-04-14 15:38:24,841 Found 3262 galaxies\n",
      "yt : [INFO     ] 2021-04-14 15:38:24,986 Opening /home2/weiguang/data6/G3X_Caesar/NewMDCLUSTER_0112/Caesar_snap_128.hdf5\n",
      "yt : [INFO     ] 2021-04-14 15:38:25,123 Found 1652 halos\n",
      "yt : [INFO     ] 2021-04-14 15:38:25,131 Found 1565 galaxies\n",
      "yt : [INFO     ] 2021-04-14 15:38:25,206 Opening /home2/weiguang/data6/G3X_Caesar/NewMDCLUSTER_0113/Caesar_snap_128.hdf5\n",
      "yt : [INFO     ] 2021-04-14 15:38:25,346 Found 1751 halos\n",
      "yt : [INFO     ] 2021-04-14 15:38:25,354 Found 1722 galaxies\n",
      "yt : [INFO     ] 2021-04-14 15:38:25,436 Opening /home2/weiguang/data6/G3X_Caesar/NewMDCLUSTER_0114/Caesar_snap_128.hdf5\n",
      "yt : [INFO     ] 2021-04-14 15:38:25,570 Found 1977 halos\n",
      "yt : [INFO     ] 2021-04-14 15:38:25,578 Found 1956 galaxies\n",
      "yt : [INFO     ] 2021-04-14 15:38:25,669 Opening /home2/weiguang/data6/G3X_Caesar/NewMDCLUSTER_0115/Caesar_snap_128.hdf5\n",
      "yt : [INFO     ] 2021-04-14 15:38:25,803 Found 2146 halos\n",
      "yt : [INFO     ] 2021-04-14 15:38:25,811 Found 2316 galaxies\n",
      "yt : [INFO     ] 2021-04-14 15:38:25,917 Opening /home2/weiguang/data6/G3X_Caesar/NewMDCLUSTER_0116/Caesar_snap_128.hdf5\n",
      "yt : [INFO     ] 2021-04-14 15:38:26,051 Found 1825 halos\n",
      "yt : [INFO     ] 2021-04-14 15:38:26,058 Found 1650 galaxies\n",
      "yt : [INFO     ] 2021-04-14 15:38:26,137 Opening /home2/weiguang/data6/G3X_Caesar/NewMDCLUSTER_0117/Caesar_snap_128.hdf5\n",
      "yt : [INFO     ] 2021-04-14 15:38:26,272 Found 2110 halos\n",
      "yt : [INFO     ] 2021-04-14 15:38:26,279 Found 2598 galaxies\n",
      "yt : [INFO     ] 2021-04-14 15:38:26,397 Opening /home2/weiguang/data6/G3X_Caesar/NewMDCLUSTER_0118/Caesar_snap_128.hdf5\n",
      "yt : [INFO     ] 2021-04-14 15:38:26,531 Found 1643 halos\n",
      "yt : [INFO     ] 2021-04-14 15:38:26,539 Found 1682 galaxies\n",
      "yt : [INFO     ] 2021-04-14 15:38:26,619 Opening /home2/weiguang/data6/G3X_Caesar/NewMDCLUSTER_0119/Caesar_snap_128.hdf5\n",
      "yt : [INFO     ] 2021-04-14 15:38:26,753 Found 1761 halos\n",
      "yt : [INFO     ] 2021-04-14 15:38:26,761 Found 1821 galaxies\n",
      "yt : [INFO     ] 2021-04-14 15:38:26,855 Opening /home2/weiguang/data6/G3X_Caesar/NewMDCLUSTER_0120/Caesar_snap_128.hdf5\n",
      "yt : [INFO     ] 2021-04-14 15:38:26,988 Found 2328 halos\n",
      "yt : [INFO     ] 2021-04-14 15:38:26,997 Found 2521 galaxies\n",
      "yt : [INFO     ] 2021-04-14 15:38:27,112 Opening /home2/weiguang/data6/G3X_Caesar/NewMDCLUSTER_0121/Caesar_snap_128.hdf5\n",
      "yt : [INFO     ] 2021-04-14 15:38:27,247 Found 1762 halos\n",
      "yt : [INFO     ] 2021-04-14 15:38:27,254 Found 1671 galaxies\n",
      "yt : [INFO     ] 2021-04-14 15:38:27,334 Opening /home2/weiguang/data6/G3X_Caesar/NewMDCLUSTER_0122/Caesar_snap_128.hdf5\n",
      "yt : [INFO     ] 2021-04-14 15:38:27,468 Found 1661 halos\n",
      "yt : [INFO     ] 2021-04-14 15:38:27,475 Found 1496 galaxies\n",
      "yt : [INFO     ] 2021-04-14 15:38:27,547 Opening /home2/weiguang/data6/G3X_Caesar/NewMDCLUSTER_0123/Caesar_snap_128.hdf5\n",
      "yt : [INFO     ] 2021-04-14 15:38:27,681 Found 1662 halos\n",
      "yt : [INFO     ] 2021-04-14 15:38:27,690 Found 1541 galaxies\n",
      "yt : [INFO     ] 2021-04-14 15:38:27,764 Opening /home2/weiguang/data6/G3X_Caesar/NewMDCLUSTER_0124/Caesar_snap_128.hdf5\n",
      "yt : [INFO     ] 2021-04-14 15:38:27,899 Found 1696 halos\n",
      "yt : [INFO     ] 2021-04-14 15:38:27,906 Found 1644 galaxies\n",
      "yt : [INFO     ] 2021-04-14 15:38:27,984 Opening /home2/weiguang/data6/G3X_Caesar/NewMDCLUSTER_0125/Caesar_snap_128.hdf5\n",
      "yt : [INFO     ] 2021-04-14 15:38:28,123 Found 1563 halos\n",
      "yt : [INFO     ] 2021-04-14 15:38:28,131 Found 1482 galaxies\n",
      "yt : [INFO     ] 2021-04-14 15:38:28,202 Opening /home2/weiguang/data6/G3X_Caesar/NewMDCLUSTER_0126/Caesar_snap_128.hdf5\n",
      "yt : [INFO     ] 2021-04-14 15:38:28,337 Found 1836 halos\n",
      "yt : [INFO     ] 2021-04-14 15:38:28,344 Found 1800 galaxies\n",
      "yt : [INFO     ] 2021-04-14 15:38:28,429 Opening /home2/weiguang/data6/G3X_Caesar/NewMDCLUSTER_0127/Caesar_snap_128.hdf5\n",
      "yt : [INFO     ] 2021-04-14 15:38:28,562 Found 1748 halos\n",
      "yt : [INFO     ] 2021-04-14 15:38:28,571 Found 1776 galaxies\n",
      "yt : [INFO     ] 2021-04-14 15:38:28,654 Opening /home2/weiguang/data6/G3X_Caesar/NewMDCLUSTER_0128/Caesar_snap_128.hdf5\n",
      "yt : [INFO     ] 2021-04-14 15:38:28,793 Found 1857 halos\n",
      "yt : [INFO     ] 2021-04-14 15:38:28,801 Found 1979 galaxies\n",
      "yt : [INFO     ] 2021-04-14 15:38:28,893 Opening /home2/weiguang/data6/G3X_Caesar/NewMDCLUSTER_0129/Caesar_snap_128.hdf5\n",
      "yt : [INFO     ] 2021-04-14 15:38:29,027 Found 2177 halos\n",
      "yt : [INFO     ] 2021-04-14 15:38:29,034 Found 2383 galaxies\n",
      "yt : [INFO     ] 2021-04-14 15:38:29,143 Opening /home2/weiguang/data6/G3X_Caesar/NewMDCLUSTER_0130/Caesar_snap_128.hdf5\n",
      "yt : [INFO     ] 2021-04-14 15:38:29,278 Found 2237 halos\n",
      "yt : [INFO     ] 2021-04-14 15:38:29,286 Found 2677 galaxies\n",
      "yt : [INFO     ] 2021-04-14 15:38:29,407 Opening /home2/weiguang/data6/G3X_Caesar/NewMDCLUSTER_0131/Caesar_snap_128.hdf5\n",
      "yt : [INFO     ] 2021-04-14 15:38:29,542 Found 1643 halos\n",
      "yt : [INFO     ] 2021-04-14 15:38:29,550 Found 1638 galaxies\n",
      "yt : [INFO     ] 2021-04-14 15:38:29,627 Opening /home2/weiguang/data6/G3X_Caesar/NewMDCLUSTER_0132/Caesar_snap_128.hdf5\n",
      "yt : [INFO     ] 2021-04-14 15:38:29,761 Found 2082 halos\n",
      "yt : [INFO     ] 2021-04-14 15:38:29,770 Found 2061 galaxies\n",
      "yt : [INFO     ] 2021-04-14 15:38:29,866 Opening /home2/weiguang/data6/G3X_Caesar/NewMDCLUSTER_0133/Caesar_snap_128.hdf5\n",
      "yt : [INFO     ] 2021-04-14 15:38:29,999 Found 1771 halos\n",
      "yt : [INFO     ] 2021-04-14 15:38:30,007 Found 1587 galaxies\n",
      "yt : [INFO     ] 2021-04-14 15:38:30,083 Opening /home2/weiguang/data6/G3X_Caesar/NewMDCLUSTER_0134/Caesar_snap_128.hdf5\n",
      "yt : [INFO     ] 2021-04-14 15:38:30,216 Found 2025 halos\n",
      "yt : [INFO     ] 2021-04-14 15:38:30,224 Found 1838 galaxies\n",
      "yt : [INFO     ] 2021-04-14 15:38:39,832 Opening /home2/weiguang/data6/G3X_Caesar/NewMDCLUSTER_0135/Caesar_snap_128.hdf5\n",
      "yt : [INFO     ] 2021-04-14 15:38:39,967 Found 1517 halos\n",
      "yt : [INFO     ] 2021-04-14 15:38:39,974 Found 1395 galaxies\n",
      "yt : [INFO     ] 2021-04-14 15:38:40,051 Opening /home2/weiguang/data6/G3X_Caesar/NewMDCLUSTER_0136/Caesar_snap_128.hdf5\n",
      "yt : [INFO     ] 2021-04-14 15:38:40,185 Found 2129 halos\n",
      "yt : [INFO     ] 2021-04-14 15:38:40,192 Found 2210 galaxies\n",
      "yt : [INFO     ] 2021-04-14 15:38:40,303 Opening /home2/weiguang/data6/G3X_Caesar/NewMDCLUSTER_0137/Caesar_snap_128.hdf5\n",
      "yt : [INFO     ] 2021-04-14 15:38:40,436 Found 2001 halos\n",
      "yt : [INFO     ] 2021-04-14 15:38:40,444 Found 1971 galaxies\n",
      "yt : [INFO     ] 2021-04-14 15:38:40,540 Opening /home2/weiguang/data6/G3X_Caesar/NewMDCLUSTER_0138/Caesar_snap_128.hdf5\n",
      "yt : [INFO     ] 2021-04-14 15:38:40,679 Found 1944 halos\n",
      "yt : [INFO     ] 2021-04-14 15:38:40,686 Found 1824 galaxies\n",
      "yt : [INFO     ] 2021-04-14 15:38:40,775 Opening /home2/weiguang/data6/G3X_Caesar/NewMDCLUSTER_0139/Caesar_snap_128.hdf5\n",
      "yt : [INFO     ] 2021-04-14 15:38:40,908 Found 1736 halos\n",
      "yt : [INFO     ] 2021-04-14 15:38:40,916 Found 1631 galaxies\n",
      "yt : [INFO     ] 2021-04-14 15:38:41,002 Opening /home2/weiguang/data6/G3X_Caesar/NewMDCLUSTER_0140/Caesar_snap_128.hdf5\n",
      "yt : [INFO     ] 2021-04-14 15:38:41,136 Found 1649 halos\n",
      "yt : [INFO     ] 2021-04-14 15:38:41,144 Found 1458 galaxies\n",
      "yt : [INFO     ] 2021-04-14 15:38:41,216 Opening /home2/weiguang/data6/G3X_Caesar/NewMDCLUSTER_0141/Caesar_snap_128.hdf5\n",
      "yt : [INFO     ] 2021-04-14 15:38:41,350 Found 1674 halos\n",
      "yt : [INFO     ] 2021-04-14 15:38:41,358 Found 1565 galaxies\n",
      "yt : [INFO     ] 2021-04-14 15:38:41,435 Opening /home2/weiguang/data6/G3X_Caesar/NewMDCLUSTER_0142/Caesar_snap_128.hdf5\n",
      "yt : [INFO     ] 2021-04-14 15:38:41,568 Found 2575 halos\n",
      "yt : [INFO     ] 2021-04-14 15:38:41,576 Found 3141 galaxies\n",
      "yt : [INFO     ] 2021-04-14 15:38:41,718 Opening /home2/weiguang/data6/G3X_Caesar/NewMDCLUSTER_0143/Caesar_snap_128.hdf5\n",
      "yt : [INFO     ] 2021-04-14 15:38:41,851 Found 1560 halos\n",
      "yt : [INFO     ] 2021-04-14 15:38:41,859 Found 1478 galaxies\n",
      "yt : [INFO     ] 2021-04-14 15:38:41,932 Opening /home2/weiguang/data6/G3X_Caesar/NewMDCLUSTER_0144/Caesar_snap_128.hdf5\n",
      "yt : [INFO     ] 2021-04-14 15:38:42,066 Found 1945 halos\n",
      "yt : [INFO     ] 2021-04-14 15:38:42,075 Found 2020 galaxies\n",
      "yt : [INFO     ] 2021-04-14 15:38:42,169 Opening /home2/weiguang/data6/G3X_Caesar/NewMDCLUSTER_0145/Caesar_snap_128.hdf5\n",
      "yt : [INFO     ] 2021-04-14 15:38:42,302 Found 2131 halos\n",
      "yt : [INFO     ] 2021-04-14 15:38:42,310 Found 2227 galaxies\n",
      "yt : [INFO     ] 2021-04-14 15:38:42,419 Opening /home2/weiguang/data6/G3X_Caesar/NewMDCLUSTER_0146/Caesar_snap_128.hdf5\n",
      "yt : [INFO     ] 2021-04-14 15:38:42,554 Found 1703 halos\n",
      "yt : [INFO     ] 2021-04-14 15:38:42,563 Found 1630 galaxies\n",
      "yt : [INFO     ] 2021-04-14 15:38:42,641 Opening /home2/weiguang/data6/G3X_Caesar/NewMDCLUSTER_0147/Caesar_snap_128.hdf5\n",
      "yt : [INFO     ] 2021-04-14 15:38:42,775 Found 1974 halos\n",
      "yt : [INFO     ] 2021-04-14 15:38:42,782 Found 1981 galaxies\n",
      "yt : [INFO     ] 2021-04-14 15:38:42,875 Opening /home2/weiguang/data6/G3X_Caesar/NewMDCLUSTER_0148/Caesar_snap_128.hdf5\n",
      "yt : [INFO     ] 2021-04-14 15:38:43,008 Found 1592 halos\n",
      "yt : [INFO     ] 2021-04-14 15:38:43,016 Found 1443 galaxies\n",
      "yt : [INFO     ] 2021-04-14 15:38:43,087 Opening /home2/weiguang/data6/G3X_Caesar/NewMDCLUSTER_0149/Caesar_snap_128.hdf5\n",
      "yt : [INFO     ] 2021-04-14 15:38:43,220 Found 2153 halos\n",
      "yt : [INFO     ] 2021-04-14 15:38:43,227 Found 2474 galaxies\n",
      "yt : [INFO     ] 2021-04-14 15:38:43,340 Opening /home2/weiguang/data6/G3X_Caesar/NewMDCLUSTER_0150/Caesar_snap_128.hdf5\n",
      "yt : [INFO     ] 2021-04-14 15:38:43,474 Found 1902 halos\n",
      "yt : [INFO     ] 2021-04-14 15:38:43,483 Found 1828 galaxies\n",
      "yt : [INFO     ] 2021-04-14 15:38:43,568 Opening /home2/weiguang/data6/G3X_Caesar/NewMDCLUSTER_0151/Caesar_snap_128.hdf5\n",
      "yt : [INFO     ] 2021-04-14 15:38:43,702 Found 1885 halos\n",
      "yt : [INFO     ] 2021-04-14 15:38:43,710 Found 2020 galaxies\n",
      "yt : [INFO     ] 2021-04-14 15:38:43,804 Opening /home2/weiguang/data6/G3X_Caesar/NewMDCLUSTER_0152/Caesar_snap_128.hdf5\n",
      "yt : [INFO     ] 2021-04-14 15:38:43,939 Found 2172 halos\n",
      "yt : [INFO     ] 2021-04-14 15:38:43,946 Found 2303 galaxies\n",
      "yt : [INFO     ] 2021-04-14 15:38:44,052 Opening /home2/weiguang/data6/G3X_Caesar/NewMDCLUSTER_0153/Caesar_snap_128.hdf5\n",
      "yt : [INFO     ] 2021-04-14 15:38:44,191 Found 2471 halos\n",
      "yt : [INFO     ] 2021-04-14 15:38:44,199 Found 2795 galaxies\n",
      "yt : [INFO     ] 2021-04-14 15:38:44,325 Opening /home2/weiguang/data6/G3X_Caesar/NewMDCLUSTER_0154/Caesar_snap_128.hdf5\n",
      "yt : [INFO     ] 2021-04-14 15:38:44,459 Found 1885 halos\n",
      "yt : [INFO     ] 2021-04-14 15:38:44,467 Found 1694 galaxies\n",
      "yt : [INFO     ] 2021-04-14 15:38:44,548 Opening /home2/weiguang/data6/G3X_Caesar/NewMDCLUSTER_0155/Caesar_snap_128.hdf5\n",
      "yt : [INFO     ] 2021-04-14 15:38:44,682 Found 1729 halos\n",
      "yt : [INFO     ] 2021-04-14 15:38:44,689 Found 1566 galaxies\n",
      "yt : [INFO     ] 2021-04-14 15:38:44,764 Opening /home2/weiguang/data6/G3X_Caesar/NewMDCLUSTER_0156/Caesar_snap_128.hdf5\n",
      "yt : [INFO     ] 2021-04-14 15:38:44,898 Found 1814 halos\n",
      "yt : [INFO     ] 2021-04-14 15:38:44,905 Found 1860 galaxies\n",
      "yt : [INFO     ] 2021-04-14 15:38:44,994 Opening /home2/weiguang/data6/G3X_Caesar/NewMDCLUSTER_0157/Caesar_snap_128.hdf5\n",
      "yt : [INFO     ] 2021-04-14 15:38:45,127 Found 2023 halos\n",
      "yt : [INFO     ] 2021-04-14 15:38:45,135 Found 2001 galaxies\n",
      "yt : [INFO     ] 2021-04-14 15:38:45,228 Opening /home2/weiguang/data6/G3X_Caesar/NewMDCLUSTER_0158/Caesar_snap_128.hdf5\n",
      "yt : [INFO     ] 2021-04-14 15:38:45,362 Found 2065 halos\n",
      "yt : [INFO     ] 2021-04-14 15:38:45,371 Found 2155 galaxies\n",
      "yt : [INFO     ] 2021-04-14 15:38:45,469 Opening /home2/weiguang/data6/G3X_Caesar/NewMDCLUSTER_0159/Caesar_snap_128.hdf5\n",
      "yt : [INFO     ] 2021-04-14 15:38:45,603 Found 2196 halos\n",
      "yt : [INFO     ] 2021-04-14 15:38:45,610 Found 2215 galaxies\n",
      "yt : [INFO     ] 2021-04-14 15:38:45,717 Opening /home2/weiguang/data6/G3X_Caesar/NewMDCLUSTER_0160/Caesar_snap_128.hdf5\n",
      "yt : [INFO     ] 2021-04-14 15:38:45,851 Found 1973 halos\n",
      "yt : [INFO     ] 2021-04-14 15:38:45,859 Found 2100 galaxies\n",
      "yt : [INFO     ] 2021-04-14 15:38:45,962 Opening /home2/weiguang/data6/G3X_Caesar/NewMDCLUSTER_0161/Caesar_snap_128.hdf5\n",
      "yt : [INFO     ] 2021-04-14 15:38:46,095 Found 1866 halos\n",
      "yt : [INFO     ] 2021-04-14 15:38:46,102 Found 1868 galaxies\n",
      "yt : [INFO     ] 2021-04-14 15:38:46,190 Opening /home2/weiguang/data6/G3X_Caesar/NewMDCLUSTER_0162/Caesar_snap_128.hdf5\n",
      "yt : [INFO     ] 2021-04-14 15:38:46,323 Found 2352 halos\n",
      "yt : [INFO     ] 2021-04-14 15:38:46,331 Found 2705 galaxies\n",
      "yt : [INFO     ] 2021-04-14 15:38:46,451 Opening /home2/weiguang/data6/G3X_Caesar/NewMDCLUSTER_0163/Caesar_snap_128.hdf5\n",
      "yt : [INFO     ] 2021-04-14 15:38:46,585 Found 2321 halos\n",
      "yt : [INFO     ] 2021-04-14 15:38:46,594 Found 2734 galaxies\n",
      "yt : [INFO     ] 2021-04-14 15:38:46,716 Opening /home2/weiguang/data6/G3X_Caesar/NewMDCLUSTER_0164/Caesar_snap_128.hdf5\n",
      "yt : [INFO     ] 2021-04-14 15:38:46,850 Found 1832 halos\n",
      "yt : [INFO     ] 2021-04-14 15:38:46,857 Found 1702 galaxies\n",
      "yt : [INFO     ] 2021-04-14 15:38:46,938 Opening /home2/weiguang/data6/G3X_Caesar/NewMDCLUSTER_0165/Caesar_snap_128.hdf5\n",
      "yt : [INFO     ] 2021-04-14 15:38:47,071 Found 1792 halos\n",
      "yt : [INFO     ] 2021-04-14 15:38:47,079 Found 1623 galaxies\n",
      "yt : [INFO     ] 2021-04-14 15:38:47,155 Opening /home2/weiguang/data6/G3X_Caesar/NewMDCLUSTER_0166/Caesar_snap_128.hdf5\n",
      "yt : [INFO     ] 2021-04-14 15:38:47,289 Found 1532 halos\n",
      "yt : [INFO     ] 2021-04-14 15:38:47,297 Found 1354 galaxies\n",
      "yt : [INFO     ] 2021-04-14 15:38:47,363 Opening /home2/weiguang/data6/G3X_Caesar/NewMDCLUSTER_0167/Caesar_snap_128.hdf5\n",
      "yt : [INFO     ] 2021-04-14 15:38:47,496 Found 2037 halos\n",
      "yt : [INFO     ] 2021-04-14 15:38:47,503 Found 2138 galaxies\n",
      "yt : [INFO     ] 2021-04-14 15:38:47,602 Opening /home2/weiguang/data6/G3X_Caesar/NewMDCLUSTER_0168/Caesar_snap_128.hdf5\n",
      "yt : [INFO     ] 2021-04-14 15:38:47,741 Found 2235 halos\n",
      "yt : [INFO     ] 2021-04-14 15:38:47,750 Found 2635 galaxies\n",
      "yt : [INFO     ] 2021-04-14 15:38:47,870 Opening /home2/weiguang/data6/G3X_Caesar/NewMDCLUSTER_0169/Caesar_snap_128.hdf5\n",
      "yt : [INFO     ] 2021-04-14 15:38:48,004 Found 1761 halos\n",
      "yt : [INFO     ] 2021-04-14 15:38:48,012 Found 1882 galaxies\n",
      "yt : [INFO     ] 2021-04-14 15:38:48,101 Opening /home2/weiguang/data6/G3X_Caesar/NewMDCLUSTER_0170/Caesar_snap_128.hdf5\n",
      "yt : [INFO     ] 2021-04-14 15:38:48,236 Found 1926 halos\n",
      "yt : [INFO     ] 2021-04-14 15:38:48,244 Found 2057 galaxies\n",
      "yt : [INFO     ] 2021-04-14 15:38:48,339 Opening /home2/weiguang/data6/G3X_Caesar/NewMDCLUSTER_0171/Caesar_snap_128.hdf5\n",
      "yt : [INFO     ] 2021-04-14 15:38:48,473 Found 1947 halos\n",
      "yt : [INFO     ] 2021-04-14 15:38:48,481 Found 2126 galaxies\n",
      "yt : [INFO     ] 2021-04-14 15:38:48,579 Opening /home2/weiguang/data6/G3X_Caesar/NewMDCLUSTER_0172/Caesar_snap_128.hdf5\n",
      "yt : [INFO     ] 2021-04-14 15:38:48,712 Found 2077 halos\n",
      "yt : [INFO     ] 2021-04-14 15:38:48,719 Found 2111 galaxies\n",
      "yt : [INFO     ] 2021-04-14 15:38:48,817 Opening /home2/weiguang/data6/G3X_Caesar/NewMDCLUSTER_0173/Caesar_snap_128.hdf5\n",
      "yt : [INFO     ] 2021-04-14 15:38:48,951 Found 1780 halos\n",
      "yt : [INFO     ] 2021-04-14 15:38:48,960 Found 1611 galaxies\n",
      "yt : [INFO     ] 2021-04-14 15:38:49,037 Opening /home2/weiguang/data6/G3X_Caesar/NewMDCLUSTER_0174/Caesar_snap_128.hdf5\n",
      "yt : [INFO     ] 2021-04-14 15:38:49,171 Found 2678 halos\n",
      "yt : [INFO     ] 2021-04-14 15:38:49,178 Found 3433 galaxies\n",
      "yt : [INFO     ] 2021-04-14 15:38:49,330 Opening /home2/weiguang/data6/G3X_Caesar/NewMDCLUSTER_0175/Caesar_snap_128.hdf5\n",
      "yt : [INFO     ] 2021-04-14 15:38:49,464 Found 2464 halos\n",
      "yt : [INFO     ] 2021-04-14 15:38:49,472 Found 2928 galaxies\n",
      "yt : [INFO     ] 2021-04-14 15:38:49,603 Opening /home2/weiguang/data6/G3X_Caesar/NewMDCLUSTER_0176/Caesar_snap_128.hdf5\n",
      "yt : [INFO     ] 2021-04-14 15:38:49,736 Found 1590 halos\n",
      "yt : [INFO     ] 2021-04-14 15:38:49,743 Found 1456 galaxies\n",
      "yt : [INFO     ] 2021-04-14 15:38:49,814 Opening /home2/weiguang/data6/G3X_Caesar/NewMDCLUSTER_0177/Caesar_snap_128.hdf5\n",
      "yt : [INFO     ] 2021-04-14 15:38:49,947 Found 1962 halos\n",
      "yt : [INFO     ] 2021-04-14 15:38:49,955 Found 2022 galaxies\n",
      "yt : [INFO     ] 2021-04-14 15:38:50,049 Opening /home2/weiguang/data6/G3X_Caesar/NewMDCLUSTER_0178/Caesar_snap_128.hdf5\n",
      "yt : [INFO     ] 2021-04-14 15:38:50,182 Found 1828 halos\n",
      "yt : [INFO     ] 2021-04-14 15:38:50,191 Found 1687 galaxies\n",
      "yt : [INFO     ] 2021-04-14 15:38:50,270 Opening /home2/weiguang/data6/G3X_Caesar/NewMDCLUSTER_0179/Caesar_snap_128.hdf5\n",
      "yt : [INFO     ] 2021-04-14 15:38:50,404 Found 1550 halos\n",
      "yt : [INFO     ] 2021-04-14 15:38:50,411 Found 1410 galaxies\n",
      "yt : [INFO     ] 2021-04-14 15:38:50,480 Opening /home2/weiguang/data6/G3X_Caesar/NewMDCLUSTER_0180/Caesar_snap_128.hdf5\n",
      "yt : [INFO     ] 2021-04-14 15:38:50,613 Found 2017 halos\n",
      "yt : [INFO     ] 2021-04-14 15:38:50,621 Found 1974 galaxies\n",
      "yt : [INFO     ] 2021-04-14 15:38:50,714 Opening /home2/weiguang/data6/G3X_Caesar/NewMDCLUSTER_0181/Caesar_snap_128.hdf5\n",
      "yt : [INFO     ] 2021-04-14 15:38:50,848 Found 1319 halos\n",
      "yt : [INFO     ] 2021-04-14 15:38:50,856 Found 1132 galaxies\n",
      "yt : [INFO     ] 2021-04-14 15:38:50,913 Opening /home2/weiguang/data6/G3X_Caesar/NewMDCLUSTER_0182/Caesar_snap_128.hdf5\n",
      "yt : [INFO     ] 2021-04-14 15:38:51,047 Found 1992 halos\n",
      "yt : [INFO     ] 2021-04-14 15:38:51,055 Found 1918 galaxies\n",
      "yt : [INFO     ] 2021-04-14 15:38:51,145 Opening /home2/weiguang/data6/G3X_Caesar/NewMDCLUSTER_0183/Caesar_snap_128.hdf5\n",
      "yt : [INFO     ] 2021-04-14 15:38:51,287 Found 1728 halos\n",
      "yt : [INFO     ] 2021-04-14 15:38:51,295 Found 1661 galaxies\n",
      "yt : [INFO     ] 2021-04-14 15:38:51,374 Opening /home2/weiguang/data6/G3X_Caesar/NewMDCLUSTER_0184/Caesar_snap_128.hdf5\n",
      "yt : [INFO     ] 2021-04-14 15:38:51,508 Found 1676 halos\n",
      "yt : [INFO     ] 2021-04-14 15:38:51,516 Found 1673 galaxies\n",
      "yt : [INFO     ] 2021-04-14 15:38:51,596 Opening /home2/weiguang/data6/G3X_Caesar/NewMDCLUSTER_0185/Caesar_snap_128.hdf5\n",
      "yt : [INFO     ] 2021-04-14 15:38:51,729 Found 1955 halos\n",
      "yt : [INFO     ] 2021-04-14 15:38:51,736 Found 2161 galaxies\n",
      "yt : [INFO     ] 2021-04-14 15:38:51,837 Opening /home2/weiguang/data6/G3X_Caesar/NewMDCLUSTER_0186/Caesar_snap_128.hdf5\n",
      "yt : [INFO     ] 2021-04-14 15:38:51,970 Found 1674 halos\n",
      "yt : [INFO     ] 2021-04-14 15:38:51,977 Found 1565 galaxies\n",
      "yt : [INFO     ] 2021-04-14 15:38:52,051 Opening /home2/weiguang/data6/G3X_Caesar/NewMDCLUSTER_0187/Caesar_snap_128.hdf5\n",
      "yt : [INFO     ] 2021-04-14 15:38:52,184 Found 1711 halos\n",
      "yt : [INFO     ] 2021-04-14 15:38:52,192 Found 1515 galaxies\n",
      "yt : [INFO     ] 2021-04-14 15:38:52,265 Opening /home2/weiguang/data6/G3X_Caesar/NewMDCLUSTER_0188/Caesar_snap_128.hdf5\n",
      "yt : [INFO     ] 2021-04-14 15:38:52,398 Found 1938 halos\n",
      "yt : [INFO     ] 2021-04-14 15:38:52,405 Found 2225 galaxies\n",
      "yt : [INFO     ] 2021-04-14 15:38:52,509 Opening /home2/weiguang/data6/G3X_Caesar/NewMDCLUSTER_0189/Caesar_snap_128.hdf5\n",
      "yt : [INFO     ] 2021-04-14 15:38:52,643 Found 1981 halos\n",
      "yt : [INFO     ] 2021-04-14 15:38:52,650 Found 1954 galaxies\n",
      "yt : [INFO     ] 2021-04-14 15:38:52,741 Opening /home2/weiguang/data6/G3X_Caesar/NewMDCLUSTER_0190/Caesar_snap_128.hdf5\n",
      "yt : [INFO     ] 2021-04-14 15:38:52,875 Found 1857 halos\n",
      "yt : [INFO     ] 2021-04-14 15:38:52,882 Found 1874 galaxies\n",
      "yt : [INFO     ] 2021-04-14 15:38:52,970 Opening /home2/weiguang/data6/G3X_Caesar/NewMDCLUSTER_0191/Caesar_snap_128.hdf5\n",
      "yt : [INFO     ] 2021-04-14 15:38:53,103 Found 1985 halos\n",
      "yt : [INFO     ] 2021-04-14 15:38:53,111 Found 1856 galaxies\n",
      "yt : [INFO     ] 2021-04-14 15:38:53,198 Opening /home2/weiguang/data6/G3X_Caesar/NewMDCLUSTER_0192/Caesar_snap_128.hdf5\n",
      "yt : [INFO     ] 2021-04-14 15:38:53,331 Found 1941 halos\n",
      "yt : [INFO     ] 2021-04-14 15:38:53,339 Found 1985 galaxies\n",
      "yt : [INFO     ] 2021-04-14 15:38:53,432 Opening /home2/weiguang/data6/G3X_Caesar/NewMDCLUSTER_0193/Caesar_snap_128.hdf5\n",
      "yt : [INFO     ] 2021-04-14 15:38:53,566 Found 2041 halos\n",
      "yt : [INFO     ] 2021-04-14 15:38:53,574 Found 2047 galaxies\n",
      "yt : [INFO     ] 2021-04-14 15:38:53,670 Opening /home2/weiguang/data6/G3X_Caesar/NewMDCLUSTER_0194/Caesar_snap_128.hdf5\n",
      "yt : [INFO     ] 2021-04-14 15:38:53,804 Found 1573 halos\n",
      "yt : [INFO     ] 2021-04-14 15:38:53,812 Found 1681 galaxies\n",
      "yt : [INFO     ] 2021-04-14 15:38:53,892 Opening /home2/weiguang/data6/G3X_Caesar/NewMDCLUSTER_0195/Caesar_snap_128.hdf5\n",
      "yt : [INFO     ] 2021-04-14 15:38:54,025 Found 2234 halos\n",
      "yt : [INFO     ] 2021-04-14 15:38:54,032 Found 2183 galaxies\n",
      "yt : [INFO     ] 2021-04-14 15:38:54,134 Opening /home2/weiguang/data6/G3X_Caesar/NewMDCLUSTER_0196/Caesar_snap_128.hdf5\n",
      "yt : [INFO     ] 2021-04-14 15:38:54,268 Found 1720 halos\n",
      "yt : [INFO     ] 2021-04-14 15:38:54,276 Found 1819 galaxies\n",
      "yt : [INFO     ] 2021-04-14 15:38:54,362 Opening /home2/weiguang/data6/G3X_Caesar/NewMDCLUSTER_0197/Caesar_snap_128.hdf5\n",
      "yt : [INFO     ] 2021-04-14 15:38:54,497 Found 1969 halos\n",
      "yt : [INFO     ] 2021-04-14 15:38:54,504 Found 2303 galaxies\n",
      "yt : [INFO     ] 2021-04-14 15:38:54,610 Opening /home2/weiguang/data6/G3X_Caesar/NewMDCLUSTER_0198/Caesar_snap_128.hdf5\n",
      "yt : [INFO     ] 2021-04-14 15:38:54,748 Found 1913 halos\n",
      "yt : [INFO     ] 2021-04-14 15:38:54,756 Found 1943 galaxies\n",
      "yt : [INFO     ] 2021-04-14 15:38:54,849 Opening /home2/weiguang/data6/G3X_Caesar/NewMDCLUSTER_0199/Caesar_snap_128.hdf5\n",
      "yt : [INFO     ] 2021-04-14 15:38:54,984 Found 1755 halos\n",
      "yt : [INFO     ] 2021-04-14 15:38:54,993 Found 1664 galaxies\n",
      "yt : [INFO     ] 2021-04-14 15:38:55,072 Opening /home2/weiguang/data6/G3X_Caesar/NewMDCLUSTER_0200/Caesar_snap_128.hdf5\n",
      "yt : [INFO     ] 2021-04-14 15:38:55,206 Found 1730 halos\n",
      "yt : [INFO     ] 2021-04-14 15:38:55,214 Found 1803 galaxies\n",
      "yt : [INFO     ] 2021-04-14 15:38:55,299 Opening /home2/weiguang/data6/G3X_Caesar/NewMDCLUSTER_0201/Caesar_snap_128.hdf5\n",
      "yt : [INFO     ] 2021-04-14 15:38:55,433 Found 1751 halos\n",
      "yt : [INFO     ] 2021-04-14 15:38:55,440 Found 1736 galaxies\n",
      "yt : [INFO     ] 2021-04-14 15:38:55,521 Opening /home2/weiguang/data6/G3X_Caesar/NewMDCLUSTER_0202/Caesar_snap_128.hdf5\n",
      "yt : [INFO     ] 2021-04-14 15:38:55,658 Found 2099 halos\n",
      "yt : [INFO     ] 2021-04-14 15:38:55,666 Found 2142 galaxies\n",
      "yt : [INFO     ] 2021-04-14 15:38:55,765 Opening /home2/weiguang/data6/G3X_Caesar/NewMDCLUSTER_0203/Caesar_snap_128.hdf5\n",
      "yt : [INFO     ] 2021-04-14 15:38:55,898 Found 1766 halos\n",
      "yt : [INFO     ] 2021-04-14 15:38:55,905 Found 1534 galaxies\n",
      "yt : [INFO     ] 2021-04-14 15:38:55,979 Opening /home2/weiguang/data6/G3X_Caesar/NewMDCLUSTER_0204/Caesar_snap_128.hdf5\n",
      "yt : [INFO     ] 2021-04-14 15:38:56,113 Found 1950 halos\n",
      "yt : [INFO     ] 2021-04-14 15:38:56,122 Found 1925 galaxies\n",
      "yt : [INFO     ] 2021-04-14 15:38:56,212 Opening /home2/weiguang/data6/G3X_Caesar/NewMDCLUSTER_0205/Caesar_snap_128.hdf5\n",
      "yt : [INFO     ] 2021-04-14 15:38:56,345 Found 2003 halos\n",
      "yt : [INFO     ] 2021-04-14 15:38:56,354 Found 2095 galaxies\n",
      "yt : [INFO     ] 2021-04-14 15:38:56,450 Opening /home2/weiguang/data6/G3X_Caesar/NewMDCLUSTER_0206/Caesar_snap_128.hdf5\n",
      "yt : [INFO     ] 2021-04-14 15:38:56,583 Found 2058 halos\n",
      "yt : [INFO     ] 2021-04-14 15:38:56,591 Found 2207 galaxies\n",
      "yt : [INFO     ] 2021-04-14 15:38:56,693 Opening /home2/weiguang/data6/G3X_Caesar/NewMDCLUSTER_0207/Caesar_snap_128.hdf5\n",
      "yt : [INFO     ] 2021-04-14 15:38:56,827 Found 1811 halos\n",
      "yt : [INFO     ] 2021-04-14 15:38:56,835 Found 1717 galaxies\n",
      "yt : [INFO     ] 2021-04-14 15:38:56,916 Opening /home2/weiguang/data6/G3X_Caesar/NewMDCLUSTER_0208/Caesar_snap_128.hdf5\n",
      "yt : [INFO     ] 2021-04-14 15:38:57,055 Found 2174 halos\n",
      "yt : [INFO     ] 2021-04-14 15:38:57,063 Found 2415 galaxies\n",
      "yt : [INFO     ] 2021-04-14 15:38:57,173 Opening /home2/weiguang/data6/G3X_Caesar/NewMDCLUSTER_0209/Caesar_snap_128.hdf5\n",
      "yt : [INFO     ] 2021-04-14 15:38:57,307 Found 1682 halos\n",
      "yt : [INFO     ] 2021-04-14 15:38:57,314 Found 1593 galaxies\n",
      "yt : [INFO     ] 2021-04-14 15:38:57,392 Opening /home2/weiguang/data6/G3X_Caesar/NewMDCLUSTER_0210/Caesar_snap_128.hdf5\n",
      "yt : [INFO     ] 2021-04-14 15:38:57,525 Found 1522 halos\n",
      "yt : [INFO     ] 2021-04-14 15:38:57,532 Found 1280 galaxies\n",
      "yt : [INFO     ] 2021-04-14 15:38:57,595 Opening /home2/weiguang/data6/G3X_Caesar/NewMDCLUSTER_0211/Caesar_snap_128.hdf5\n",
      "yt : [INFO     ] 2021-04-14 15:38:57,734 Found 1980 halos\n",
      "yt : [INFO     ] 2021-04-14 15:38:57,743 Found 2045 galaxies\n",
      "yt : [INFO     ] 2021-04-14 15:38:57,838 Opening /home2/weiguang/data6/G3X_Caesar/NewMDCLUSTER_0212/Caesar_snap_128.hdf5\n",
      "yt : [INFO     ] 2021-04-14 15:38:57,971 Found 1745 halos\n",
      "yt : [INFO     ] 2021-04-14 15:38:57,978 Found 1559 galaxies\n",
      "yt : [INFO     ] 2021-04-14 15:38:58,054 Opening /home2/weiguang/data6/G3X_Caesar/NewMDCLUSTER_0213/Caesar_snap_128.hdf5\n",
      "yt : [INFO     ] 2021-04-14 15:38:58,191 Found 2627 halos\n",
      "yt : [INFO     ] 2021-04-14 15:38:58,198 Found 2963 galaxies\n",
      "yt : [INFO     ] 2021-04-14 15:38:58,332 Opening /home2/weiguang/data6/G3X_Caesar/NewMDCLUSTER_0214/Caesar_snap_128.hdf5\n",
      "yt : [INFO     ] 2021-04-14 15:38:58,467 Found 2040 halos\n",
      "yt : [INFO     ] 2021-04-14 15:38:58,474 Found 2253 galaxies\n",
      "yt : [INFO     ] 2021-04-14 15:38:58,579 Opening /home2/weiguang/data6/G3X_Caesar/NewMDCLUSTER_0215/Caesar_snap_128.hdf5\n",
      "yt : [INFO     ] 2021-04-14 15:38:58,713 Found 1796 halos\n",
      "yt : [INFO     ] 2021-04-14 15:38:58,721 Found 1610 galaxies\n",
      "yt : [INFO     ] 2021-04-14 15:38:58,799 Opening /home2/weiguang/data6/G3X_Caesar/NewMDCLUSTER_0216/Caesar_snap_128.hdf5\n",
      "yt : [INFO     ] 2021-04-14 15:38:58,933 Found 1763 halos\n",
      "yt : [INFO     ] 2021-04-14 15:38:58,942 Found 1675 galaxies\n",
      "yt : [INFO     ] 2021-04-14 15:38:59,021 Opening /home2/weiguang/data6/G3X_Caesar/NewMDCLUSTER_0217/Caesar_snap_128.hdf5\n",
      "yt : [INFO     ] 2021-04-14 15:38:59,155 Found 1937 halos\n",
      "yt : [INFO     ] 2021-04-14 15:38:59,162 Found 2079 galaxies\n",
      "yt : [INFO     ] 2021-04-14 15:38:59,259 Opening /home2/weiguang/data6/G3X_Caesar/NewMDCLUSTER_0218/Caesar_snap_128.hdf5\n",
      "yt : [INFO     ] 2021-04-14 15:38:59,393 Found 1736 halos\n",
      "yt : [INFO     ] 2021-04-14 15:38:59,401 Found 1620 galaxies\n",
      "yt : [INFO     ] 2021-04-14 15:38:59,479 Opening /home2/weiguang/data6/G3X_Caesar/NewMDCLUSTER_0219/Caesar_snap_128.hdf5\n",
      "yt : [INFO     ] 2021-04-14 15:38:59,613 Found 1942 halos\n",
      "yt : [INFO     ] 2021-04-14 15:38:59,620 Found 2072 galaxies\n",
      "yt : [INFO     ] 2021-04-14 15:38:59,716 Opening /home2/weiguang/data6/G3X_Caesar/NewMDCLUSTER_0220/Caesar_snap_128.hdf5\n",
      "yt : [INFO     ] 2021-04-14 15:38:59,850 Found 1610 halos\n",
      "yt : [INFO     ] 2021-04-14 15:38:59,858 Found 1631 galaxies\n",
      "yt : [INFO     ] 2021-04-14 15:38:59,937 Opening /home2/weiguang/data6/G3X_Caesar/NewMDCLUSTER_0221/Caesar_snap_128.hdf5\n",
      "yt : [INFO     ] 2021-04-14 15:39:00,071 Found 2017 halos\n",
      "yt : [INFO     ] 2021-04-14 15:39:00,078 Found 2076 galaxies\n",
      "yt : [INFO     ] 2021-04-14 15:39:00,176 Opening /home2/weiguang/data6/G3X_Caesar/NewMDCLUSTER_0222/Caesar_snap_128.hdf5\n",
      "yt : [INFO     ] 2021-04-14 15:39:00,309 Found 1879 halos\n",
      "yt : [INFO     ] 2021-04-14 15:39:00,317 Found 1843 galaxies\n",
      "yt : [INFO     ] 2021-04-14 15:39:00,404 Opening /home2/weiguang/data6/G3X_Caesar/NewMDCLUSTER_0223/Caesar_snap_128.hdf5\n",
      "yt : [INFO     ] 2021-04-14 15:39:00,537 Found 2084 halos\n",
      "yt : [INFO     ] 2021-04-14 15:39:00,545 Found 2307 galaxies\n",
      "yt : [INFO     ] 2021-04-14 15:39:00,652 Opening /home2/weiguang/data6/G3X_Caesar/NewMDCLUSTER_0224/Caesar_snap_128.hdf5\n",
      "yt : [INFO     ] 2021-04-14 15:39:00,786 Found 1887 halos\n",
      "yt : [INFO     ] 2021-04-14 15:39:00,793 Found 1877 galaxies\n",
      "yt : [INFO     ] 2021-04-14 15:39:00,882 Opening /home2/weiguang/data6/G3X_Caesar/NewMDCLUSTER_0225/Caesar_snap_128.hdf5\n",
      "yt : [INFO     ] 2021-04-14 15:39:01,015 Found 1493 halos\n",
      "yt : [INFO     ] 2021-04-14 15:39:01,023 Found 1456 galaxies\n",
      "yt : [INFO     ] 2021-04-14 15:39:01,094 Opening /home2/weiguang/data6/G3X_Caesar/NewMDCLUSTER_0226/Caesar_snap_128.hdf5\n",
      "yt : [INFO     ] 2021-04-14 15:39:01,226 Found 2157 halos\n",
      "yt : [INFO     ] 2021-04-14 15:39:01,234 Found 2284 galaxies\n",
      "yt : [INFO     ] 2021-04-14 15:39:01,339 Opening /home2/weiguang/data6/G3X_Caesar/NewMDCLUSTER_0227/Caesar_snap_128.hdf5\n",
      "yt : [INFO     ] 2021-04-14 15:39:01,477 Found 1717 halos\n",
      "yt : [INFO     ] 2021-04-14 15:39:01,485 Found 1745 galaxies\n",
      "yt : [INFO     ] 2021-04-14 15:39:01,568 Opening /home2/weiguang/data6/G3X_Caesar/NewMDCLUSTER_0228/Caesar_snap_128.hdf5\n",
      "yt : [INFO     ] 2021-04-14 15:39:01,701 Found 1611 halos\n",
      "yt : [INFO     ] 2021-04-14 15:39:01,709 Found 1552 galaxies\n",
      "yt : [INFO     ] 2021-04-14 15:39:01,784 Opening /home2/weiguang/data6/G3X_Caesar/NewMDCLUSTER_0229/Caesar_snap_128.hdf5\n",
      "yt : [INFO     ] 2021-04-14 15:39:01,918 Found 1380 halos\n",
      "yt : [INFO     ] 2021-04-14 15:39:01,925 Found 1289 galaxies\n",
      "yt : [INFO     ] 2021-04-14 15:39:01,990 Opening /home2/weiguang/data6/G3X_Caesar/NewMDCLUSTER_0230/Caesar_snap_128.hdf5\n",
      "yt : [INFO     ] 2021-04-14 15:39:02,124 Found 1475 halos\n",
      "yt : [INFO     ] 2021-04-14 15:39:02,131 Found 1503 galaxies\n",
      "yt : [INFO     ] 2021-04-14 15:39:02,211 Opening /home2/weiguang/data6/G3X_Caesar/NewMDCLUSTER_0231/Caesar_snap_128.hdf5\n",
      "yt : [INFO     ] 2021-04-14 15:39:02,343 Found 2436 halos\n",
      "yt : [INFO     ] 2021-04-14 15:39:02,351 Found 2768 galaxies\n",
      "yt : [INFO     ] 2021-04-14 15:39:02,476 Opening /home2/weiguang/data6/G3X_Caesar/NewMDCLUSTER_0232/Caesar_snap_128.hdf5\n",
      "yt : [INFO     ] 2021-04-14 15:39:02,609 Found 2186 halos\n",
      "yt : [INFO     ] 2021-04-14 15:39:02,617 Found 2410 galaxies\n",
      "yt : [INFO     ] 2021-04-14 15:39:02,727 Opening /home2/weiguang/data6/G3X_Caesar/NewMDCLUSTER_0233/Caesar_snap_128.hdf5\n",
      "yt : [INFO     ] 2021-04-14 15:39:02,860 Found 1842 halos\n",
      "yt : [INFO     ] 2021-04-14 15:39:02,868 Found 1686 galaxies\n",
      "yt : [INFO     ] 2021-04-14 15:39:02,948 Opening /home2/weiguang/data6/G3X_Caesar/NewMDCLUSTER_0234/Caesar_snap_128.hdf5\n",
      "yt : [INFO     ] 2021-04-14 15:39:03,082 Found 1793 halos\n",
      "yt : [INFO     ] 2021-04-14 15:39:03,091 Found 1713 galaxies\n",
      "yt : [INFO     ] 2021-04-14 15:39:03,173 Opening /home2/weiguang/data6/G3X_Caesar/NewMDCLUSTER_0235/Caesar_snap_128.hdf5\n",
      "yt : [INFO     ] 2021-04-14 15:39:03,306 Found 1502 halos\n",
      "yt : [INFO     ] 2021-04-14 15:39:03,314 Found 1377 galaxies\n",
      "yt : [INFO     ] 2021-04-14 15:39:03,381 Opening /home2/weiguang/data6/G3X_Caesar/NewMDCLUSTER_0236/Caesar_snap_128.hdf5\n",
      "yt : [INFO     ] 2021-04-14 15:39:03,514 Found 1600 halos\n",
      "yt : [INFO     ] 2021-04-14 15:39:03,522 Found 1513 galaxies\n",
      "yt : [INFO     ] 2021-04-14 15:39:03,595 Opening /home2/weiguang/data6/G3X_Caesar/NewMDCLUSTER_0237/Caesar_snap_128.hdf5\n",
      "yt : [INFO     ] 2021-04-14 15:39:03,729 Found 1738 halos\n",
      "yt : [INFO     ] 2021-04-14 15:39:03,737 Found 1525 galaxies\n",
      "yt : [INFO     ] 2021-04-14 15:39:03,811 Opening /home2/weiguang/data6/G3X_Caesar/NewMDCLUSTER_0238/Caesar_snap_128.hdf5\n",
      "yt : [INFO     ] 2021-04-14 15:39:03,944 Found 1913 halos\n",
      "yt : [INFO     ] 2021-04-14 15:39:03,952 Found 1869 galaxies\n",
      "yt : [INFO     ] 2021-04-14 15:39:04,039 Opening /home2/weiguang/data6/G3X_Caesar/NewMDCLUSTER_0239/Caesar_snap_128.hdf5\n",
      "yt : [INFO     ] 2021-04-14 15:39:04,176 Found 2122 halos\n",
      "yt : [INFO     ] 2021-04-14 15:39:04,183 Found 2188 galaxies\n",
      "yt : [INFO     ] 2021-04-14 15:39:04,284 Opening /home2/weiguang/data6/G3X_Caesar/NewMDCLUSTER_0240/Caesar_snap_128.hdf5\n",
      "yt : [INFO     ] 2021-04-14 15:39:04,417 Found 1816 halos\n",
      "yt : [INFO     ] 2021-04-14 15:39:04,424 Found 1707 galaxies\n",
      "yt : [INFO     ] 2021-04-14 15:39:04,507 Opening /home2/weiguang/data6/G3X_Caesar/NewMDCLUSTER_0241/Caesar_snap_128.hdf5\n",
      "yt : [INFO     ] 2021-04-14 15:39:04,641 Found 1716 halos\n",
      "yt : [INFO     ] 2021-04-14 15:39:04,649 Found 1713 galaxies\n",
      "yt : [INFO     ] 2021-04-14 15:39:04,729 Opening /home2/weiguang/data6/G3X_Caesar/NewMDCLUSTER_0242/Caesar_snap_128.hdf5\n",
      "yt : [INFO     ] 2021-04-14 15:39:04,870 Found 1814 halos\n",
      "yt : [INFO     ] 2021-04-14 15:39:04,879 Found 1879 galaxies\n",
      "yt : [INFO     ] 2021-04-14 15:39:04,967 Opening /home2/weiguang/data6/G3X_Caesar/NewMDCLUSTER_0243/Caesar_snap_128.hdf5\n",
      "yt : [INFO     ] 2021-04-14 15:39:05,105 Found 2148 halos\n",
      "yt : [INFO     ] 2021-04-14 15:39:05,113 Found 2385 galaxies\n",
      "yt : [INFO     ] 2021-04-14 15:39:05,221 Opening /home2/weiguang/data6/G3X_Caesar/NewMDCLUSTER_0244/Caesar_snap_128.hdf5\n",
      "yt : [INFO     ] 2021-04-14 15:39:05,355 Found 1644 halos\n",
      "yt : [INFO     ] 2021-04-14 15:39:05,364 Found 1728 galaxies\n",
      "yt : [INFO     ] 2021-04-14 15:39:05,445 Opening /home2/weiguang/data6/G3X_Caesar/NewMDCLUSTER_0245/Caesar_snap_128.hdf5\n",
      "yt : [INFO     ] 2021-04-14 15:39:05,579 Found 2474 halos\n",
      "yt : [INFO     ] 2021-04-14 15:39:05,587 Found 2766 galaxies\n",
      "yt : [INFO     ] 2021-04-14 15:39:05,712 Opening /home2/weiguang/data6/G3X_Caesar/NewMDCLUSTER_0246/Caesar_snap_128.hdf5\n",
      "yt : [INFO     ] 2021-04-14 15:39:05,846 Found 1711 halos\n",
      "yt : [INFO     ] 2021-04-14 15:39:05,854 Found 1565 galaxies\n",
      "yt : [INFO     ] 2021-04-14 15:39:05,929 Opening /home2/weiguang/data6/G3X_Caesar/NewMDCLUSTER_0247/Caesar_snap_128.hdf5\n",
      "yt : [INFO     ] 2021-04-14 15:39:06,062 Found 1390 halos\n",
      "yt : [INFO     ] 2021-04-14 15:39:06,069 Found 1259 galaxies\n",
      "yt : [INFO     ] 2021-04-14 15:39:06,133 Opening /home2/weiguang/data6/G3X_Caesar/NewMDCLUSTER_0248/Caesar_snap_128.hdf5\n",
      "yt : [INFO     ] 2021-04-14 15:39:06,266 Found 1749 halos\n",
      "yt : [INFO     ] 2021-04-14 15:39:06,274 Found 2053 galaxies\n",
      "yt : [INFO     ] 2021-04-14 15:39:06,369 Opening /home2/weiguang/data6/G3X_Caesar/NewMDCLUSTER_0249/Caesar_snap_128.hdf5\n",
      "yt : [INFO     ] 2021-04-14 15:39:06,503 Found 1332 halos\n",
      "yt : [INFO     ] 2021-04-14 15:39:06,510 Found 1295 galaxies\n",
      "yt : [INFO     ] 2021-04-14 15:39:06,575 Opening /home2/weiguang/data6/G3X_Caesar/NewMDCLUSTER_0250/Caesar_snap_128.hdf5\n",
      "yt : [INFO     ] 2021-04-14 15:39:06,708 Found 1972 halos\n",
      "yt : [INFO     ] 2021-04-14 15:39:06,715 Found 2075 galaxies\n",
      "yt : [INFO     ] 2021-04-14 15:39:06,813 Opening /home2/weiguang/data6/G3X_Caesar/NewMDCLUSTER_0251/Caesar_snap_128.hdf5\n",
      "yt : [INFO     ] 2021-04-14 15:39:06,945 Found 1628 halos\n",
      "yt : [INFO     ] 2021-04-14 15:39:06,954 Found 1626 galaxies\n",
      "yt : [INFO     ] 2021-04-14 15:39:07,032 Opening /home2/weiguang/data6/G3X_Caesar/NewMDCLUSTER_0252/Caesar_snap_128.hdf5\n",
      "yt : [INFO     ] 2021-04-14 15:39:07,165 Found 1751 halos\n",
      "yt : [INFO     ] 2021-04-14 15:39:07,173 Found 1392 galaxies\n",
      "yt : [INFO     ] 2021-04-14 15:39:07,243 Opening /home2/weiguang/data6/G3X_Caesar/NewMDCLUSTER_0253/Caesar_snap_128.hdf5\n",
      "yt : [INFO     ] 2021-04-14 15:39:07,376 Found 1542 halos\n",
      "yt : [INFO     ] 2021-04-14 15:39:07,384 Found 1667 galaxies\n",
      "yt : [INFO     ] 2021-04-14 15:39:07,463 Opening /home2/weiguang/data6/G3X_Caesar/NewMDCLUSTER_0254/Caesar_snap_128.hdf5\n",
      "yt : [INFO     ] 2021-04-14 15:39:07,602 Found 1620 halos\n",
      "yt : [INFO     ] 2021-04-14 15:39:07,610 Found 1602 galaxies\n",
      "yt : [INFO     ] 2021-04-14 15:39:07,687 Opening /home2/weiguang/data6/G3X_Caesar/NewMDCLUSTER_0255/Caesar_snap_128.hdf5\n",
      "yt : [INFO     ] 2021-04-14 15:39:07,820 Found 2102 halos\n",
      "yt : [INFO     ] 2021-04-14 15:39:07,828 Found 2293 galaxies\n",
      "yt : [INFO     ] 2021-04-14 15:39:07,934 Opening /home2/weiguang/data6/G3X_Caesar/NewMDCLUSTER_0256/Caesar_snap_128.hdf5\n",
      "yt : [INFO     ] 2021-04-14 15:39:08,065 Found 1538 halos\n",
      "yt : [INFO     ] 2021-04-14 15:39:08,073 Found 1372 galaxies\n",
      "yt : [INFO     ] 2021-04-14 15:39:08,141 Opening /home2/weiguang/data6/G3X_Caesar/NewMDCLUSTER_0257/Caesar_snap_128.hdf5\n",
      "yt : [INFO     ] 2021-04-14 15:39:08,282 Found 2239 halos\n",
      "yt : [INFO     ] 2021-04-14 15:39:08,290 Found 2602 galaxies\n",
      "yt : [INFO     ] 2021-04-14 15:39:08,407 Opening /home2/weiguang/data6/G3X_Caesar/NewMDCLUSTER_0258/Caesar_snap_128.hdf5\n",
      "yt : [INFO     ] 2021-04-14 15:39:08,541 Found 1728 halos\n",
      "yt : [INFO     ] 2021-04-14 15:39:08,548 Found 1718 galaxies\n",
      "yt : [INFO     ] 2021-04-14 15:39:08,631 Opening /home2/weiguang/data6/G3X_Caesar/NewMDCLUSTER_0259/Caesar_snap_128.hdf5\n",
      "yt : [INFO     ] 2021-04-14 15:39:08,769 Found 1475 halos\n",
      "yt : [INFO     ] 2021-04-14 15:39:08,777 Found 1299 galaxies\n",
      "yt : [INFO     ] 2021-04-14 15:39:08,846 Opening /home2/weiguang/data6/G3X_Caesar/NewMDCLUSTER_0260/Caesar_snap_128.hdf5\n",
      "yt : [INFO     ] 2021-04-14 15:39:08,980 Found 1614 halos\n",
      "yt : [INFO     ] 2021-04-14 15:39:08,987 Found 1721 galaxies\n",
      "yt : [INFO     ] 2021-04-14 15:39:09,069 Opening /home2/weiguang/data6/G3X_Caesar/NewMDCLUSTER_0261/Caesar_snap_128.hdf5\n",
      "yt : [INFO     ] 2021-04-14 15:39:09,203 Found 1512 halos\n",
      "yt : [INFO     ] 2021-04-14 15:39:09,212 Found 1450 galaxies\n",
      "yt : [INFO     ] 2021-04-14 15:39:09,285 Opening /home2/weiguang/data6/G3X_Caesar/NewMDCLUSTER_0262/Caesar_snap_128.hdf5\n",
      "yt : [INFO     ] 2021-04-14 15:39:09,419 Found 1855 halos\n",
      "yt : [INFO     ] 2021-04-14 15:39:09,426 Found 1755 galaxies\n",
      "yt : [INFO     ] 2021-04-14 15:39:09,508 Opening /home2/weiguang/data6/G3X_Caesar/NewMDCLUSTER_0263/Caesar_snap_128.hdf5\n",
      "yt : [INFO     ] 2021-04-14 15:39:09,641 Found 1983 halos\n",
      "yt : [INFO     ] 2021-04-14 15:39:09,649 Found 2057 galaxies\n",
      "yt : [INFO     ] 2021-04-14 15:39:09,746 Opening /home2/weiguang/data6/G3X_Caesar/NewMDCLUSTER_0264/Caesar_snap_128.hdf5\n",
      "yt : [INFO     ] 2021-04-14 15:39:09,879 Found 1897 halos\n",
      "yt : [INFO     ] 2021-04-14 15:39:09,886 Found 2042 galaxies\n",
      "yt : [INFO     ] 2021-04-14 15:39:09,982 Opening /home2/weiguang/data6/G3X_Caesar/NewMDCLUSTER_0265/Caesar_snap_128.hdf5\n",
      "yt : [INFO     ] 2021-04-14 15:39:10,115 Found 1878 halos\n",
      "yt : [INFO     ] 2021-04-14 15:39:10,122 Found 1922 galaxies\n",
      "yt : [INFO     ] 2021-04-14 15:39:10,213 Opening /home2/weiguang/data6/G3X_Caesar/NewMDCLUSTER_0266/Caesar_snap_128.hdf5\n",
      "yt : [INFO     ] 2021-04-14 15:39:10,346 Found 1707 halos\n",
      "yt : [INFO     ] 2021-04-14 15:39:10,354 Found 1534 galaxies\n",
      "yt : [INFO     ] 2021-04-14 15:39:10,428 Opening /home2/weiguang/data6/G3X_Caesar/NewMDCLUSTER_0267/Caesar_snap_128.hdf5\n",
      "yt : [INFO     ] 2021-04-14 15:39:10,561 Found 1898 halos\n",
      "yt : [INFO     ] 2021-04-14 15:39:10,570 Found 1983 galaxies\n",
      "yt : [INFO     ] 2021-04-14 15:39:10,662 Opening /home2/weiguang/data6/G3X_Caesar/NewMDCLUSTER_0268/Caesar_snap_128.hdf5\n",
      "yt : [INFO     ] 2021-04-14 15:39:10,794 Found 1894 halos\n",
      "yt : [INFO     ] 2021-04-14 15:39:10,803 Found 1816 galaxies\n",
      "yt : [INFO     ] 2021-04-14 15:39:10,888 Opening /home2/weiguang/data6/G3X_Caesar/NewMDCLUSTER_0269/Caesar_snap_128.hdf5\n",
      "yt : [INFO     ] 2021-04-14 15:39:11,023 Found 1357 halos\n",
      "yt : [INFO     ] 2021-04-14 15:39:11,031 Found 1159 galaxies\n",
      "yt : [INFO     ] 2021-04-14 15:39:11,097 Opening /home2/weiguang/data6/G3X_Caesar/NewMDCLUSTER_0270/Caesar_snap_128.hdf5\n",
      "yt : [INFO     ] 2021-04-14 15:39:11,235 Found 1756 halos\n",
      "yt : [INFO     ] 2021-04-14 15:39:11,243 Found 1837 galaxies\n",
      "yt : [INFO     ] 2021-04-14 15:39:11,330 Opening /home2/weiguang/data6/G3X_Caesar/NewMDCLUSTER_0271/Caesar_snap_128.hdf5\n",
      "yt : [INFO     ] 2021-04-14 15:39:11,463 Found 1914 halos\n",
      "yt : [INFO     ] 2021-04-14 15:39:11,471 Found 1894 galaxies\n",
      "yt : [INFO     ] 2021-04-14 15:39:11,564 Opening /home2/weiguang/data6/G3X_Caesar/NewMDCLUSTER_0272/Caesar_snap_128.hdf5\n",
      "yt : [INFO     ] 2021-04-14 15:39:11,702 Found 2123 halos\n",
      "yt : [INFO     ] 2021-04-14 15:39:11,710 Found 2042 galaxies\n",
      "yt : [INFO     ] 2021-04-14 15:39:11,805 Opening /home2/weiguang/data6/G3X_Caesar/NewMDCLUSTER_0273/Caesar_snap_128.hdf5\n",
      "yt : [INFO     ] 2021-04-14 15:39:11,938 Found 2118 halos\n",
      "yt : [INFO     ] 2021-04-14 15:39:11,946 Found 2239 galaxies\n",
      "yt : [INFO     ] 2021-04-14 15:39:12,051 Opening /home2/weiguang/data6/G3X_Caesar/NewMDCLUSTER_0274/Caesar_snap_128.hdf5\n",
      "yt : [INFO     ] 2021-04-14 15:39:12,184 Found 1729 halos\n",
      "yt : [INFO     ] 2021-04-14 15:39:12,192 Found 1646 galaxies\n",
      "yt : [INFO     ] 2021-04-14 15:39:12,270 Opening /home2/weiguang/data6/G3X_Caesar/NewMDCLUSTER_0275/Caesar_snap_128.hdf5\n",
      "yt : [INFO     ] 2021-04-14 15:39:12,403 Found 1869 halos\n",
      "yt : [INFO     ] 2021-04-14 15:39:12,411 Found 1850 galaxies\n",
      "yt : [INFO     ] 2021-04-14 15:39:12,498 Opening /home2/weiguang/data6/G3X_Caesar/NewMDCLUSTER_0276/Caesar_snap_128.hdf5\n",
      "yt : [INFO     ] 2021-04-14 15:39:12,632 Found 1960 halos\n",
      "yt : [INFO     ] 2021-04-14 15:39:12,639 Found 2117 galaxies\n",
      "yt : [INFO     ] 2021-04-14 15:39:12,740 Opening /home2/weiguang/data6/G3X_Caesar/NewMDCLUSTER_0277/Caesar_snap_128.hdf5\n",
      "yt : [INFO     ] 2021-04-14 15:39:12,874 Found 1988 halos\n",
      "yt : [INFO     ] 2021-04-14 15:39:12,882 Found 1971 galaxies\n",
      "yt : [INFO     ] 2021-04-14 15:39:12,975 Opening /home2/weiguang/data6/G3X_Caesar/NewMDCLUSTER_0278/Caesar_snap_128.hdf5\n",
      "yt : [INFO     ] 2021-04-14 15:39:13,109 Found 1952 halos\n",
      "yt : [INFO     ] 2021-04-14 15:39:13,117 Found 1984 galaxies\n",
      "yt : [INFO     ] 2021-04-14 15:39:13,209 Opening /home2/weiguang/data6/G3X_Caesar/NewMDCLUSTER_0279/Caesar_snap_128.hdf5\n",
      "yt : [INFO     ] 2021-04-14 15:39:13,343 Found 1554 halos\n",
      "yt : [INFO     ] 2021-04-14 15:39:13,350 Found 1447 galaxies\n",
      "yt : [INFO     ] 2021-04-14 15:39:13,421 Opening /home2/weiguang/data6/G3X_Caesar/NewMDCLUSTER_0280/Caesar_snap_128.hdf5\n",
      "yt : [INFO     ] 2021-04-14 15:39:13,554 Found 1732 halos\n",
      "yt : [INFO     ] 2021-04-14 15:39:13,562 Found 1676 galaxies\n",
      "yt : [INFO     ] 2021-04-14 15:39:13,643 Opening /home2/weiguang/data6/G3X_Caesar/NewMDCLUSTER_0281/Caesar_snap_128.hdf5\n",
      "yt : [INFO     ] 2021-04-14 15:39:13,777 Found 1871 halos\n",
      "yt : [INFO     ] 2021-04-14 15:39:13,784 Found 1955 galaxies\n",
      "yt : [INFO     ] 2021-04-14 15:39:13,876 Opening /home2/weiguang/data6/G3X_Caesar/NewMDCLUSTER_0282/Caesar_snap_128.hdf5\n",
      "yt : [INFO     ] 2021-04-14 15:39:14,009 Found 2024 halos\n",
      "yt : [INFO     ] 2021-04-14 15:39:14,017 Found 2085 galaxies\n",
      "yt : [INFO     ] 2021-04-14 15:39:14,114 Opening /home2/weiguang/data6/G3X_Caesar/NewMDCLUSTER_0283/Caesar_snap_128.hdf5\n",
      "yt : [INFO     ] 2021-04-14 15:39:14,247 Found 2014 halos\n",
      "yt : [INFO     ] 2021-04-14 15:39:14,256 Found 2150 galaxies\n",
      "yt : [INFO     ] 2021-04-14 15:39:14,355 Opening /home2/weiguang/data6/G3X_Caesar/NewMDCLUSTER_0284/Caesar_snap_128.hdf5\n",
      "yt : [INFO     ] 2021-04-14 15:39:14,489 Found 2047 halos\n",
      "yt : [INFO     ] 2021-04-14 15:39:14,497 Found 2483 galaxies\n",
      "yt : [INFO     ] 2021-04-14 15:39:14,611 Opening /home2/weiguang/data6/G3X_Caesar/NewMDCLUSTER_0285/Caesar_snap_128.hdf5\n",
      "yt : [INFO     ] 2021-04-14 15:39:14,744 Found 1617 halos\n",
      "yt : [INFO     ] 2021-04-14 15:39:14,751 Found 1687 galaxies\n",
      "yt : [INFO     ] 2021-04-14 15:39:14,832 Opening /home2/weiguang/data6/G3X_Caesar/NewMDCLUSTER_0286/Caesar_snap_128.hdf5\n",
      "yt : [INFO     ] 2021-04-14 15:39:14,965 Found 1646 halos\n",
      "yt : [INFO     ] 2021-04-14 15:39:14,973 Found 1676 galaxies\n",
      "yt : [INFO     ] 2021-04-14 15:39:15,057 Opening /home2/weiguang/data6/G3X_Caesar/NewMDCLUSTER_0287/Caesar_snap_128.hdf5\n",
      "yt : [INFO     ] 2021-04-14 15:39:15,190 Found 2013 halos\n",
      "yt : [INFO     ] 2021-04-14 15:39:15,198 Found 2210 galaxies\n",
      "yt : [INFO     ] 2021-04-14 15:39:15,300 Opening /home2/weiguang/data6/G3X_Caesar/NewMDCLUSTER_0288/Caesar_snap_128.hdf5\n",
      "yt : [INFO     ] 2021-04-14 15:39:15,434 Found 1410 halos\n",
      "yt : [INFO     ] 2021-04-14 15:39:15,442 Found 1276 galaxies\n",
      "yt : [INFO     ] 2021-04-14 15:39:15,506 Opening /home2/weiguang/data6/G3X_Caesar/NewMDCLUSTER_0289/Caesar_snap_128.hdf5\n",
      "yt : [INFO     ] 2021-04-14 15:39:15,639 Found 1518 halos\n",
      "yt : [INFO     ] 2021-04-14 15:39:15,647 Found 1684 galaxies\n",
      "yt : [INFO     ] 2021-04-14 15:39:15,726 Opening /home2/weiguang/data6/G3X_Caesar/NewMDCLUSTER_0290/Caesar_snap_128.hdf5\n",
      "yt : [INFO     ] 2021-04-14 15:39:15,859 Found 1777 halos\n",
      "yt : [INFO     ] 2021-04-14 15:39:15,867 Found 1703 galaxies\n",
      "yt : [INFO     ] 2021-04-14 15:39:15,949 Opening /home2/weiguang/data6/G3X_Caesar/NewMDCLUSTER_0291/Caesar_snap_128.hdf5\n",
      "yt : [INFO     ] 2021-04-14 15:39:16,082 Found 2060 halos\n",
      "yt : [INFO     ] 2021-04-14 15:39:16,090 Found 2089 galaxies\n",
      "yt : [INFO     ] 2021-04-14 15:39:16,187 Opening /home2/weiguang/data6/G3X_Caesar/NewMDCLUSTER_0292/Caesar_snap_128.hdf5\n",
      "yt : [INFO     ] 2021-04-14 15:39:16,321 Found 1955 halos\n",
      "yt : [INFO     ] 2021-04-14 15:39:16,328 Found 1972 galaxies\n",
      "yt : [INFO     ] 2021-04-14 15:39:16,421 Opening /home2/weiguang/data6/G3X_Caesar/NewMDCLUSTER_0293/Caesar_snap_128.hdf5\n",
      "yt : [INFO     ] 2021-04-14 15:39:16,554 Found 1640 halos\n",
      "yt : [INFO     ] 2021-04-14 15:39:16,563 Found 1752 galaxies\n",
      "yt : [INFO     ] 2021-04-14 15:39:16,646 Opening /home2/weiguang/data6/G3X_Caesar/NewMDCLUSTER_0294/Caesar_snap_128.hdf5\n",
      "yt : [INFO     ] 2021-04-14 15:39:16,779 Found 1635 halos\n",
      "yt : [INFO     ] 2021-04-14 15:39:16,787 Found 1587 galaxies\n",
      "yt : [INFO     ] 2021-04-14 15:39:16,864 Opening /home2/weiguang/data6/G3X_Caesar/NewMDCLUSTER_0295/Caesar_snap_128.hdf5\n",
      "yt : [INFO     ] 2021-04-14 15:39:16,998 Found 1516 halos\n",
      "yt : [INFO     ] 2021-04-14 15:39:17,005 Found 1306 galaxies\n",
      "yt : [INFO     ] 2021-04-14 15:39:17,069 Opening /home2/weiguang/data6/G3X_Caesar/NewMDCLUSTER_0296/Caesar_snap_128.hdf5\n",
      "yt : [INFO     ] 2021-04-14 15:39:17,202 Found 1445 halos\n",
      "yt : [INFO     ] 2021-04-14 15:39:17,211 Found 1302 galaxies\n",
      "yt : [INFO     ] 2021-04-14 15:39:17,275 Opening /home2/weiguang/data6/G3X_Caesar/NewMDCLUSTER_0297/Caesar_snap_128.hdf5\n",
      "yt : [INFO     ] 2021-04-14 15:39:17,407 Found 1686 halos\n",
      "yt : [INFO     ] 2021-04-14 15:39:17,415 Found 1496 galaxies\n",
      "yt : [INFO     ] 2021-04-14 15:39:17,488 Opening /home2/weiguang/data6/G3X_Caesar/NewMDCLUSTER_0298/Caesar_snap_128.hdf5\n",
      "yt : [INFO     ] 2021-04-14 15:39:17,622 Found 2330 halos\n",
      "yt : [INFO     ] 2021-04-14 15:39:17,630 Found 2838 galaxies\n",
      "yt : [INFO     ] 2021-04-14 15:39:17,758 Opening /home2/weiguang/data6/G3X_Caesar/NewMDCLUSTER_0299/Caesar_snap_128.hdf5\n",
      "yt : [INFO     ] 2021-04-14 15:39:17,892 Found 1559 halos\n",
      "yt : [INFO     ] 2021-04-14 15:39:17,900 Found 1426 galaxies\n",
      "yt : [INFO     ] 2021-04-14 15:39:17,970 Opening /home2/weiguang/data6/G3X_Caesar/NewMDCLUSTER_0300/Caesar_snap_128.hdf5\n",
      "yt : [INFO     ] 2021-04-14 15:39:18,103 Found 2558 halos\n",
      "yt : [INFO     ] 2021-04-14 15:39:18,112 Found 2952 galaxies\n",
      "yt : [INFO     ] 2021-04-14 15:39:18,245 Opening /home2/weiguang/data6/G3X_Caesar/NewMDCLUSTER_0301/Caesar_snap_128.hdf5\n",
      "yt : [INFO     ] 2021-04-14 15:39:18,381 Found 1804 halos\n",
      "yt : [INFO     ] 2021-04-14 15:39:18,389 Found 1733 galaxies\n",
      "yt : [INFO     ] 2021-04-14 15:39:18,472 Opening /home2/weiguang/data6/G3X_Caesar/NewMDCLUSTER_0302/Caesar_snap_128.hdf5\n",
      "yt : [INFO     ] 2021-04-14 15:39:18,606 Found 1703 halos\n",
      "yt : [INFO     ] 2021-04-14 15:39:18,614 Found 1699 galaxies\n",
      "yt : [INFO     ] 2021-04-14 15:39:18,695 Opening /home2/weiguang/data6/G3X_Caesar/NewMDCLUSTER_0303/Caesar_snap_128.hdf5\n",
      "yt : [INFO     ] 2021-04-14 15:39:18,828 Found 1697 halos\n",
      "yt : [INFO     ] 2021-04-14 15:39:18,837 Found 1711 galaxies\n",
      "yt : [INFO     ] 2021-04-14 15:39:18,918 Opening /home2/weiguang/data6/G3X_Caesar/NewMDCLUSTER_0304/Caesar_snap_128.hdf5\n",
      "yt : [INFO     ] 2021-04-14 15:39:19,058 Found 1821 halos\n",
      "yt : [INFO     ] 2021-04-14 15:39:19,065 Found 1931 galaxies\n",
      "yt : [INFO     ] 2021-04-14 15:39:19,156 Opening /home2/weiguang/data6/G3X_Caesar/NewMDCLUSTER_0305/Caesar_snap_128.hdf5\n",
      "yt : [INFO     ] 2021-04-14 15:39:19,289 Found 1663 halos\n",
      "yt : [INFO     ] 2021-04-14 15:39:19,297 Found 1470 galaxies\n",
      "yt : [INFO     ] 2021-04-14 15:39:19,368 Opening /home2/weiguang/data6/G3X_Caesar/NewMDCLUSTER_0306/Caesar_snap_128.hdf5\n",
      "yt : [INFO     ] 2021-04-14 15:39:19,501 Found 1449 halos\n",
      "yt : [INFO     ] 2021-04-14 15:39:19,509 Found 1450 galaxies\n",
      "yt : [INFO     ] 2021-04-14 15:39:19,580 Opening /home2/weiguang/data6/G3X_Caesar/NewMDCLUSTER_0307/Caesar_snap_128.hdf5\n",
      "yt : [INFO     ] 2021-04-14 15:39:19,714 Found 2579 halos\n",
      "yt : [INFO     ] 2021-04-14 15:39:19,721 Found 2856 galaxies\n",
      "yt : [INFO     ] 2021-04-14 15:39:19,851 Opening /home2/weiguang/data6/G3X_Caesar/NewMDCLUSTER_0308/Caesar_snap_128.hdf5\n",
      "yt : [INFO     ] 2021-04-14 15:39:19,985 Found 2158 halos\n",
      "yt : [INFO     ] 2021-04-14 15:39:19,993 Found 2081 galaxies\n",
      "yt : [INFO     ] 2021-04-14 15:39:20,090 Opening /home2/weiguang/data6/G3X_Caesar/NewMDCLUSTER_0309/Caesar_snap_128.hdf5\n",
      "yt : [INFO     ] 2021-04-14 15:39:20,223 Found 2140 halos\n",
      "yt : [INFO     ] 2021-04-14 15:39:20,231 Found 2432 galaxies\n",
      "yt : [INFO     ] 2021-04-14 15:39:20,343 Opening /home2/weiguang/data6/G3X_Caesar/NewMDCLUSTER_0310/Caesar_snap_128.hdf5\n",
      "yt : [INFO     ] 2021-04-14 15:39:20,476 Found 1865 halos\n",
      "yt : [INFO     ] 2021-04-14 15:39:20,484 Found 2014 galaxies\n",
      "yt : [INFO     ] 2021-04-14 15:39:20,579 Opening /home2/weiguang/data6/G3X_Caesar/NewMDCLUSTER_0311/Caesar_snap_128.hdf5\n",
      "yt : [INFO     ] 2021-04-14 15:39:20,712 Found 1453 halos\n",
      "yt : [INFO     ] 2021-04-14 15:39:20,719 Found 1306 galaxies\n",
      "yt : [INFO     ] 2021-04-14 15:39:20,784 Opening /home2/weiguang/data6/G3X_Caesar/NewMDCLUSTER_0312/Caesar_snap_128.hdf5\n",
      "yt : [INFO     ] 2021-04-14 15:39:20,917 Found 2135 halos\n",
      "yt : [INFO     ] 2021-04-14 15:39:20,926 Found 2235 galaxies\n",
      "yt : [INFO     ] 2021-04-14 15:39:21,030 Opening /home2/weiguang/data6/G3X_Caesar/NewMDCLUSTER_0313/Caesar_snap_128.hdf5\n",
      "yt : [INFO     ] 2021-04-14 15:39:21,164 Found 1790 halos\n",
      "yt : [INFO     ] 2021-04-14 15:39:21,172 Found 1756 galaxies\n",
      "yt : [INFO     ] 2021-04-14 15:39:21,256 Opening /home2/weiguang/data6/G3X_Caesar/NewMDCLUSTER_0314/Caesar_snap_128.hdf5\n",
      "yt : [INFO     ] 2021-04-14 15:39:21,390 Found 1572 halos\n",
      "yt : [INFO     ] 2021-04-14 15:39:21,397 Found 1548 galaxies\n",
      "yt : [INFO     ] 2021-04-14 15:39:21,473 Opening /home2/weiguang/data6/G3X_Caesar/NewMDCLUSTER_0315/Caesar_snap_128.hdf5\n",
      "yt : [INFO     ] 2021-04-14 15:39:21,607 Found 2037 halos\n",
      "yt : [INFO     ] 2021-04-14 15:39:21,615 Found 2085 galaxies\n",
      "yt : [INFO     ] 2021-04-14 15:39:21,716 Opening /home2/weiguang/data6/G3X_Caesar/NewMDCLUSTER_0316/Caesar_snap_128.hdf5\n",
      "yt : [INFO     ] 2021-04-14 15:39:21,850 Found 1844 halos\n",
      "yt : [INFO     ] 2021-04-14 15:39:21,857 Found 1856 galaxies\n",
      "yt : [INFO     ] 2021-04-14 15:39:21,944 Opening /home2/weiguang/data6/G3X_Caesar/NewMDCLUSTER_0317/Caesar_snap_128.hdf5\n",
      "yt : [INFO     ] 2021-04-14 15:39:22,078 Found 1772 halos\n",
      "yt : [INFO     ] 2021-04-14 15:39:22,086 Found 1674 galaxies\n",
      "yt : [INFO     ] 2021-04-14 15:39:34,047 Opening /home2/weiguang/data6/G3X_Caesar/NewMDCLUSTER_0318/Caesar_snap_128.hdf5\n",
      "yt : [INFO     ] 2021-04-14 15:39:34,181 Found 1955 halos\n",
      "yt : [INFO     ] 2021-04-14 15:39:34,188 Found 2181 galaxies\n",
      "yt : [INFO     ] 2021-04-14 15:39:34,297 Opening /home2/weiguang/data6/G3X_Caesar/NewMDCLUSTER_0319/Caesar_snap_128.hdf5\n",
      "yt : [INFO     ] 2021-04-14 15:39:34,431 Found 2263 halos\n",
      "yt : [INFO     ] 2021-04-14 15:39:34,438 Found 2599 galaxies\n",
      "yt : [INFO     ] 2021-04-14 15:39:34,557 Opening /home2/weiguang/data6/G3X_Caesar/NewMDCLUSTER_0320/Caesar_snap_128.hdf5\n",
      "yt : [INFO     ] 2021-04-14 15:39:34,700 Found 1487 halos\n",
      "yt : [INFO     ] 2021-04-14 15:39:34,708 Found 1306 galaxies\n",
      "yt : [INFO     ] 2021-04-14 15:39:34,781 Opening /home2/weiguang/data6/G3X_Caesar/NewMDCLUSTER_0321/Caesar_snap_128.hdf5\n",
      "yt : [INFO     ] 2021-04-14 15:39:34,915 Found 1726 halos\n",
      "yt : [INFO     ] 2021-04-14 15:39:34,923 Found 1550 galaxies\n",
      "yt : [INFO     ] 2021-04-14 15:39:35,006 Opening /home2/weiguang/data6/G3X_Caesar/NewMDCLUSTER_0322/Caesar_snap_128.hdf5\n",
      "yt : [INFO     ] 2021-04-14 15:39:35,140 Found 1639 halos\n",
      "yt : [INFO     ] 2021-04-14 15:39:35,147 Found 1424 galaxies\n",
      "yt : [INFO     ] 2021-04-14 15:39:35,223 Opening /home2/weiguang/data6/G3X_Caesar/NewMDCLUSTER_0323/Caesar_snap_128.hdf5\n",
      "yt : [INFO     ] 2021-04-14 15:39:35,357 Found 2058 halos\n",
      "yt : [INFO     ] 2021-04-14 15:39:35,365 Found 1965 galaxies\n",
      "yt : [INFO     ] 2021-04-14 15:39:35,462 Opening /home2/weiguang/data6/G3X_Caesar/NewMDCLUSTER_0324/Caesar_snap_128.hdf5\n",
      "yt : [INFO     ] 2021-04-14 15:39:35,597 Found 1336 halos\n",
      "yt : [INFO     ] 2021-04-14 15:39:35,604 Found 1195 galaxies\n"
     ]
    }
   ],
   "source": [
    "# GadgetX\n",
    "G3X=np.loadtxt(\"../Halo_mass_function_mass-difference/G3X_Mass_snap_128-center-cluster.txt\")  \n",
    "XMatch=np.loadtxt('G3X-Matched-AHFhalo-Caesar-galaxy.txt')\n",
    "\n",
    "GXCshr=np.zeros((320*1000,2),dtype=np.float32)\n",
    "\n",
    "N=0\n",
    "path='/home2/weiguang/data6/G3X_Caesar/'\n",
    "for i in np.arange(1,325):\n",
    "    ds=caesar.load(path+'NewMDCLUSTER_%04d/Caesar_snap_128.hdf5'%i)\n",
    "    gpos=np.array([j.pos for j in ds.galaxies])  #CoM\n",
    "    gmas=np.array([j.masses['stellar'] for j in ds.galaxies])  #CoM\n",
    "    dist=np.linalg.norm(gpos*0.6777-G3X[i-1,3:6],axis=1)\n",
    "\n",
    "    ids=np.where(dist<=G3X[i-1,6])[0]\n",
    "#     n1=len(ids)\n",
    "    ids=ids[ids != np.int32(XMatch[i-1,3]+0.1)]\n",
    "    n2=len(ids)\n",
    "#     print(n1,n2)\n",
    "    GXCshr[N:N+n2,0] = i\n",
    "    GXCshr[N:N+n2,1] = gmas[ids]\n",
    "    N+=n2\n",
    "\n",
    "GXCshr=GXCshr[:N]"
   ]
  },
  {
   "cell_type": "code",
   "execution_count": 54,
   "metadata": {},
   "outputs": [
    {
     "data": {
      "text/plain": [
       "array([160., 130., 120., 110., 100., 100., 100., 100., 100., 110., 130.,\n",
       "       280., 205., 110.,  90.,  70.,  60.,  40.,  40.,  20.,  20.,  10.,\n",
       "        10.,  10.,   0.,   0.,   0.,   0.,   0.,   0.,   0.,   0.,   0.,\n",
       "         0.,   0.,   0.,   0.,   0.,   0.,   0.,   0.,   0.,   0.,   0.])"
      ]
     },
     "execution_count": 54,
     "metadata": {},
     "output_type": "execute_result"
    }
   ],
   "source": [
    "cxsmf=np.zeros((324,sbx.size),dtype=float)\n",
    "for i in np.arange(1,325):\n",
    "    ids = np.int32(GXCshr[:,0]+0.1)== i\n",
    "    cxsmf[i-1,:],x=np.histogram(np.log10(GXCshr[ids,1]*0.6777),bins=smb)\n",
    "CXsmf_m=np.median(cxsmf*10,axis=0); CXsmf_e=np.std(cxsmf*10,axis=0)\n",
    "CXsmf_m"
   ]
  },
  {
   "cell_type": "code",
   "execution_count": 56,
   "metadata": {
    "collapsed": true,
    "jupyter": {
     "outputs_hidden": true
    },
    "tags": []
   },
   "outputs": [
    {
     "name": "stdout",
     "output_type": "stream",
     "text": [
      "{'GroupID': 0,\n",
      " 'L_FIR': 0.0 Lsun,\n",
      " 'absmag': {'2mass_h': -26.272022247314453,\n",
      "            '2mass_j': -26.098596572875977,\n",
      "            '2mass_ks': -25.99538230895996,\n",
      "            'b': -24.549060821533203,\n",
      "            'bessell_l': -25.266189575195312,\n",
      "            'bessell_lp': -25.125816345214844,\n",
      "            'bessell_m': -24.610071182250977,\n",
      "            'buser_b': -24.602340698242188,\n",
      "            'cfht_b': -24.604028701782227,\n",
      "            'cfht_i': -25.760425567626953,\n",
      "            'cfht_r': -25.461347579956055,\n",
      "            'cousins_i': -25.71904945373535,\n",
      "            'cousins_r': -25.44261360168457,\n",
      "            'des_g': -24.830106735229492,\n",
      "            'des_i': -25.68155860900879,\n",
      "            'des_r': -25.397281646728516,\n",
      "            'des_y': -26.01127815246582,\n",
      "            'des_z': -25.932058334350586,\n",
      "            'fors_r': -25.437925338745117,\n",
      "            'fors_v': -25.150724411010742,\n",
      "            'galex_fuv': -22.598281860351562,\n",
      "            'galex_nuv': -22.570148468017578,\n",
      "            'i1500': -22.604734420776367,\n",
      "            'i2300': -22.551780700683594,\n",
      "            'i2800': -22.79439926147461,\n",
      "            'irac_1': -25.23885154724121,\n",
      "            'irac_2': -24.770030975341797,\n",
      "            'isaac_ks': -25.997745513916016,\n",
      "            'jwst_f070w': -25.529029846191406,\n",
      "            'jwst_f090w': -25.906484603881836,\n",
      "            'jwst_f115w': -26.072874069213867,\n",
      "            'jwst_f150w': -26.193195343017578,\n",
      "            'jwst_f200w': -26.10707664489746,\n",
      "            'jwst_f277w': -25.518169403076172,\n",
      "            'jwst_f356w': -25.244306564331055,\n",
      "            'jwst_f444w': -24.82464027404785,\n",
      "            'megacam_g': -24.87579917907715,\n",
      "            'megacam_i': -25.667617797851562,\n",
      "            'megacam_r': -25.38266944885254,\n",
      "            'megacam_u': -23.961824417114258,\n",
      "            'megacam_z': -25.884906768798828,\n",
      "            'newfirm_h1': -26.245264053344727,\n",
      "            'newfirm_h2': -26.279632568359375,\n",
      "            'newfirm_j1': -26.043079376220703,\n",
      "            'newfirm_j2': -26.08269691467285,\n",
      "            'newfirm_j3': -26.116092681884766,\n",
      "            'newfirm_k': -25.986785888671875,\n",
      "            'nicmos_f110w': -26.028255462646484,\n",
      "            'nicmos_f160w': -26.234060287475586,\n",
      "            'ps1_g': -24.8686466217041,\n",
      "            'ps1_i': -25.640666961669922,\n",
      "            'ps1_r': -25.36628532409668,\n",
      "            'ps1_y': -26.001577377319336,\n",
      "            'ps1_z': -25.859647750854492,\n",
      "            'sdss_g': -24.789981842041016,\n",
      "            'sdss_i': -25.629140853881836,\n",
      "            'sdss_r': -25.37106704711914,\n",
      "            'sdss_u': -23.606609344482422,\n",
      "            'sdss_z': -25.895423889160156,\n",
      "            'steidel_g': -24.843585968017578,\n",
      "            'steidel_i': -25.733001708984375,\n",
      "            'steidel_rs': -25.4990291595459,\n",
      "            'steidel_un': -23.656217575073242,\n",
      "            'stromgren_b': -24.819395065307617,\n",
      "            'stromgren_u': -23.499845504760742,\n",
      "            'stromgren_v': -24.356014251708984,\n",
      "            'stromgren_y': -25.12248420715332,\n",
      "            'suprimecam_b': -24.631450653076172,\n",
      "            'suprimecam_g': -24.82398223876953,\n",
      "            'suprimecam_i': -25.667879104614258,\n",
      "            'suprimecam_r': -25.3857479095459,\n",
      "            'suprimecam_v': -25.133075714111328,\n",
      "            'suprimecam_z': -25.92717170715332,\n",
      "            'u': -23.64419174194336,\n",
      "            'uvot_m2': -22.558948516845703,\n",
      "            'uvot_w1': -22.70659828186035,\n",
      "            'uvot_w2': -22.577299118041992,\n",
      "            'v': -25.127458572387695,\n",
      "            'vista_h': -26.265817642211914,\n",
      "            'vista_j': -26.106557846069336,\n",
      "            'vista_k': -26.00149917602539,\n",
      "            'vista_y': -26.033458709716797,\n",
      "            'wfc3_ir_f098m': -26.014801025390625,\n",
      "            'wfc3_ir_f105w': -26.03704071044922,\n",
      "            'wfc3_ir_f110w': -26.06246566772461,\n",
      "            'wfc3_ir_f125w': -26.096174240112305,\n",
      "            'wfc3_ir_f140w': -26.145687103271484,\n",
      "            'wfc3_ir_f160w': -26.216459274291992,\n",
      "            'wfc3_uvis_f218w': -22.560625076293945,\n",
      "            'wfc3_uvis_f225w': -22.562990188598633,\n",
      "            'wfc3_uvis_f275w': -22.71366310119629,\n",
      "            'wfc3_uvis_f336w': -23.38140106201172,\n",
      "            'wfc3_uvis_f390w': -24.082748413085938,\n",
      "            'wfc3_uvis_f438w': -24.54473304748535,\n",
      "            'wfc3_uvis_f475w': -24.823652267456055,\n",
      "            'wfc3_uvis_f555w': -25.06549072265625,\n",
      "            'wfc3_uvis_f606w': -25.252134323120117,\n",
      "            'wfc3_uvis_f775w': -25.662790298461914,\n",
      "            'wfc3_uvis_f814w': -25.730327606201172,\n",
      "            'wfc3_uvis_f850lp': -25.93540382385254,\n",
      "            'wfc_acs_f435w': -24.50819969177246,\n",
      "            'wfc_acs_f475w': -24.805389404296875,\n",
      "            'wfc_acs_f555w': -25.102834701538086,\n",
      "            'wfc_acs_f606w': -25.258522033691406,\n",
      "            'wfc_acs_f625w': -25.391971588134766,\n",
      "            'wfc_acs_f775w': -25.672042846679688,\n",
      "            'wfc_acs_f814w': -25.737834930419922,\n",
      "            'wfc_acs_f850lp': -25.911714553833008,\n",
      "            'wfcam_h': -26.263498306274414,\n",
      "            'wfcam_j': -26.107101440429688,\n",
      "            'wfcam_k': -25.9471378326416,\n",
      "            'wfcam_y': -26.040178298950195,\n",
      "            'wfcam_z': -25.884723663330078,\n",
      "            'wfpc2_f255w': -22.630016326904297,\n",
      "            'wfpc2_f300w': -23.00567054748535,\n",
      "            'wfpc2_f336w': -23.384002685546875,\n",
      "            'wfpc2_f439w': -24.526166915893555,\n",
      "            'wfpc2_f450w': -24.70030403137207,\n",
      "            'wfpc2_f555w': -25.110092163085938,\n",
      "            'wfpc2_f606w': -25.28347396850586,\n",
      "            'wfpc2_f814w': -25.727201461791992,\n",
      "            'wfpc2_f850lp': -25.931026458740234,\n",
      "            'wise_w1': -25.32112693786621,\n",
      "            'wise_w2': -24.716751098632812},\n",
      " 'absmag_nodust': {'2mass_h': -26.272022247314453,\n",
      "                   '2mass_j': -26.098596572875977,\n",
      "                   '2mass_ks': -25.99538230895996,\n",
      "                   'b': -24.549060821533203,\n",
      "                   'bessell_l': -25.266189575195312,\n",
      "                   'bessell_lp': -25.125816345214844,\n",
      "                   'bessell_m': -24.610071182250977,\n",
      "                   'buser_b': -24.602340698242188,\n",
      "                   'cfht_b': -24.604028701782227,\n",
      "                   'cfht_i': -25.760425567626953,\n",
      "                   'cfht_r': -25.461347579956055,\n",
      "                   'cousins_i': -25.71904945373535,\n",
      "                   'cousins_r': -25.44261360168457,\n",
      "                   'des_g': -24.830106735229492,\n",
      "                   'des_i': -25.68155860900879,\n",
      "                   'des_r': -25.397281646728516,\n",
      "                   'des_y': -26.01127815246582,\n",
      "                   'des_z': -25.932058334350586,\n",
      "                   'fors_r': -25.437925338745117,\n",
      "                   'fors_v': -25.150724411010742,\n",
      "                   'galex_fuv': -22.598281860351562,\n",
      "                   'galex_nuv': -22.570148468017578,\n",
      "                   'i1500': -22.604734420776367,\n",
      "                   'i2300': -22.551780700683594,\n",
      "                   'i2800': -22.79439926147461,\n",
      "                   'irac_1': -25.23885154724121,\n",
      "                   'irac_2': -24.770030975341797,\n",
      "                   'isaac_ks': -25.997745513916016,\n",
      "                   'jwst_f070w': -25.529029846191406,\n",
      "                   'jwst_f090w': -25.906484603881836,\n",
      "                   'jwst_f115w': -26.072874069213867,\n",
      "                   'jwst_f150w': -26.193195343017578,\n",
      "                   'jwst_f200w': -26.10707664489746,\n",
      "                   'jwst_f277w': -25.518169403076172,\n",
      "                   'jwst_f356w': -25.244306564331055,\n",
      "                   'jwst_f444w': -24.82464027404785,\n",
      "                   'megacam_g': -24.87579917907715,\n",
      "                   'megacam_i': -25.667617797851562,\n",
      "                   'megacam_r': -25.38266944885254,\n",
      "                   'megacam_u': -23.961824417114258,\n",
      "                   'megacam_z': -25.884906768798828,\n",
      "                   'newfirm_h1': -26.245264053344727,\n",
      "                   'newfirm_h2': -26.279632568359375,\n",
      "                   'newfirm_j1': -26.043079376220703,\n",
      "                   'newfirm_j2': -26.08269691467285,\n",
      "                   'newfirm_j3': -26.116092681884766,\n",
      "                   'newfirm_k': -25.986785888671875,\n",
      "                   'nicmos_f110w': -26.028255462646484,\n",
      "                   'nicmos_f160w': -26.234060287475586,\n",
      "                   'ps1_g': -24.8686466217041,\n",
      "                   'ps1_i': -25.640666961669922,\n",
      "                   'ps1_r': -25.36628532409668,\n",
      "                   'ps1_y': -26.001577377319336,\n",
      "                   'ps1_z': -25.859647750854492,\n",
      "                   'sdss_g': -24.789981842041016,\n",
      "                   'sdss_i': -25.629140853881836,\n",
      "                   'sdss_r': -25.37106704711914,\n",
      "                   'sdss_u': -23.606609344482422,\n",
      "                   'sdss_z': -25.895423889160156,\n",
      "                   'steidel_g': -24.843585968017578,\n",
      "                   'steidel_i': -25.733001708984375,\n",
      "                   'steidel_rs': -25.4990291595459,\n",
      "                   'steidel_un': -23.656217575073242,\n",
      "                   'stromgren_b': -24.819395065307617,\n",
      "                   'stromgren_u': -23.499845504760742,\n",
      "                   'stromgren_v': -24.356014251708984,\n",
      "                   'stromgren_y': -25.12248420715332,\n",
      "                   'suprimecam_b': -24.631450653076172,\n",
      "                   'suprimecam_g': -24.82398223876953,\n",
      "                   'suprimecam_i': -25.667879104614258,\n",
      "                   'suprimecam_r': -25.3857479095459,\n",
      "                   'suprimecam_v': -25.133075714111328,\n",
      "                   'suprimecam_z': -25.92717170715332,\n",
      "                   'u': -23.64419174194336,\n",
      "                   'uvot_m2': -22.558948516845703,\n",
      "                   'uvot_w1': -22.70659828186035,\n",
      "                   'uvot_w2': -22.577299118041992,\n",
      "                   'v': -25.127458572387695,\n",
      "                   'vista_h': -26.265817642211914,\n",
      "                   'vista_j': -26.106557846069336,\n",
      "                   'vista_k': -26.00149917602539,\n",
      "                   'vista_y': -26.033458709716797,\n",
      "                   'wfc3_ir_f098m': -26.014801025390625,\n",
      "                   'wfc3_ir_f105w': -26.03704071044922,\n",
      "                   'wfc3_ir_f110w': -26.06246566772461,\n",
      "                   'wfc3_ir_f125w': -26.096174240112305,\n",
      "                   'wfc3_ir_f140w': -26.145687103271484,\n",
      "                   'wfc3_ir_f160w': -26.216459274291992,\n",
      "                   'wfc3_uvis_f218w': -22.560625076293945,\n",
      "                   'wfc3_uvis_f225w': -22.562990188598633,\n",
      "                   'wfc3_uvis_f275w': -22.71366310119629,\n",
      "                   'wfc3_uvis_f336w': -23.38140106201172,\n",
      "                   'wfc3_uvis_f390w': -24.082748413085938,\n",
      "                   'wfc3_uvis_f438w': -24.54473304748535,\n",
      "                   'wfc3_uvis_f475w': -24.823652267456055,\n",
      "                   'wfc3_uvis_f555w': -25.06549072265625,\n",
      "                   'wfc3_uvis_f606w': -25.252134323120117,\n",
      "                   'wfc3_uvis_f775w': -25.662790298461914,\n",
      "                   'wfc3_uvis_f814w': -25.730327606201172,\n",
      "                   'wfc3_uvis_f850lp': -25.93540382385254,\n",
      "                   'wfc_acs_f435w': -24.50819969177246,\n",
      "                   'wfc_acs_f475w': -24.805389404296875,\n",
      "                   'wfc_acs_f555w': -25.102834701538086,\n",
      "                   'wfc_acs_f606w': -25.258522033691406,\n",
      "                   'wfc_acs_f625w': -25.391971588134766,\n",
      "                   'wfc_acs_f775w': -25.672042846679688,\n",
      "                   'wfc_acs_f814w': -25.737834930419922,\n",
      "                   'wfc_acs_f850lp': -25.911714553833008,\n",
      "                   'wfcam_h': -26.263498306274414,\n",
      "                   'wfcam_j': -26.107101440429688,\n",
      "                   'wfcam_k': -25.9471378326416,\n",
      "                   'wfcam_y': -26.040178298950195,\n",
      "                   'wfcam_z': -25.884723663330078,\n",
      "                   'wfpc2_f255w': -22.630016326904297,\n",
      "                   'wfpc2_f300w': -23.00567054748535,\n",
      "                   'wfpc2_f336w': -23.384002685546875,\n",
      "                   'wfpc2_f439w': -24.526166915893555,\n",
      "                   'wfpc2_f450w': -24.70030403137207,\n",
      "                   'wfpc2_f555w': -25.110092163085938,\n",
      "                   'wfpc2_f606w': -25.28347396850586,\n",
      "                   'wfpc2_f814w': -25.727201461791992,\n",
      "                   'wfpc2_f850lp': -25.931026458740234,\n",
      "                   'wise_w1': -25.32112693786621,\n",
      "                   'wise_w2': -24.716751098632812},\n",
      " 'ages': {'mass_weighted': 9.349518775939941 Gyr,\n",
      "          'metal_weighted': 94730864033792.0 Gyr},\n",
      " 'appmag': {'2mass_h': -61.31090545654297,\n",
      "            '2mass_j': -61.13747787475586,\n",
      "            '2mass_ks': -61.03426742553711,\n",
      "            'b': -59.58794403076172,\n",
      "            'bessell_l': -60.30507278442383,\n",
      "            'bessell_lp': -60.16469955444336,\n",
      "            'bessell_m': -59.648956298828125,\n",
      "            'buser_b': -59.6412239074707,\n",
      "            'cfht_b': -59.64291000366211,\n",
      "            'cfht_i': -60.79930877685547,\n",
      "            'cfht_r': -60.50022888183594,\n",
      "            'cousins_i': -60.757930755615234,\n",
      "            'cousins_r': -60.48149490356445,\n",
      "            'des_g': -59.868988037109375,\n",
      "            'des_i': -60.72043991088867,\n",
      "            'des_r': -60.43616485595703,\n",
      "            'des_y': -61.0501594543457,\n",
      "            'des_z': -60.97093963623047,\n",
      "            'fors_r': -60.476810455322266,\n",
      "            'fors_v': -60.189605712890625,\n",
      "            'galex_fuv': -57.63716506958008,\n",
      "            'galex_nuv': -57.609031677246094,\n",
      "            'i1500': -57.64361572265625,\n",
      "            'i2300': -57.59066390991211,\n",
      "            'i2800': -57.833282470703125,\n",
      "            'irac_1': -60.277732849121094,\n",
      "            'irac_2': -59.80891418457031,\n",
      "            'isaac_ks': -61.03662872314453,\n",
      "            'jwst_f070w': -60.56791305541992,\n",
      "            'jwst_f090w': -60.945369720458984,\n",
      "            'jwst_f115w': -61.11175537109375,\n",
      "            'jwst_f150w': -61.232078552246094,\n",
      "            'jwst_f200w': -61.145957946777344,\n",
      "            'jwst_f277w': -60.55705261230469,\n",
      "            'jwst_f356w': -60.28318786621094,\n",
      "            'jwst_f444w': -59.863521575927734,\n",
      "            'megacam_g': -59.9146842956543,\n",
      "            'megacam_i': -60.70650100708008,\n",
      "            'megacam_r': -60.42155075073242,\n",
      "            'megacam_u': -59.00070571899414,\n",
      "            'megacam_z': -60.923789978027344,\n",
      "            'newfirm_h1': -61.28414535522461,\n",
      "            'newfirm_h2': -61.31851577758789,\n",
      "            'newfirm_j1': -61.08196258544922,\n",
      "            'newfirm_j2': -61.121578216552734,\n",
      "            'newfirm_j3': -61.15497589111328,\n",
      "            'newfirm_k': -61.02566909790039,\n",
      "            'nicmos_f110w': -61.067138671875,\n",
      "            'nicmos_f160w': -61.27294158935547,\n",
      "            'ps1_g': -59.907527923583984,\n",
      "            'ps1_i': -60.67955017089844,\n",
      "            'ps1_r': -60.40516662597656,\n",
      "            'ps1_y': -61.04045867919922,\n",
      "            'ps1_z': -60.898529052734375,\n",
      "            'sdss_g': -59.82886505126953,\n",
      "            'sdss_i': -60.66802215576172,\n",
      "            'sdss_r': -60.409950256347656,\n",
      "            'sdss_u': -58.64549255371094,\n",
      "            'sdss_z': -60.93430709838867,\n",
      "            'steidel_g': -59.882469177246094,\n",
      "            'steidel_i': -60.77188491821289,\n",
      "            'steidel_rs': -60.53791046142578,\n",
      "            'steidel_un': -58.695098876953125,\n",
      "            'stromgren_b': -59.8582763671875,\n",
      "            'stromgren_u': -58.538726806640625,\n",
      "            'stromgren_v': -59.3948974609375,\n",
      "            'stromgren_y': -60.16136932373047,\n",
      "            'suprimecam_b': -59.67033386230469,\n",
      "            'suprimecam_g': -59.86286544799805,\n",
      "            'suprimecam_i': -60.70676040649414,\n",
      "            'suprimecam_r': -60.42462921142578,\n",
      "            'suprimecam_v': -60.171958923339844,\n",
      "            'suprimecam_z': -60.9660530090332,\n",
      "            'u': -58.683074951171875,\n",
      "            'uvot_m2': -57.59783172607422,\n",
      "            'uvot_w1': -57.745479583740234,\n",
      "            'uvot_w2': -57.616180419921875,\n",
      "            'v': -60.16633987426758,\n",
      "            'vista_h': -61.3046989440918,\n",
      "            'vista_j': -61.14543914794922,\n",
      "            'vista_k': -61.040382385253906,\n",
      "            'vista_y': -61.07234191894531,\n",
      "            'wfc3_ir_f098m': -61.05368423461914,\n",
      "            'wfc3_ir_f105w': -61.075923919677734,\n",
      "            'wfc3_ir_f110w': -61.101348876953125,\n",
      "            'wfc3_ir_f125w': -61.13505554199219,\n",
      "            'wfc3_ir_f140w': -61.1845703125,\n",
      "            'wfc3_ir_f160w': -61.255340576171875,\n",
      "            'wfc3_uvis_f218w': -57.59950637817383,\n",
      "            'wfc3_uvis_f225w': -57.60187530517578,\n",
      "            'wfc3_uvis_f275w': -57.75254440307617,\n",
      "            'wfc3_uvis_f336w': -58.420284271240234,\n",
      "            'wfc3_uvis_f390w': -59.12163162231445,\n",
      "            'wfc3_uvis_f438w': -59.583614349365234,\n",
      "            'wfc3_uvis_f475w': -59.86253356933594,\n",
      "            'wfc3_uvis_f555w': -60.104373931884766,\n",
      "            'wfc3_uvis_f606w': -60.291015625,\n",
      "            'wfc3_uvis_f775w': -60.70167541503906,\n",
      "            'wfc3_uvis_f814w': -60.76921081542969,\n",
      "            'wfc3_uvis_f850lp': -60.97428512573242,\n",
      "            'wfc_acs_f435w': -59.547080993652344,\n",
      "            'wfc_acs_f475w': -59.84427261352539,\n",
      "            'wfc_acs_f555w': -60.14171600341797,\n",
      "            'wfc_acs_f606w': -60.29740524291992,\n",
      "            'wfc_acs_f625w': -60.43085479736328,\n",
      "            'wfc_acs_f775w': -60.7109260559082,\n",
      "            'wfc_acs_f814w': -60.77671813964844,\n",
      "            'wfc_acs_f850lp': -60.950599670410156,\n",
      "            'wfcam_h': -61.3023796081543,\n",
      "            'wfcam_j': -61.1459846496582,\n",
      "            'wfcam_k': -60.986019134521484,\n",
      "            'wfcam_y': -61.07905960083008,\n",
      "            'wfcam_z': -60.923606872558594,\n",
      "            'wfpc2_f255w': -57.66889953613281,\n",
      "            'wfpc2_f300w': -58.044551849365234,\n",
      "            'wfpc2_f336w': -58.42288589477539,\n",
      "            'wfpc2_f439w': -59.56504821777344,\n",
      "            'wfpc2_f450w': -59.73918914794922,\n",
      "            'wfpc2_f555w': -60.14897537231445,\n",
      "            'wfpc2_f606w': -60.322357177734375,\n",
      "            'wfpc2_f814w': -60.766082763671875,\n",
      "            'wfpc2_f850lp': -60.96990966796875,\n",
      "            'wise_w1': -60.360008239746094,\n",
      "            'wise_w2': -59.75563430786133},\n",
      " 'appmag_nodust': {'2mass_h': -61.31090545654297,\n",
      "                   '2mass_j': -61.13747787475586,\n",
      "                   '2mass_ks': -61.03426742553711,\n",
      "                   'b': -59.58794403076172,\n",
      "                   'bessell_l': -60.30507278442383,\n",
      "                   'bessell_lp': -60.16469955444336,\n",
      "                   'bessell_m': -59.648956298828125,\n",
      "                   'buser_b': -59.6412239074707,\n",
      "                   'cfht_b': -59.64291000366211,\n",
      "                   'cfht_i': -60.79930877685547,\n",
      "                   'cfht_r': -60.50022888183594,\n",
      "                   'cousins_i': -60.757930755615234,\n",
      "                   'cousins_r': -60.48149490356445,\n",
      "                   'des_g': -59.868988037109375,\n",
      "                   'des_i': -60.72043991088867,\n",
      "                   'des_r': -60.43616485595703,\n",
      "                   'des_y': -61.0501594543457,\n",
      "                   'des_z': -60.97093963623047,\n",
      "                   'fors_r': -60.476810455322266,\n",
      "                   'fors_v': -60.189605712890625,\n",
      "                   'galex_fuv': -57.63716506958008,\n",
      "                   'galex_nuv': -57.609031677246094,\n",
      "                   'i1500': -57.64361572265625,\n",
      "                   'i2300': -57.59066390991211,\n",
      "                   'i2800': -57.833282470703125,\n",
      "                   'irac_1': -60.277732849121094,\n",
      "                   'irac_2': -59.80891418457031,\n",
      "                   'isaac_ks': -61.03662872314453,\n",
      "                   'jwst_f070w': -60.56791305541992,\n",
      "                   'jwst_f090w': -60.945369720458984,\n",
      "                   'jwst_f115w': -61.11175537109375,\n",
      "                   'jwst_f150w': -61.232078552246094,\n",
      "                   'jwst_f200w': -61.145957946777344,\n",
      "                   'jwst_f277w': -60.55705261230469,\n",
      "                   'jwst_f356w': -60.28318786621094,\n",
      "                   'jwst_f444w': -59.863521575927734,\n",
      "                   'megacam_g': -59.9146842956543,\n",
      "                   'megacam_i': -60.70650100708008,\n",
      "                   'megacam_r': -60.42155075073242,\n",
      "                   'megacam_u': -59.00070571899414,\n",
      "                   'megacam_z': -60.923789978027344,\n",
      "                   'newfirm_h1': -61.28414535522461,\n",
      "                   'newfirm_h2': -61.31851577758789,\n",
      "                   'newfirm_j1': -61.08196258544922,\n",
      "                   'newfirm_j2': -61.121578216552734,\n",
      "                   'newfirm_j3': -61.15497589111328,\n",
      "                   'newfirm_k': -61.02566909790039,\n",
      "                   'nicmos_f110w': -61.067138671875,\n",
      "                   'nicmos_f160w': -61.27294158935547,\n",
      "                   'ps1_g': -59.907527923583984,\n",
      "                   'ps1_i': -60.67955017089844,\n",
      "                   'ps1_r': -60.40516662597656,\n",
      "                   'ps1_y': -61.04045867919922,\n",
      "                   'ps1_z': -60.898529052734375,\n",
      "                   'sdss_g': -59.82886505126953,\n",
      "                   'sdss_i': -60.66802215576172,\n",
      "                   'sdss_r': -60.409950256347656,\n",
      "                   'sdss_u': -58.64549255371094,\n",
      "                   'sdss_z': -60.93430709838867,\n",
      "                   'steidel_g': -59.882469177246094,\n",
      "                   'steidel_i': -60.77188491821289,\n",
      "                   'steidel_rs': -60.53791046142578,\n",
      "                   'steidel_un': -58.695098876953125,\n",
      "                   'stromgren_b': -59.8582763671875,\n",
      "                   'stromgren_u': -58.538726806640625,\n",
      "                   'stromgren_v': -59.3948974609375,\n",
      "                   'stromgren_y': -60.16136932373047,\n",
      "                   'suprimecam_b': -59.67033386230469,\n",
      "                   'suprimecam_g': -59.86286544799805,\n",
      "                   'suprimecam_i': -60.70676040649414,\n",
      "                   'suprimecam_r': -60.42462921142578,\n",
      "                   'suprimecam_v': -60.171958923339844,\n",
      "                   'suprimecam_z': -60.9660530090332,\n",
      "                   'u': -58.683074951171875,\n",
      "                   'uvot_m2': -57.59783172607422,\n",
      "                   'uvot_w1': -57.745479583740234,\n",
      "                   'uvot_w2': -57.616180419921875,\n",
      "                   'v': -60.16633987426758,\n",
      "                   'vista_h': -61.3046989440918,\n",
      "                   'vista_j': -61.14543914794922,\n",
      "                   'vista_k': -61.040382385253906,\n",
      "                   'vista_y': -61.07234191894531,\n",
      "                   'wfc3_ir_f098m': -61.05368423461914,\n",
      "                   'wfc3_ir_f105w': -61.075923919677734,\n",
      "                   'wfc3_ir_f110w': -61.101348876953125,\n",
      "                   'wfc3_ir_f125w': -61.13505554199219,\n",
      "                   'wfc3_ir_f140w': -61.1845703125,\n",
      "                   'wfc3_ir_f160w': -61.255340576171875,\n",
      "                   'wfc3_uvis_f218w': -57.59950637817383,\n",
      "                   'wfc3_uvis_f225w': -57.60187530517578,\n",
      "                   'wfc3_uvis_f275w': -57.75254440307617,\n",
      "                   'wfc3_uvis_f336w': -58.420284271240234,\n",
      "                   'wfc3_uvis_f390w': -59.12163162231445,\n",
      "                   'wfc3_uvis_f438w': -59.583614349365234,\n",
      "                   'wfc3_uvis_f475w': -59.86253356933594,\n",
      "                   'wfc3_uvis_f555w': -60.104373931884766,\n",
      "                   'wfc3_uvis_f606w': -60.291015625,\n",
      "                   'wfc3_uvis_f775w': -60.70167541503906,\n",
      "                   'wfc3_uvis_f814w': -60.76921081542969,\n",
      "                   'wfc3_uvis_f850lp': -60.97428512573242,\n",
      "                   'wfc_acs_f435w': -59.547080993652344,\n",
      "                   'wfc_acs_f475w': -59.84427261352539,\n",
      "                   'wfc_acs_f555w': -60.14171600341797,\n",
      "                   'wfc_acs_f606w': -60.29740524291992,\n",
      "                   'wfc_acs_f625w': -60.43085479736328,\n",
      "                   'wfc_acs_f775w': -60.7109260559082,\n",
      "                   'wfc_acs_f814w': -60.77671813964844,\n",
      "                   'wfc_acs_f850lp': -60.950599670410156,\n",
      "                   'wfcam_h': -61.3023796081543,\n",
      "                   'wfcam_j': -61.1459846496582,\n",
      "                   'wfcam_k': -60.986019134521484,\n",
      "                   'wfcam_y': -61.07905960083008,\n",
      "                   'wfcam_z': -60.923606872558594,\n",
      "                   'wfpc2_f255w': -57.66889953613281,\n",
      "                   'wfpc2_f300w': -58.044551849365234,\n",
      "                   'wfpc2_f336w': -58.42288589477539,\n",
      "                   'wfpc2_f439w': -59.56504821777344,\n",
      "                   'wfpc2_f450w': -59.73918914794922,\n",
      "                   'wfpc2_f555w': -60.14897537231445,\n",
      "                   'wfpc2_f606w': -60.322357177734375,\n",
      "                   'wfpc2_f814w': -60.766082763671875,\n",
      "                   'wfpc2_f850lp': -60.96990966796875,\n",
      "                   'wise_w1': -60.360008239746094,\n",
      "                   'wise_w2': -59.75563430786133},\n",
      " 'bhlist_end': 7,\n",
      " 'bhlist_start': 0,\n",
      " 'central': True,\n",
      " 'cloud_index_list_end': 0,\n",
      " 'cloud_index_list_start': 0,\n",
      " 'glist_end': 52,\n",
      " 'glist_start': 0,\n",
      " 'local_mass_density': {'1000': 973.5081455099876 Msun/kpccm**3,\n",
      "                        '300': 19674.497275286067 Msun/kpccm**3,\n",
      "                        '3000': 75.31430545426396 Msun/kpccm**3},\n",
      " 'local_number_density': {'1000': 2.4111973878422148e-08 kpccm**(-3),\n",
      "                          '300': 2.9178406233514145e-07 kpccm**(-3),\n",
      "                          '3000': 2.113223966609055e-09 kpccm**(-3)},\n",
      " 'masses': {'H2': 79090440852.0 Msun,\n",
      "            'H2_50kpc': 17129695792.0 Msun,\n",
      "            'HI': 363653340011.3527 Msun,\n",
      "            'HI_50kpc': 12959904480.361269 Msun,\n",
      "            'baryon': 1992362947584.0 Msun,\n",
      "            'bh': 0.0 Msun,\n",
      "            'bh_50kpc': 31835550464.0 Msun,\n",
      "            'bh_stellar_half_mass_radius': 28090191872.0 Msun,\n",
      "            'dm': 44944306176.0 Msun,\n",
      "            'dm2': 164069834752.0 Msun,\n",
      "            'dm2_50kpc': 0.0 Msun,\n",
      "            'dm2_stellar_half_mass_radius': 0.0 Msun,\n",
      "            'dm3': 3745358592.0 Msun,\n",
      "            'dm3_50kpc': 0.0 Msun,\n",
      "            'dm3_stellar_half_mass_radius': 0.0 Msun,\n",
      "            'dm_50kpc': 6316547265408.0 Msun,\n",
      "            'dm_stellar_half_mass_radius': 2951342570496.0 Msun,\n",
      "            'dust': 0.0 Msun,\n",
      "            'gas': 13461615616.0 Msun,\n",
      "            'gas_50kpc': 299978273336.0 Msun,\n",
      "            'gas_stellar_half_mass_radius': 86180275520.0 Msun,\n",
      "            'star_50kpc': 1213708208912.0 Msun,\n",
      "            'star_stellar_half_mass_radius': 989402319732.0 Msun,\n",
      "            'stellar': 1978901331968.0 Msun,\n",
      "            'total': 2037307277312.0 Msun},\n",
      " 'metallicities': {'mass_weighted': 0.010917938314378262 dimensionless,\n",
      "                   'mass_weighted_cgm': 0.010917938314378262 dimensionless,\n",
      "                   'sfr_weighted': 0.0 dimensionless,\n",
      "                   'stellar': 0.009755661711096764 dimensionless,\n",
      "                   'temp_weighted_cgm': 142197408.0 dimensionless},\n",
      " 'nbh': 7,\n",
      " 'ndm': 0,\n",
      " 'ndm2': 0,\n",
      " 'ndm3': 0,\n",
      " 'ngas': 52,\n",
      " 'nstar': 32875,\n",
      " 'parent_halo_index': 0,\n",
      " 'pos': YTArray([738440.5625, 737972.3125, 738227.0625]) kpccm,\n",
      " 'radii': {'baryon_half_mass': 31.432281494140625 kpccm,\n",
      "           'baryon_r20': 9.152783393859863 kpccm,\n",
      "           'baryon_r80': 82.88350677490234 kpccm,\n",
      "           'dm_half_mass': 6.543424606323242 kpccm,\n",
      "           'dm_r20': 6.543424606323242 kpccm,\n",
      "           'dm_r80': 66.54562377929688 kpccm,\n",
      "           'gas_half_mass': 20.372028350830078 kpccm,\n",
      "           'gas_r20': 19.940732955932617 kpccm,\n",
      "           'gas_r80': 21.079185485839844 kpccm,\n",
      "           'stellar_half_mass': 32.31709289550781 kpccm,\n",
      "           'stellar_r20': 9.345160484313965 kpccm,\n",
      "           'stellar_r80': 83.5184097290039 kpccm,\n",
      "           'total_half_mass': 31.432281494140625 kpccm,\n",
      "           'total_r20': 9.152783393859863 kpccm,\n",
      "           'total_r80': 82.88350677490234 kpccm},\n",
      " 'rotation': {'baryon_ALPHA': -2.925154209136963 dimensionless,\n",
      "              'baryon_BETA': -0.060277946293354034 dimensionless,\n",
      "              'baryon_BoverT': 0.8929974436759949 dimensionless,\n",
      "              'baryon_L': YTArray([-6.67708635e+14, -2.37596839e+15, -1.08056105e+16]) Msun*km*kpccm/s,\n",
      "              'baryon_kappa_rot': 0.26159632205963135 dimensionless,\n",
      "              'dm_ALPHA': 2.6280927658081055 dimensionless,\n",
      "              'dm_BETA': -0.54939204454422 dimensionless,\n",
      "              'dm_BoverT': 1.5 dimensionless,\n",
      "              'dm_L': YTArray([ 5.30228015e+13, -1.03777609e+16, -4.80871518e+14]) Msun*km*kpccm/s,\n",
      "              'dm_kappa_rot': 0.2750556766986847 dimensionless,\n",
      "              'gas_ALPHA': -0.21852262318134308 dimensionless,\n",
      "              'gas_BETA': 0.10046758502721786 dimensionless,\n",
      "              'gas_BoverT': 0.16428902745246887 dimensionless,\n",
      "              'gas_L': YTArray([ 5.47527485e+12, -3.35165222e+14, -3.38016577e+14]) Msun*km*kpccm/s,\n",
      "              'gas_kappa_rot': 0.5930935740470886 dimensionless,\n",
      "              'stellar_ALPHA': -2.8929038047790527 dimensionless,\n",
      "              'stellar_BETA': -0.03129270300269127 dimensionless,\n",
      "              'stellar_BoverT': 0.8774880766868591 dimensionless,\n",
      "              'stellar_L': YTArray([-1.17747032e+13, -2.63538710e+15,  2.71193563e+14]) Msun*km*kpccm/s,\n",
      "              'stellar_kappa_rot': 0.25740736722946167 dimensionless,\n",
      "              'total_ALPHA': -2.925154209136963 dimensionless,\n",
      "              'total_BETA': -0.060277946293354034 dimensionless,\n",
      "              'total_BoverT': 0.8929974436759949 dimensionless,\n",
      "              'total_L': YTArray([-6.67708635e+14, -2.37596839e+15, -1.08056105e+16]) Msun*km*kpccm/s,\n",
      "              'total_kappa_rot': 0.26159632205963135 dimensionless},\n",
      " 'sfr': 0.0 Msun/yr,\n",
      " 'sfr_100': 100.10129408 Msun/yr,\n",
      " 'slist_end': 32875,\n",
      " 'slist_start': 0,\n",
      " 'temperatures': {'mass_weighted': 0.0 K,\n",
      "                  'mass_weighted_cgm': 30209.12890625 K,\n",
      "                  'metal_weighted_cgm': 0.0 K},\n",
      " 'vel': YTArray([-158.17041016,   77.79779816,  324.68933105]) km/s,\n",
      " 'velocity_dispersions': {'baryon': 1098.76220703125 km/s,\n",
      "                          'bh_50kpc': 655.9752278491422 km/s,\n",
      "                          'bh_stellar_half_mass_radius': 0.0 km/s,\n",
      "                          'dm': 1926.46728515625 km/s,\n",
      "                          'dm2_50kpc': 0.0 km/s,\n",
      "                          'dm2_stellar_half_mass_radius': 0.0 km/s,\n",
      "                          'dm3_50kpc': 0.0 km/s,\n",
      "                          'dm3_stellar_half_mass_radius': 0.0 km/s,\n",
      "                          'dm_50kpc': 794.3497598698816 km/s,\n",
      "                          'dm_stellar_half_mass_radius': 734.858466190648 km/s,\n",
      "                          'gas': 298.84161376953125 km/s,\n",
      "                          'gas_50kpc': 306.80835621209684 km/s,\n",
      "                          'gas_stellar_half_mass_radius': 312.60404766788514 km/s,\n",
      "                          'star_50kpc': 408.42449300180357 km/s,\n",
      "                          'star_stellar_half_mass_radius': 336.3113795610024 km/s,\n",
      "                          'stellar': 1099.172607421875 km/s,\n",
      "                          'total': 1098.76220703125 km/s}}\n"
     ]
    }
   ],
   "source": [
    "ds.galaxies[0].info()"
   ]
  }
 ],
 "metadata": {
  "kernelspec": {
   "display_name": "Python 3",
   "language": "python",
   "name": "python3"
  },
  "language_info": {
   "codemirror_mode": {
    "name": "ipython",
    "version": 3
   },
   "file_extension": ".py",
   "mimetype": "text/x-python",
   "name": "python",
   "nbconvert_exporter": "python",
   "pygments_lexer": "ipython3",
   "version": "3.8.10"
  }
 },
 "nbformat": 4,
 "nbformat_minor": 4
}
